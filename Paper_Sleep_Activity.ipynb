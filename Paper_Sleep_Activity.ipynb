{
 "cells": [
  {
   "cell_type": "markdown",
   "id": "collect-empty",
   "metadata": {},
   "source": [
    "# Plot Sleep and Waking Activity"
   ]
  },
  {
   "cell_type": "markdown",
   "id": "naughty-advancement",
   "metadata": {},
   "source": [
    "This code will take the csv output files from Matlab and plot the sleep and waking activities of fish over the time span determined in Matlab (mostly 24 hours) as line plots. Additionally, it will make bar graphs to compare the mean time spent sleeping/awake during the different times of day and compute the statistics."
   ]
  },
  {
   "cell_type": "markdown",
   "id": "narrow-times",
   "metadata": {},
   "source": [
    "### Import libraries"
   ]
  },
  {
   "cell_type": "code",
   "execution_count": 23,
   "id": "egyptian-anthony",
   "metadata": {},
   "outputs": [],
   "source": [
    "import pandas as pd\n",
    "import matplotlib.pyplot as plt\n",
    "import numpy as np\n",
    "import seaborn as sns\n",
    "import statistics as stats\n",
    "import scipy.stats as ss\n",
    "from statsmodels.stats.multicomp import pairwise_tukeyhsd\n",
    "from pathlib import Path"
   ]
  },
  {
   "cell_type": "markdown",
   "id": "fabulous-apple",
   "metadata": {},
   "source": [
    "## Repetition with ABs @LIN"
   ]
  },
  {
   "cell_type": "markdown",
   "id": "objective-european",
   "metadata": {},
   "source": [
    "### Sleep Deprivation"
   ]
  },
  {
   "cell_type": "code",
   "execution_count": 25,
   "id": "cloudy-marketplace",
   "metadata": {},
   "outputs": [
    {
     "name": "stdout",
     "output_type": "stream",
     "text": [
      "     0   1   2   3   4   5   6   7   8   9   ...  14  15  16  17  18  19  20  \\\n",
      "0     0   0   0   0   1   0   5   0   0   0  ...   0   0   0   3   0   0   0   \n",
      "1     0   0   0   0   0   0   4   0   0   0  ...   0   0   0   4   0   0   0   \n",
      "2     0   0   0   0   0   0   5   0   0   0  ...   0   0   0   1   0   0   0   \n",
      "3     0   0   0   0   0   0   4   0   0   0  ...   0   0   0   0   0   0   0   \n",
      "4     0   0   0   0   0   0   5   0   0   0  ...   0   0   0   4   0   0   0   \n",
      "..   ..  ..  ..  ..  ..  ..  ..  ..  ..  ..  ...  ..  ..  ..  ..  ..  ..  ..   \n",
      "139   0   1   0   4   0   2   1   1   0   0  ...   0   8   7   9   5   0   6   \n",
      "140   0   0   0   1   0   1   2   0   0   0  ...   0   0   6   7   6   3   5   \n",
      "141   2   0   0   2   0   1   1   0   0   0  ...   1   0   0   7   1  10   8   \n",
      "142   1   0   0   1   0   1   2   7   1   1  ...   3   0   8   2   0   8   7   \n",
      "143   1   2   0   2   0   5   1   3   0   0  ...   0   1   9   9   0   9   8   \n",
      "\n",
      "     21  22  23  \n",
      "0     0   0   8  \n",
      "1     0   0   9  \n",
      "2     0   0   8  \n",
      "3     0   0   6  \n",
      "4     0   0   9  \n",
      "..   ..  ..  ..  \n",
      "139   3   3   6  \n",
      "140   0   1   7  \n",
      "141   9   1   5  \n",
      "142  10  10  10  \n",
      "143   8  10   9  \n",
      "\n",
      "[144 rows x 24 columns]\n",
      "     0   1   2   3   4   5   6   7   8   9   ...  14  15  16  17  18  19  20  \\\n",
      "0     0   0   0   0   0   0   0   0   0   0  ...   0   0   0   0   0   0   0   \n",
      "1     0   0   0   0   0   0   0   0   0   0  ...   0   0   0   0   0   0   0   \n",
      "2     0   0   0   0   0   0   0   0   0   0  ...   0   0   0   0   0   0   0   \n",
      "3     0   0   0   0   0   0   2   0   0   0  ...   0   0   0   0   0   0   0   \n",
      "4     0   0   0   0   0   0   0   0   0   0  ...   0   0   0   0   0   0   0   \n",
      "..   ..  ..  ..  ..  ..  ..  ..  ..  ..  ..  ...  ..  ..  ..  ..  ..  ..  ..   \n",
      "137   0   0   4   0   5   3  10   2   1   0  ...   0   0   0   0   1   0   1   \n",
      "138   4   0   0   0   6   1  10   0   0   3  ...   1   1   0   4   5   1   3   \n",
      "139   6   3   0   0   7   3   7   0   0   4  ...   0   4   0   7   9   1  10   \n",
      "140   5   1   0   0   3   5   7   0   1   9  ...   0   8   0   6   1   0   7   \n",
      "141   8   0   0   0   3   0   5   0   0   8  ...   1   0   0   0   0   0   0   \n",
      "\n",
      "     21  22  23  \n",
      "0     0   0   0  \n",
      "1     0   0   0  \n",
      "2     0   0   0  \n",
      "3     0   0   0  \n",
      "4     0   0   0  \n",
      "..   ..  ..  ..  \n",
      "137   0   0  10  \n",
      "138   0   0  10  \n",
      "139   8   3   1  \n",
      "140  10   1   1  \n",
      "141   0   0   2  \n",
      "\n",
      "[142 rows x 24 columns]\n",
      "     0   1   2   3   4   5   6   7   8   9   ...  14  15  16  17  18  19  20  \\\n",
      "0     0   0   0   0   0   0   0   0   0   0  ...   0   0   0   0   0   0  10   \n",
      "1     0   0   0   0   0   0   0   0   0   0  ...   0   0   0   0   0   0  10   \n",
      "2     0   0   0   0   0   1   0   0   0   0  ...   0   0   0   0   0   0  10   \n",
      "3     0   0   0   0   0   0   0   0   0   0  ...   0   0   0   0   0   0  10   \n",
      "4     0   0   0   0   0   0   0   0   0   0  ...   0   0   0   0   0   0  10   \n",
      "..   ..  ..  ..  ..  ..  ..  ..  ..  ..  ..  ...  ..  ..  ..  ..  ..  ..  ..   \n",
      "137  10  10   8  10   2   0  10   6   8   3  ...   0  10  10   5   0  10   6   \n",
      "138   8  10   4   9   8   3   9   1   7   5  ...   0   9   6   5   1  10   9   \n",
      "139   9   9   8   4   8   3  10   0   5  10  ...   0  10  10   4   0  10  10   \n",
      "140   8  10   3  10   6  10  10   1   7   3  ...   1   5  10   2   1  10  10   \n",
      "141   9   9   0   8   9   9   9   8   7   3  ...   1   0   5   1   0   4   9   \n",
      "\n",
      "     21  22  23  \n",
      "0     0   0   0  \n",
      "1     0   0   0  \n",
      "2     0   0   0  \n",
      "3     0   0   0  \n",
      "4     0   1   0  \n",
      "..   ..  ..  ..  \n",
      "137   9  10   0  \n",
      "138   9  10  10  \n",
      "139   7  10   7  \n",
      "140   0  10   1  \n",
      "141   3   9   0  \n",
      "\n",
      "[142 rows x 24 columns]\n"
     ]
    }
   ],
   "source": [
    "### Control 1\n",
    "df_output_binned_act_ctrl_1 = pd.read_csv(r\"D:\\Sleep_deprivation_data\\Analyzed_SD_forCFOS\\2025_5_19_SD_Chiara\\2025_5_19_Control_Box1\\output_binned_act_ctrl.csv\", header=None)\n",
    "#print(df_output_binned_act_ctrl_1)\n",
    "\n",
    "df_output_binned_rest_ctrl_1 = pd.read_csv(r\"D:\\Sleep_deprivation_data\\Analyzed_SD_forCFOS\\2025_5_19_SD_Chiara\\2025_5_19_Control_Box1\\output_binned_rest_ctrl.csv\",header=None)\n",
    "print(df_output_binned_rest_ctrl_1)\n",
    "\n",
    "df_output_binned_wakeAct_ctrl_1 = pd.read_csv(r\"D:\\Sleep_deprivation_data\\Analyzed_SD_forCFOS\\2025_5_19_SD_Chiara\\2025_5_19_Control_Box1\\output_binned_wakeAct_ctrl.csv\",header=None)\n",
    "#print(df_output_binned_wakeAct_ctrl.head())\n",
    "\n",
    "\n",
    "### Control 2\n",
    "df_output_binned_act_ctrl_2 =pd.read_csv(r\"D:\\Sleep_deprivation_data\\Analyzed_SD_forCFOS\\2025_06_16_SD_Chiara\\2025_06_16_Control_Box1\\output_binned_act_ctrl.csv\", header=None)\n",
    "#print(df_output_binned_act_ctrl_2)\n",
    "\n",
    "df_output_binned_rest_ctrl_2 = pd.read_csv(r\"D:\\Sleep_deprivation_data\\Analyzed_SD_forCFOS\\2025_06_16_SD_Chiara\\2025_06_16_Control_Box1\\output_binned_rest_ctrl.csv\",header=None)\n",
    "print(df_output_binned_rest_ctrl_2)\n",
    "\n",
    "df_output_binned_wakeAct_ctrl_2 = pd.read_csv(r\"D:\\Sleep_deprivation_data\\Analyzed_SD_forCFOS\\2025_06_16_SD_Chiara\\2025_06_16_Control_Box1\\output_binned_wakeAct_ctrl.csv\",header=None)\n",
    "#print(df_output_binned_wakeAct_ctrl.head())\n",
    "\n",
    "\n",
    "### Control 3\n",
    "df_output_binned_act_ctrl_3 =pd.read_csv(r\"D:\\Sleep_deprivation_data\\Analyzed_SD_forCFOS\\2025_06_30_SD_Chiara\\2025_06_30_Control_Box1\\output_binned_act_ctrl.csv\", header=None)\n",
    "#print(df_output_binned_act_ctrl_3)\n",
    "\n",
    "df_output_binned_rest_ctrl_3 = pd.read_csv(r\"D:\\Sleep_deprivation_data\\Analyzed_SD_forCFOS\\2025_06_30_SD_Chiara\\2025_06_30_Control_Box1\\output_binned_rest_ctrl.csv\",header=None)\n",
    "print(df_output_binned_rest_ctrl_3\n",
    "\n",
    "df_output_binned_wakeAct_ctrl_3 = pd.read_csv(r\"D:\\Sleep_deprivation_data\\Analyzed_SD_forCFOS\\2025_06_30_SD_Chiara\\2025_06_30_Control_Box1\\output_binned_wakeAct_ctrl.csv\",header=None)\n",
    "#print(df_output_binned_wakeAct_ctrl.head())\n",
    "\n",
    "\n",
    "### Control 4\n",
    "df_output_binned_act_ctrl_4 =pd.read_csv(r\"\\\\linstore01\\home\\cbriziol\\Chiara\\Sleep_deprivation\\2025_06_27_SD_Chiara\\2025_06_27_Control_Box1\\output_binned_act_ctrl.csv\", header=None)\n",
    "#print(df_output_binned_act_ctrl_2)\n",
    "\n",
    "df_output_binned_rest_ctrl_4 = pd.read_csv(r\"\\\\linstore01\\home\\cbriziol\\Chiara\\Sleep_deprivation\\2025_06_27_SD_Chiara\\2025_06_27_Control_Box1\\output_binned_rest_ctrl.csv\",header=None)\n",
    "#print(df_output_binned_rest_ctrl.head())\n",
    "\n",
    "df_output_binned_wakeAct_ctrl_4 = pd.read_csv(r\"\\\\linstore01\\home\\cbriziol\\Chiara\\Sleep_deprivation\\2025_06_27_SD_Chiara\\2025_06_27_Control_Box1\\output_binned_wakeAct_ctrl.csv\",header=None)\n",
    "#print(df_output_binned_wakeAct_ctrl.head())"
   ]
  },
  {
   "cell_type": "code",
   "execution_count": 97,
   "id": "about-riding",
   "metadata": {},
   "outputs": [],
   "source": [
    "# Light Pulses 1\n",
    "df_output_binned_act_lp_1=pd.read_csv(r\"\\\\linstore01\\home\\cbriziol\\Chiara\\Sleep_deprivation\\2025_06_02_SD_Chiara\\2025_06_02_LP_Box2\\output_binned_act_ctrl.csv\",header=None)\n",
    "#print(df_output_binned_act_con_1)\n",
    "\n",
    "df_output_binned_rest_lp_1 = pd.read_csv(r\"\\\\linstore01\\home\\cbriziol\\Chiara\\Sleep_deprivation\\2025_06_02_SD_Chiara\\2025_06_02_LP_Box2\\output_binned_rest_ctrl.csv\",header=None)\n",
    "#print(df_output_binned_act_lp_1)\n",
    "\n",
    "df_output_binned_wakeAct_lp_1 = pd.read_csv(r\"\\\\linstore01\\home\\cbriziol\\Chiara\\Sleep_deprivation\\2025_06_02_SD_Chiara\\2025_06_02_LP_Box2\\output_binned_wakeAct_ctrl.csv\",header=None)\n",
    "#print(df_output_binned_wakeAct_con.head())\n",
    "\n",
    "\n",
    "# Light Pulses 2\n",
    "df_output_binned_act_lp_2=pd.read_csv(r\"\\\\linstore01\\home\\cbriziol\\Chiara\\Sleep_deprivation\\2025_06_03_SD_Chiara\\2025_06_03_LP_Box2\\output_binned_act_ctrl.csv\",header=None)\n",
    "#print(df_output_binned_act_lp_2)\n",
    "\n",
    "df_output_binned_rest_lp_2 = pd.read_csv(r\"\\\\linstore01\\home\\cbriziol\\Chiara\\Sleep_deprivation\\2025_06_03_SD_Chiara\\2025_06_03_LP_Box2\\output_binned_rest_ctrl.csv\",header=None)\n",
    "#print(df_output_binned_rest_con.head())\n",
    "\n",
    "df_output_binned_wakeAct_lp_2 = pd.read_csv(r\"\\\\linstore01\\home\\cbriziol\\Chiara\\Sleep_deprivation\\2025_06_03_SD_Chiara\\2025_06_03_LP_Box2\\output_binned_wakeAct_ctrl.csv\",header=None)\n",
    "#print(df_output_binned_wakeAct_con.head())\n",
    "\n",
    "\n",
    "\n",
    "# Light Pulses 3\n",
    "df_output_binned_act_lp_3=pd.read_csv(r\"\\\\linstore01\\home\\cbriziol\\Chiara\\Sleep_deprivation\\2025_06_05_SD_Chiara\\2025_06_05_LP_Box2\\output_binned_act_ctrl.csv\",header=None)\n",
    "#print(df_output_binned_act_con_1)\n",
    "\n",
    "df_output_binned_rest_lp_3 = pd.read_csv(r\"\\\\linstore01\\home\\cbriziol\\Chiara\\Sleep_deprivation\\2025_06_05_SD_Chiara\\2025_06_05_LP_Box2\\output_binned_rest_ctrl.csv\",header=None)\n",
    "#print(df_output_binned_act_lp_1)\n",
    "\n",
    "df_output_binned_wakeAct_lp_3 = pd.read_csv(r\"\\\\linstore01\\home\\cbriziol\\Chiara\\Sleep_deprivation\\2025_06_05_SD_Chiara\\2025_06_05_LP_Box2\\output_binned_wakeAct_ctrl.csv\",header=None)\n",
    "#print(df_output_binned_wakeAct_con.head())\n",
    "\n",
    "\n",
    "\n",
    "# Light Pulses 4\n",
    "df_output_binned_act_lp_4=pd.read_csv(r\"\\\\linstore01\\home\\cbriziol\\Chiara\\Sleep_deprivation\\2025_06_27_SD_Chiara\\2025_06_27_LP_Box2\\output_binned_act_ctrl.csv\",header=None)\n",
    "#print(df_output_binned_act_lp_2)\n",
    "\n",
    "df_output_binned_rest_lp_4 = pd.read_csv(r\"\\\\linstore01\\home\\cbriziol\\Chiara\\Sleep_deprivation\\2025_06_27_SD_Chiara\\2025_06_27_LP_Box2\\output_binned_rest_ctrl.csv\",header=None)\n",
    "#print(df_output_binned_rest_con.head())\n",
    "\n",
    "\n",
    "df_output_binned_wakeAct_lp_4 = pd.read_csv(r\"\\\\linstore01\\home\\cbriziol\\Chiara\\Sleep_deprivation\\2025_06_27_SD_Chiara\\2025_06_27_LP_Box2\\output_binned_wakeAct_ctrl.csv\",header=None)\n",
    "#print(df_output_binned_wakeAct_con.head())\n"
   ]
  },
  {
   "cell_type": "code",
   "execution_count": 3,
   "id": "91bd55ab-efbe-45c5-9d98-c755636cfd9c",
   "metadata": {},
   "outputs": [
    {
     "name": "stdout",
     "output_type": "stream",
     "text": [
      "           0       1         2        3        4        5       6       7   \\\n",
      "0     97.2730  72.455  129.5500  33.9090  46.6360  18.8180  42.727  51.364   \n",
      "1    108.0900  81.909  102.5500  31.4550  27.3640  38.8180  38.000  35.091   \n",
      "2     93.5450  80.818  108.0000  22.3640  13.6360  36.9090  33.091  39.545   \n",
      "3     82.9090  79.545  119.2700  21.6360  13.7270  41.4550  46.364  41.182   \n",
      "4     92.5450  69.273  107.8200  24.9090  34.4550  32.0910  21.000  43.455   \n",
      "..        ...     ...       ...      ...      ...      ...     ...     ...   \n",
      "139   18.3640  30.636   13.6360   9.9091   8.8182   7.1818  26.000  13.636   \n",
      "140    2.8182  39.273   11.0910   4.0000  23.6360  11.7270  20.545  19.182   \n",
      "141   20.0910  16.727    8.9091   5.3636   4.0000  19.8180  33.909  19.727   \n",
      "142    4.7273  22.273    9.0909  10.0910   9.2727   7.8182  20.000  10.636   \n",
      "143    6.3636  28.273   18.0910  11.9090  10.5450   5.9091  22.727  10.545   \n",
      "\n",
      "         8        9   ...      14      15        16       17        18  \\\n",
      "0    60.091   1.7273  ...  51.545  57.364  45.54500  16.4550  3.909100   \n",
      "1    53.636   2.5455  ...  47.545  49.818  57.18200  18.7270  0.727270   \n",
      "2    56.273   3.0000  ...  43.364  37.364  51.27300  26.2730  0.000000   \n",
      "3    66.182   3.6364  ...  46.091  52.364  40.18200  13.1820  1.181800   \n",
      "4    65.273   6.0000  ...  52.818  48.091  63.27300  38.0000  0.363640   \n",
      "..      ...      ...  ...     ...     ...       ...      ...       ...   \n",
      "139  27.545  23.0000  ...  22.364  21.273  15.81800  17.1820  0.272730   \n",
      "140  24.091  26.8180  ...  23.364  14.091  18.45500  16.8180  0.363640   \n",
      "141  26.273  27.0910  ...  15.545  22.455  21.63600  20.3640  0.000000   \n",
      "142  27.545  21.0910  ...  15.727  29.545  16.72700   3.2727  0.181820   \n",
      "143  24.727  78.4550  ...  17.545  14.636   0.27273   8.0909  0.090909   \n",
      "\n",
      "         19       20      21      22       23  \n",
      "0    25.091  61.0000  38.909  17.545   79.364  \n",
      "1    22.727  59.1820  16.909  22.000  106.550  \n",
      "2    28.364  86.4550  16.545  16.636  108.360  \n",
      "3    35.091  62.8180  23.636  18.455  125.360  \n",
      "4    31.273  25.6360  52.455  27.364  108.180  \n",
      "..      ...      ...     ...     ...      ...  \n",
      "139  18.727  15.0000  14.364  45.000   66.909  \n",
      "140  22.091  12.9090  21.727  33.182   35.818  \n",
      "141  21.000  13.0910  17.273  38.909   22.182  \n",
      "142  24.364  11.8180  15.727  29.182   34.455  \n",
      "143  24.273   6.0909  16.182  25.091   17.455  \n",
      "\n",
      "[144 rows x 24 columns]\n",
      "        0     1     2     3      4     5     6      7     8      9   ...  \\\n",
      "0    102.9  23.3  56.7  99.5  118.4  89.1  70.1   89.9  89.9  133.5  ...   \n",
      "1    113.3  20.6  62.4  84.3  108.9  70.7  73.7  104.3  78.3  137.1  ...   \n",
      "2    108.5  37.9  75.3  72.5  120.5  69.7  72.5   98.3  81.5  134.1  ...   \n",
      "3     94.4  25.5  67.7  65.4  122.8  79.3  83.4   87.1  91.7  125.5  ...   \n",
      "4     95.5  24.9  43.9  68.8  125.3  76.3  72.6   78.3  92.8  132.5  ...   \n",
      "..     ...   ...   ...   ...    ...   ...   ...    ...   ...    ...  ...   \n",
      "145   29.6  16.2   7.9   9.0   24.5  13.1  33.5   15.5  20.9   25.0  ...   \n",
      "146   20.4  11.8  15.2  10.1   20.8  25.6  31.0    8.8  16.4   15.3  ...   \n",
      "147   16.2  13.3  13.4   9.7   26.7  15.7  31.5   12.0  15.8   34.9  ...   \n",
      "148   13.1  13.2   5.6  12.0   13.2  20.2  40.0    9.4  10.2   39.8  ...   \n",
      "149   13.8   8.7   1.0   7.0   28.1  16.4  40.5   23.3  21.8   27.1  ...   \n",
      "\n",
      "       14    15     16     17     18    19    20    21    22    23  \n",
      "0    39.8  81.4  146.4  185.9   99.6  64.0  62.4  74.9  70.4  80.5  \n",
      "1    74.4  65.6  144.9  180.9  125.9  56.4  56.4  59.4  64.9  49.2  \n",
      "2    88.0  81.8  138.4  186.1  105.8  27.7  70.0  47.8  98.3  85.1  \n",
      "3    56.7  87.9  153.4  187.8  145.6  39.4  52.1  38.3  74.2  52.0  \n",
      "4    65.6  92.6  169.5  174.8  143.2  42.1  75.9  34.3  85.8  70.5  \n",
      "..    ...   ...    ...    ...    ...   ...   ...   ...   ...   ...  \n",
      "145  17.7  17.4   47.9   36.0   42.0  28.6  20.4  24.6  21.4  15.3  \n",
      "146  10.2  14.8   51.9   27.9   33.0  11.1  17.9  22.5   4.1   9.9  \n",
      "147  14.8  19.9   37.7   34.4   24.1  10.5  20.9  23.4   8.0  14.4  \n",
      "148  14.2  25.4   40.8   83.4   52.8  23.4  28.2  22.5  11.3  12.1  \n",
      "149  19.6  25.1   38.9   33.8   43.7  16.5  19.2  28.2  14.4   7.9  \n",
      "\n",
      "[150 rows x 24 columns]\n",
      "           0       1         2        3        4        5       6       7   \\\n",
      "0     97.2730  72.455  129.5500  33.9090  46.6360  18.8180  42.727  51.364   \n",
      "1    108.0900  81.909  102.5500  31.4550  27.3640  38.8180  38.000  35.091   \n",
      "2     93.5450  80.818  108.0000  22.3640  13.6360  36.9090  33.091  39.545   \n",
      "3     82.9090  79.545  119.2700  21.6360  13.7270  41.4550  46.364  41.182   \n",
      "4     92.5450  69.273  107.8200  24.9090  34.4550  32.0910  21.000  43.455   \n",
      "..        ...     ...       ...      ...      ...      ...     ...     ...   \n",
      "139   18.3640  30.636   13.6360   9.9091   8.8182   7.1818  26.000  13.636   \n",
      "140    2.8182  39.273   11.0910   4.0000  23.6360  11.7270  20.545  19.182   \n",
      "141   20.0910  16.727    8.9091   5.3636   4.0000  19.8180  33.909  19.727   \n",
      "142    4.7273  22.273    9.0909  10.0910   9.2727   7.8182  20.000  10.636   \n",
      "143    6.3636  28.273   18.0910  11.9090  10.5450   5.9091  22.727  10.545   \n",
      "\n",
      "         8        9   ...      14      15        16       17        18  \\\n",
      "0    60.091   1.7273  ...  51.545  57.364  45.54500  16.4550  3.909100   \n",
      "1    53.636   2.5455  ...  47.545  49.818  57.18200  18.7270  0.727270   \n",
      "2    56.273   3.0000  ...  43.364  37.364  51.27300  26.2730  0.000000   \n",
      "3    66.182   3.6364  ...  46.091  52.364  40.18200  13.1820  1.181800   \n",
      "4    65.273   6.0000  ...  52.818  48.091  63.27300  38.0000  0.363640   \n",
      "..      ...      ...  ...     ...     ...       ...      ...       ...   \n",
      "139  27.545  23.0000  ...  22.364  21.273  15.81800  17.1820  0.272730   \n",
      "140  24.091  26.8180  ...  23.364  14.091  18.45500  16.8180  0.363640   \n",
      "141  26.273  27.0910  ...  15.545  22.455  21.63600  20.3640  0.000000   \n",
      "142  27.545  21.0910  ...  15.727  29.545  16.72700   3.2727  0.181820   \n",
      "143  24.727  78.4550  ...  17.545  14.636   0.27273   8.0909  0.090909   \n",
      "\n",
      "         19       20      21      22       23  \n",
      "0    25.091  61.0000  38.909  17.545   79.364  \n",
      "1    22.727  59.1820  16.909  22.000  106.550  \n",
      "2    28.364  86.4550  16.545  16.636  108.360  \n",
      "3    35.091  62.8180  23.636  18.455  125.360  \n",
      "4    31.273  25.6360  52.455  27.364  108.180  \n",
      "..      ...      ...     ...     ...      ...  \n",
      "139  18.727  15.0000  14.364  45.000   66.909  \n",
      "140  22.091  12.9090  21.727  33.182   35.818  \n",
      "141  21.000  13.0910  17.273  38.909   22.182  \n",
      "142  24.364  11.8180  15.727  29.182   34.455  \n",
      "143  24.273   6.0909  16.182  25.091   17.455  \n",
      "\n",
      "[144 rows x 24 columns]\n"
     ]
    }
   ],
   "source": [
    "# Continuous light 1\n",
    "df_output_binned_act_cont_1=pd.read_csv(r\"D:\\Sleep_deprivation_data\\Analyzed_SD_forCFOS\\2025_5_19_SD_Chiara\\2025_5_19_Continuous_Box4\\output_binned_act_ctrl.csv\",header=None)\n",
    "#print(df_output_binned_act_con_1)\n",
    "\n",
    "df_output_binned_rest_cont_1 = pd.read_csv(r\"D:\\Sleep_deprivation_data\\Analyzed_SD_forCFOS\\2025_5_19_SD_Chiara\\2025_5_19_Continuous_Box4\\output_binned_rest_ctrl.csv\",header=None)\n",
    "print(df_output_binned_act_cont_1)\n",
    "\n",
    "df_output_binned_wakeAct_cont_1 = pd.read_csv(r\"D:\\Sleep_deprivation_data\\Analyzed_SD_forCFOS\\2025_5_19_SD_Chiara\\2025_5_19_Continuous_Box4\\output_binned_wakeAct_ctrl.csv\",header=None)\n",
    "#print(df_output_binned_wakeAct_con.head())\n",
    "\n",
    "# Continuous light 2\n",
    "df_output_binned_act_cont_2=pd.read_csv(r\"D:\\Sleep_deprivation_data\\Analyzed_SD_forCFOS\\2025_06_16_SD_Chiara\\2025_06_16_ContinuousLight_Box4\\output_binned_act_ctrl.csv\",header=None)\n",
    "print(df_output_binned_act_cont_2)\n",
    "\n",
    "df_output_binned_rest_cont_2 = pd.read_csv(r\"D:\\Sleep_deprivation_data\\Analyzed_SD_forCFOS\\2025_06_16_SD_Chiara\\2025_06_16_ContinuousLight_Box4\\output_binned_rest_ctrl.csv\",header=None)\n",
    "#print(df_output_binned_rest_con.head())\n",
    "\n",
    "df_output_binned_wakeAct_cont_2 = pd.read_csv(r\"D:\\Sleep_deprivation_data\\Analyzed_SD_forCFOS\\2025_06_16_SD_Chiara\\2025_06_16_ContinuousLight_Box4\\output_binned_wakeAct_ctrl.csv\",header=None)\n",
    "#print(df_output_binned_wakeAct_con.head())\n",
    "\n",
    "\n",
    "# Continuous light 3\n",
    "df_output_binned_act_cont_3=pd.read_csv(r\"D:\\Sleep_deprivation_data\\Analyzed_SD_forCFOS\\2025_06_30_SD_Chiara\\2025_06_30_ContinuousLight_Box4\\output_binned_act_ctrl.csv\",header=None)\n",
    "#print(df_output_binned_act_con_1)\n",
    "\n",
    "df_output_binned_rest_cont_3 = pd.read_csv(r\"D:\\Sleep_deprivation_data\\Analyzed_SD_forCFOS\\2025_06_30_SD_Chiara\\2025_06_30_ContinuousLight_Box4\\output_binned_rest_ctrl.csv\",header=None)\n",
    "print(df_output_binned_act_cont_1)\n",
    "\n",
    "df_output_binned_wakeAct_cont_3 = pd.read_csv(r\"D:\\Sleep_deprivation_data\\Analyzed_SD_forCFOS\\2025_06_30_SD_Chiara\\2025_06_30_ContinuousLight_Box4\\output_binned_wakeAct_ctrl.csv\",header=None)\n",
    "#print(df_output_binned_wakeAct_con.head())\n",
    "\n",
    "# Continuous light 4\n",
    "df_output_binned_act_cont_4=pd.read_csv(r\"\\\\linstore01\\home\\cbriziol\\Chiara\\Sleep_deprivation\\2025_06_27_SD_Chiara\\2025_06_27_ContinuousLight_Box4\\output_binned_act_ctrl.csv\",header=None)\n",
    "#print(df_output_binned_act_cont_2)\n",
    "\n",
    "df_output_binned_rest_cont_4 = pd.read_csv(r\"\\\\linstore01\\home\\cbriziol\\Chiara\\Sleep_deprivation\\2025_06_27_SD_Chiara\\2025_06_27_ContinuousLight_Box4\\output_binned_rest_ctrl.csv\",header=None)\n",
    "#print(df_output_binned_rest_con.head())\n",
    "\n",
    "df_output_binned_wakeAct_cont_4 = pd.read_csv(r\"\\\\linstore01\\home\\cbriziol\\Chiara\\Sleep_deprivation\\2025_06_27_SD_Chiara\\2025_06_27_ContinuousLight_Box4\\output_binned_wakeAct_ctrl.csv\",header=None)\n",
    "#print(df_output_binned_wakeAct_con.head())\n"
   ]
  },
  {
   "cell_type": "code",
   "execution_count": 26,
   "id": "69f8ec54-afaa-467d-8e88-c4f98b1f569e",
   "metadata": {},
   "outputs": [
    {
     "name": "stdout",
     "output_type": "stream",
     "text": [
      "     0   1   2   3   4   5   6   7   8   9   ...  14  15  16  17  18  19  20  \\\n",
      "0     0   0   0   0   1   0   5   0   0   0  ...   0   0   0   3   0   0   0   \n",
      "1     0   0   0   0   0   0   4   0   0   0  ...   0   0   0   4   0   0   0   \n",
      "2     0   0   0   0   0   0   5   0   0   0  ...   0   0   0   1   0   0   0   \n",
      "3     0   0   0   0   0   0   4   0   0   0  ...   0   0   0   0   0   0   0   \n",
      "4     0   0   0   0   0   0   5   0   0   0  ...   0   0   0   4   0   0   0   \n",
      "..   ..  ..  ..  ..  ..  ..  ..  ..  ..  ..  ...  ..  ..  ..  ..  ..  ..  ..   \n",
      "139   0   1   0   4   0   2   1   1   0   0  ...   0   8   7   9   5   0   6   \n",
      "140   0   0   0   1   0   1   2   0   0   0  ...   0   0   6   7   6   3   5   \n",
      "141   2   0   0   2   0   1   1   0   0   0  ...   1   0   0   7   1  10   8   \n",
      "142   1   0   0   1   0   1   2   7   1   1  ...   3   0   8   2   0   8   7   \n",
      "143   1   2   0   2   0   5   1   3   0   0  ...   0   1   9   9   0   9   8   \n",
      "\n",
      "     21  22  23  \n",
      "0     0   0   8  \n",
      "1     0   0   9  \n",
      "2     0   0   8  \n",
      "3     0   0   6  \n",
      "4     0   0   9  \n",
      "..   ..  ..  ..  \n",
      "139   3   3   6  \n",
      "140   0   1   7  \n",
      "141   9   1   5  \n",
      "142  10  10  10  \n",
      "143   8  10   9  \n",
      "\n",
      "[144 rows x 24 columns]\n",
      "     0   1   2   3   4   5   6   7   8   9   ...  14  15  16  17  18  19  20  \\\n",
      "0     0   0   0   0   1   0   5   0   0   0  ...   0   0   0   3   0   0   0   \n",
      "1     0   0   0   0   0   0   4   0   0   0  ...   0   0   0   4   0   0   0   \n",
      "2     0   0   0   0   0   0   5   0   0   0  ...   0   0   0   1   0   0   0   \n",
      "3     0   0   0   0   0   0   4   0   0   0  ...   0   0   0   0   0   0   0   \n",
      "4     0   0   0   0   0   0   5   0   0   0  ...   0   0   0   4   0   0   0   \n",
      "..   ..  ..  ..  ..  ..  ..  ..  ..  ..  ..  ...  ..  ..  ..  ..  ..  ..  ..   \n",
      "139   0   1   0   4   0   2   1   1   0   0  ...   0   8   7   9   5   0   6   \n",
      "140   0   0   0   1   0   1   2   0   0   0  ...   0   0   6   7   6   3   5   \n",
      "141   2   0   0   2   0   1   1   0   0   0  ...   1   0   0   7   1  10   8   \n",
      "142   1   0   0   1   0   1   2   7   1   1  ...   3   0   8   2   0   8   7   \n",
      "143   1   2   0   2   0   5   1   3   0   0  ...   0   1   9   9   0   9   8   \n",
      "\n",
      "     21  22  23  \n",
      "0     0   0   8  \n",
      "1     0   0   9  \n",
      "2     0   0   8  \n",
      "3     0   0   6  \n",
      "4     0   0   9  \n",
      "..   ..  ..  ..  \n",
      "139   3   3   6  \n",
      "140   0   1   7  \n",
      "141   9   1   5  \n",
      "142  10  10  10  \n",
      "143   8  10   9  \n",
      "\n",
      "[144 rows x 24 columns]\n"
     ]
    }
   ],
   "source": [
    "### Tapping 1\n",
    "df_output_binned_act_tapping_1 =pd.read_csv(r\"D:\\Sleep_deprivation_data\\Analyzed_SD_forCFOS\\2025_5_19_SD_Chiara\\2025_5_19_tapping_box3\\output_binned_act_ctrl.csv\", header=None)\n",
    "#print(df_output_binned_act_ctrl_1)\n",
    "\n",
    "df_output_binned_rest_tapping_1 = pd.read_csv(r\"D:\\Sleep_deprivation_data\\Analyzed_SD_forCFOS\\2025_5_19_SD_Chiara\\2025_5_19_tapping_box3\\output_binned_rest_ctrl.csv\",header=None)\n",
    "print(df_output_binned_rest_ctrl_1)\n",
    "\n",
    "df_output_binned_wakeAct_tapping_1 = pd.read_csv(r\"D:\\Sleep_deprivation_data\\Analyzed_SD_forCFOS\\2025_5_19_SD_Chiara\\2025_5_19_tapping_box3\\output_binned_wakeAct_ctrl.csv\",header=None)\n",
    "#print(df_output_binned_wakeAct_ctrl.head())\n",
    "\n",
    "\n",
    "### Tapping 2\n",
    "df_output_binned_act_tapping_2 =pd.read_csv(r\"D:\\Sleep_deprivation_data\\Analyzed_SD_forCFOS\\2025_06_16_SD_Chiara\\2025_06_16_Tapping_Box3\\output_binned_act_ctrl.csv\", header=None)\n",
    "#print(df_output_binned_act_ctrl_2)\n",
    "\n",
    "df_output_binned_rest_tapping_2 = pd.read_csv(r\"D:\\Sleep_deprivation_data\\Analyzed_SD_forCFOS\\2025_06_16_SD_Chiara\\2025_06_16_Tapping_Box3\\output_binned_rest_ctrl.csv\",header=None)\n",
    "#print(df_output_binned_rest_ctrl.head())\n",
    "\n",
    "df_output_binned_wakeAct_tapping_2 = pd.read_csv(r\"D:\\Sleep_deprivation_data\\Analyzed_SD_forCFOS\\2025_06_16_SD_Chiara\\2025_06_16_Tapping_Box3\\output_binned_wakeAct_ctrl.csv\",header=None)\n",
    "#print(df_output_binned_wakeAct_ctrl.head())\n",
    "\n",
    "\n",
    "### Tapping 3\n",
    "df_output_binned_act_tapping_3 =pd.read_csv(r\"D:\\Sleep_deprivation_data\\Analyzed_SD_forCFOS\\2025_06_30_SD_Chiara\\2025_06_30_Tapping_Box3\\output_binned_act_ctrl.csv\", header=None)\n",
    "#print(df_output_binned_act_ctrl_1)\n",
    "\n",
    "df_output_binned_rest_tapping_3 = pd.read_csv(r\"D:\\Sleep_deprivation_data\\Analyzed_SD_forCFOS\\2025_06_30_SD_Chiara\\2025_06_30_Tapping_Box3\\output_binned_rest_ctrl.csv\",header=None)\n",
    "print(df_output_binned_rest_ctrl_1)\n",
    "\n",
    "df_output_binned_wakeAct_tapping_3 = pd.read_csv(r\"D:\\Sleep_deprivation_data\\Analyzed_SD_forCFOS\\2025_06_30_SD_Chiara\\2025_06_30_Tapping_Box3\\output_binned_wakeAct_ctrl.csv\",header=None)\n",
    "#print(df_output_binned_wakeAct_ctrl.head())\n",
    "\n",
    "\n",
    "### Tapping 4\n",
    "df_output_binned_act_tapping_4=pd.read_csv(r\"\\\\linstore01\\home\\cbriziol\\Chiara\\Sleep_deprivation\\2025_06_27_SD_Chiara\\2025_06_27_Tapping_box3\\output_binned_act_ctrl.csv\", header=None)\n",
    "#print(df_output_binned_act_ctrl_2)\n",
    "\n",
    "df_output_binned_rest_tapping_4 = pd.read_csv(r\"\\\\linstore01\\home\\cbriziol\\Chiara\\Sleep_deprivation\\2025_06_27_SD_Chiara\\2025_06_27_Tapping_box3\\output_binned_rest_ctrl.csv\",header=None)\n",
    "#print(df_output_binned_rest_ctrl.head())\n",
    "\n",
    "df_output_binned_wakeAct_tapping_4= pd.read_csv(r\"\\\\linstore01\\home\\cbriziol\\Chiara\\Sleep_deprivation\\2025_06_27_SD_Chiara\\2025_06_27_Tapping_box3\\output_binned_wakeAct_ctrl.csv\",header=None)\n",
    "#print(df_output_binned_wakeAct_ctrl.head())\n"
   ]
  },
  {
   "cell_type": "code",
   "execution_count": 27,
   "id": "differential-report",
   "metadata": {},
   "outputs": [
    {
     "name": "stdout",
     "output_type": "stream",
     "text": [
      "         0       1        2        3       4        5        6        7   \\\n",
      "0    9.9231  9.5538  14.3380  2.96920  3.6068  2.51540  0.69231  4.56920   \n",
      "1    4.0615  8.1154  14.3000  3.40770  4.2385  2.22310  0.62821  4.66920   \n",
      "2    4.7462  7.9077  13.6080  5.60000  3.6538  2.24620  0.50769  3.70000   \n",
      "3    4.5154  8.2077   9.5154  4.88460  2.8923  3.54620  1.02560  4.40770   \n",
      "4    8.3462  9.6231   6.7923  2.35380  3.7231  3.14620  0.83077  3.84620   \n",
      "..      ...     ...      ...      ...     ...      ...      ...      ...   \n",
      "139  1.9385  1.4274   4.2846  0.48718  5.2462  0.93269  0.95726  0.67521   \n",
      "140  2.0385  5.6538   3.1308  1.25640  6.0615  0.82051  1.58650  0.76154   \n",
      "141  1.4808  1.8923   4.5692  0.75962  4.6538  0.73504  0.98291  0.96923   \n",
      "142  1.4103  1.2692   4.5692  1.00850  5.0308  1.29060  0.92308  1.79490   \n",
      "143  1.8376  2.1442   5.9077  1.30770  5.0615  1.44620  0.68376  1.04400   \n",
      "\n",
      "         8        9   ...       14      15      16       17       18      19  \\\n",
      "0    1.8538  5.57690  ...  11.1830  6.3667  5.6417  3.30000  6.36670  4.9500   \n",
      "1    2.1077  4.53850  ...  11.5330  5.3917  3.5500  2.80000  5.20000  5.5750   \n",
      "2    2.7385  5.66920  ...   9.9750  5.7250  4.2833  3.84170  5.03330  5.6667   \n",
      "3    1.3846  5.58460  ...  10.2250  6.2500  6.4667  1.92500  6.29170  5.5250   \n",
      "4    2.9385  6.13080  ...  10.6080  7.5833  7.1750  2.90000  6.18330  4.1250   \n",
      "..      ...      ...  ...      ...     ...     ...      ...      ...     ...   \n",
      "139  1.1615  1.70000  ...   5.0167  0.0000  0.0000  0.23611  0.61667  0.0000   \n",
      "140  1.1923  0.95385  ...   3.7593  1.4333  0.0000  0.47917  1.04630  0.0000   \n",
      "141  1.7692  1.39230  ...   2.1296  1.4583  1.3333  1.31480  1.42500  2.5139   \n",
      "142  1.4872  1.04270  ...      NaN     NaN     NaN      NaN      NaN     NaN   \n",
      "143  1.4538  1.68460  ...      NaN     NaN     NaN      NaN      NaN     NaN   \n",
      "\n",
      "         20       21      22       23  \n",
      "0    0.0000  7.02500  2.7750  7.16670  \n",
      "1    0.0000  7.05830  3.3083  7.80000  \n",
      "2    0.0000  6.40000  2.5083  6.43330  \n",
      "3    0.0000  5.35830  2.9417  7.09170  \n",
      "4    0.0000  7.50830  2.7407  6.51670  \n",
      "..      ...      ...     ...      ...  \n",
      "139  0.0000  0.13889  0.0000  0.25000  \n",
      "140  0.0000  1.13330  0.0000  0.75926  \n",
      "141  3.1667  0.88095  0.5000  1.31670  \n",
      "142     NaN      NaN     NaN      NaN  \n",
      "143     NaN      NaN     NaN      NaN  \n",
      "\n",
      "[144 rows x 72 columns]\n"
     ]
    }
   ],
   "source": [
    "# concat controls\n",
    "df_Act_control = pd.concat([df_output_binned_act_ctrl_1, df_output_binned_act_ctrl_2, df_output_binned_act_ctrl_3, df_output_binned_act_ctrl_4], axis=1)\n",
    "#print(df_Act_control)\n",
    "\n",
    "df_rest_control = pd.concat([df_output_binned_rest_ctrl_1, df_output_binned_rest_ctrl_2, df_output_binned_rest_ctrl_3, df_output_binned_rest_ctrl_4], axis=1)\n",
    "#print(df_rest_control)\n",
    "\n",
    "df_wakeAct_control = pd.concat([df_output_binned_wakeAct_ctrl_1, df_output_binned_wakeAct_ctrl_2,  df_output_binned_wakeAct_ctrl_3, df_output_binned_wakeAct_ctrl_4], axis=1)\n",
    "print(df_wakeAct_control)"
   ]
  },
  {
   "cell_type": "code",
   "execution_count": 28,
   "id": "controversial-marina",
   "metadata": {
    "scrolled": true
   },
   "outputs": [
    {
     "ename": "NameError",
     "evalue": "name 'df_output_binned_act_lp_1' is not defined",
     "output_type": "error",
     "traceback": [
      "\u001b[1;31m---------------------------------------------------------------------------\u001b[0m",
      "\u001b[1;31mNameError\u001b[0m                                 Traceback (most recent call last)",
      "Cell \u001b[1;32mIn[28], line 3\u001b[0m\n\u001b[0;32m      1\u001b[0m \u001b[38;5;66;03m# concat light pulses\u001b[39;00m\n\u001b[1;32m----> 3\u001b[0m df_Act_lightpulses \u001b[38;5;241m=\u001b[39m pd\u001b[38;5;241m.\u001b[39mconcat([\u001b[43mdf_output_binned_act_lp_1\u001b[49m, df_output_binned_act_lp_2, df_output_binned_act_lp_3, df_output_binned_act_lp_4], axis\u001b[38;5;241m=\u001b[39m\u001b[38;5;241m1\u001b[39m)\n\u001b[0;32m      4\u001b[0m \u001b[38;5;66;03m#print(df_Act_lightpulses)\u001b[39;00m\n\u001b[0;32m      6\u001b[0m df_rest_lightpulses \u001b[38;5;241m=\u001b[39m pd\u001b[38;5;241m.\u001b[39mconcat([df_output_binned_rest_lp_1, df_output_binned_rest_lp_2, df_output_binned_rest_lp_3, df_output_binned_rest_lp_4], axis\u001b[38;5;241m=\u001b[39m\u001b[38;5;241m1\u001b[39m)\n",
      "\u001b[1;31mNameError\u001b[0m: name 'df_output_binned_act_lp_1' is not defined"
     ]
    }
   ],
   "source": [
    "# concat light pulses\n",
    "\n",
    "df_Act_lightpulses = pd.concat([df_output_binned_act_lp_1, df_output_binned_act_lp_2, df_output_binned_act_lp_3, df_output_binned_act_lp_4], axis=1)\n",
    "#print(df_Act_lightpulses)\n",
    "\n",
    "df_rest_lightpulses = pd.concat([df_output_binned_rest_lp_1, df_output_binned_rest_lp_2, df_output_binned_rest_lp_3, df_output_binned_rest_lp_4], axis=1)\n",
    "#print(df_rest_lightpulses)\n",
    "\n",
    "df_wakeAct_lightpulses = pd.concat([df_output_binned_wakeAct_lp_1, df_output_binned_wakeAct_lp_2, df_output_binned_wakeAct_lp_3, df_output_binned_wakeAct_lp_4], axis=1)\n",
    "print(df_wakeAct_lightpulses)"
   ]
  },
  {
   "cell_type": "code",
   "execution_count": 41,
   "id": "9230ba58-a0e8-4991-863f-30130af09dd8",
   "metadata": {},
   "outputs": [
    {
     "name": "stdout",
     "output_type": "stream",
     "text": [
      "144\n"
     ]
    }
   ],
   "source": [
    "stop = len(df_rest_control)\n",
    "df_rest_control = df_rest_control.drop(labels=range(144,stop), axis = 0)\n",
    "print(len(df_rest_control))"
   ]
  },
  {
   "cell_type": "code",
   "execution_count": 42,
   "id": "4362e446-0925-4b14-a665-7fbfc7e84725",
   "metadata": {},
   "outputs": [
    {
     "name": "stdout",
     "output_type": "stream",
     "text": [
      "          0       1       2       3       4       5       6       7       8   \\\n",
      "0     9.7273  7.2455  12.955  3.3909  4.6636  1.8818  4.2727  5.1364  6.0091   \n",
      "1    10.8090  8.1909  10.255  3.1455  3.0404  3.8818  3.8000  3.5091  5.3636   \n",
      "2     9.3545  8.0818  10.800  2.2364  1.5152  3.6909  3.3091  3.9545  5.6273   \n",
      "3     8.2909  7.9545  11.927  2.1636  1.5253  4.1455  4.6364  4.1182  6.6182   \n",
      "4     9.2545  6.9273  10.782  2.4909  3.4455  3.2091  2.3333  4.3455  6.5273   \n",
      "..       ...     ...     ...     ...     ...     ...     ...     ...     ...   \n",
      "145      NaN     NaN     NaN     NaN     NaN     NaN     NaN     NaN     NaN   \n",
      "146      NaN     NaN     NaN     NaN     NaN     NaN     NaN     NaN     NaN   \n",
      "147      NaN     NaN     NaN     NaN     NaN     NaN     NaN     NaN     NaN   \n",
      "148      NaN     NaN     NaN     NaN     NaN     NaN     NaN     NaN     NaN   \n",
      "149      NaN     NaN     NaN     NaN     NaN     NaN     NaN     NaN     NaN   \n",
      "\n",
      "          9   ...     14     15    16     17    18    19     20    21     22  \\\n",
      "0    0.24675  ...   8.26  10.91  6.90  11.36  7.25  5.26   9.21  8.49   8.86   \n",
      "1    0.36364  ...   8.39  10.18  7.35  10.86  5.61  4.23   9.08  8.14  10.25   \n",
      "2    0.50000  ...   9.83   9.82  8.38  11.63  5.67  5.21   9.70  7.64   8.14   \n",
      "3    0.51948  ...  10.28  10.92  7.74  11.22  5.79  4.82  11.02  8.08   7.89   \n",
      "4    0.66667  ...   7.38  11.60  7.77  12.19  6.64  6.12  10.91  8.12   8.95   \n",
      "..       ...  ...    ...    ...   ...    ...   ...   ...    ...   ...    ...   \n",
      "145      NaN  ...    NaN    NaN   NaN    NaN   NaN   NaN    NaN   NaN    NaN   \n",
      "146      NaN  ...    NaN    NaN   NaN    NaN   NaN   NaN    NaN   NaN    NaN   \n",
      "147      NaN  ...    NaN    NaN   NaN    NaN   NaN   NaN    NaN   NaN    NaN   \n",
      "148      NaN  ...    NaN    NaN   NaN    NaN   NaN   NaN    NaN   NaN    NaN   \n",
      "149      NaN  ...    NaN    NaN   NaN    NaN   NaN   NaN    NaN   NaN    NaN   \n",
      "\n",
      "        23  \n",
      "0    11.41  \n",
      "1     9.88  \n",
      "2    10.70  \n",
      "3    10.52  \n",
      "4     9.18  \n",
      "..     ...  \n",
      "145    NaN  \n",
      "146    NaN  \n",
      "147    NaN  \n",
      "148    NaN  \n",
      "149    NaN  \n",
      "\n",
      "[150 rows x 72 columns]\n"
     ]
    }
   ],
   "source": [
    "# concat Continuous Light\n",
    "\n",
    "df_Act_continuouslight = pd.concat([df_output_binned_act_cont_1, df_output_binned_act_cont_2, df_output_binned_act_cont_3, df_output_binned_act_cont_4], axis=1)\n",
    "#print(df_Act_continuouslight)\n",
    "# \n",
    "df_rest_continuouslight = pd.concat([df_output_binned_rest_cont_1, df_output_binned_rest_cont_2, df_output_binned_rest_cont_3, df_output_binned_rest_cont_4], axis=1)\n",
    "#print(df_rest_continuouslight)\n",
    "\n",
    "df_wakeAct_continuouslight = pd.concat([df_output_binned_wakeAct_cont_1, df_output_binned_wakeAct_cont_2, df_output_binned_wakeAct_cont_3, df_output_binned_wakeAct_cont_4], axis=1)\n",
    "print(df_wakeAct_continuouslight)"
   ]
  },
  {
   "cell_type": "code",
   "execution_count": 43,
   "id": "ebd9bc67-322c-46d6-9ca6-3fb78a1208c7",
   "metadata": {},
   "outputs": [
    {
     "name": "stdout",
     "output_type": "stream",
     "text": [
      "          0         1        2       3      4        5       6       7   \\\n",
      "0    6.49000   1.45000  14.4200  6.2300  6.760  5.84000  4.3300  3.9300   \n",
      "1    5.97000  17.05600  14.2200  7.0200  5.310  6.67000  3.0100  5.4600   \n",
      "2    5.66000  14.81000  14.8500  7.6000  4.320  6.66000  3.4800  4.5300   \n",
      "3    5.32000  13.19000  14.6200  8.7500  5.970  5.71000  3.8375  4.9200   \n",
      "4    5.44000  15.06000  14.8900  7.5000  6.560  3.18000  3.3600  3.9600   \n",
      "..       ...       ...      ...     ...    ...      ...     ...     ...   \n",
      "144  1.38000   0.90000   1.3111  0.8400  0.675  1.18330  1.0000  1.3700   \n",
      "145  0.98571   0.61000   2.0300  0.8000  1.580  1.33330  1.3000  1.4200   \n",
      "146  1.62000   0.70000   2.1600  1.1900  1.420  0.98000  1.6100  1.4400   \n",
      "147  1.15560   0.81429   1.7667  1.1500  0.000  0.86667  1.1375  1.1125   \n",
      "148  1.43000   0.68000   1.3800  1.4889  0.000  1.04000  0.6500  1.0200   \n",
      "\n",
      "          8       9   ...      14       15      16      17      18      19  \\\n",
      "0    3.96000  3.0800  ...  7.9833   7.5500  4.8083  5.3417  8.1667  12.025   \n",
      "1    2.98000  4.4100  ...  8.8583   9.0167  3.9750  5.5083  9.3917  10.583   \n",
      "2    3.85000  4.1900  ...  9.8000   8.3417  4.5417  5.8000  8.7333  12.717   \n",
      "3    2.99000  4.1800  ...  6.6750   9.9917  4.6667  7.0333  8.3500  12.875   \n",
      "4    2.51110  3.8800  ...  8.0667  13.3170  5.3500  6.8667  9.9583  13.542   \n",
      "..       ...     ...  ...     ...      ...     ...     ...     ...     ...   \n",
      "144  0.87778  1.8000  ...     NaN      NaN     NaN     NaN     NaN     NaN   \n",
      "145  0.92500  2.4000  ...     NaN      NaN     NaN     NaN     NaN     NaN   \n",
      "146  1.22000  2.3500  ...     NaN      NaN     NaN     NaN     NaN     NaN   \n",
      "147  0.85000  1.8556  ...     NaN      NaN     NaN     NaN     NaN     NaN   \n",
      "148  0.49000  1.6250  ...     NaN      NaN     NaN     NaN     NaN     NaN   \n",
      "\n",
      "          20      21      22      23  \n",
      "0     8.6417  2.9333  8.4417  4.8250  \n",
      "1    10.1500  2.0750  9.3750  4.5583  \n",
      "2     9.6833  3.6417  8.8750  4.7667  \n",
      "3    10.8750  3.1083  8.8833  5.6167  \n",
      "4    11.3250  2.6917  9.0583  4.3083  \n",
      "..       ...     ...     ...     ...  \n",
      "144      NaN     NaN     NaN     NaN  \n",
      "145      NaN     NaN     NaN     NaN  \n",
      "146      NaN     NaN     NaN     NaN  \n",
      "147      NaN     NaN     NaN     NaN  \n",
      "148      NaN     NaN     NaN     NaN  \n",
      "\n",
      "[149 rows x 72 columns]\n"
     ]
    }
   ],
   "source": [
    "# concat tapping\n",
    "df_Act_tapping = pd.concat([df_output_binned_act_tapping_1, df_output_binned_act_tapping_2, df_output_binned_act_tapping_3, df_output_binned_act_tapping_4], axis=1)\n",
    "#print(df_Act_tapping)\n",
    "\n",
    "df_rest_tapping = pd.concat([df_output_binned_rest_tapping_1, df_output_binned_rest_tapping_2, df_output_binned_rest_tapping_3, df_output_binned_rest_tapping_4], axis=1)\n",
    "#print(df_rest_tapping)\n",
    "\n",
    "df_wakeAct_tapping = pd.concat([df_output_binned_wakeAct_tapping_1, df_output_binned_wakeAct_tapping_2,  df_output_binned_wakeAct_tapping_3, df_output_binned_wakeAct_tapping_4], axis=1)\n",
    "print(df_wakeAct_tapping)"
   ]
  },
  {
   "cell_type": "code",
   "execution_count": 44,
   "id": "narrative-length",
   "metadata": {},
   "outputs": [],
   "source": [
    "df_rest_control_NEW = df_rest_control.mul(6)\n",
    "\n",
    "df_rest_lightpulses_NEW = df_rest_lightpulses.mul(6)\n",
    "#print(df_rest_lightpulses_NEW)\n",
    "\n",
    "df_rest_continuouslight_NEW = df_rest_continuouslight.mul(6)\n",
    "\n",
    "df_rest_tapping_NEW = df_rest_tapping.mul(6)"
   ]
  },
  {
   "cell_type": "code",
   "execution_count": 45,
   "id": "discrete-olympus",
   "metadata": {},
   "outputs": [
    {
     "name": "stdout",
     "output_type": "stream",
     "text": [
      "len x 144\n",
      "len y 144\n"
     ]
    },
    {
     "data": {
      "image/png": "[encoded data removed]",
      "text/plain": [
       "<Figure size 640x480 with 1 Axes>"
      ]
     },
     "metadata": {},
     "output_type": "display_data"
    }
   ],
   "source": [
    "## Rest\n",
    "# control\n",
    "\n",
    "y = df_rest_control_NEW.mean(axis=1)\n",
    "x = np.linspace(0,len(y)-1,len(y))\n",
    "#y = df_rest_control_NEW.mean(axis=1)\n",
    "print(\"len x\",len(x))\n",
    "print(\"len y\",len(y))\n",
    "\n",
    "\n",
    "# fit a linear curve an estimate its y-values and their error.\n",
    "a, b = np.polyfit(x, y, deg=1)\n",
    "y_est_ctrl = df_rest_control_NEW.mean(axis=1)\n",
    "y_err_ctrl = df_rest_control_NEW.sem(axis=1)\n",
    "\n",
    "#y_est_con=df_rest_continuous_NEW.mean(axis=1)\n",
    "#y_err_con = df_rest_continuous_NEW.sem(axis=1)\n",
    "\n",
    "\n",
    "fig, ax = plt.subplots()\n",
    "ax.plot(x, y_est_ctrl, '-', color='black',label=\"control\")\n",
    "ax.fill_between(x, y_est_ctrl - y_err_ctrl, y_est_ctrl + y_err_ctrl, alpha=0.2, color='black')\n",
    "\n",
    "#ax.plot(x, y_est_con, '-', color='red',label=\"continuous light\")\n",
    "#ax.fill_between(x, y_est_con - y_err_con, y_est_con + y_err_con, alpha=0.2, color='red')\n",
    "\n",
    "#rectangle = plt.Rectangle((88,0),150, 60, fc='grey', alpha=0.2)\n",
    "#plt.gca().add_patch(rectangle)\n",
    "\n",
    "ax.set_xlim(0,)\n",
    "ax.set_ylim(0,40)\n",
    "ax.set_title(\"Sleep Control\")   #(\"Rest Control\")\n",
    "ax.set_ylabel(\"Sleep (min/h)\")  #(\"Rest (min/h)\")\n",
    "plt.legend(loc=\"upper right\")\n",
    "    \n",
    "sns.despine(right=True, bottom=False)\n",
    "fig.savefig(r\"D:\\SD_pooled\\SD_forcFos\\Sleep_pooled_control_only.pdf\")\n",
    "\n"
   ]
  },
  {
   "cell_type": "code",
   "execution_count": 165,
   "id": "juvenile-parent",
   "metadata": {},
   "outputs": [
    {
     "data": {
      "image/png": "[encoded data removed]",
      "text/plain": [
       "<Figure size 640x480 with 1 Axes>"
      ]
     },
     "metadata": {},
     "output_type": "display_data"
    }
   ],
   "source": [
    "## Rest\n",
    "# SD\n",
    "y = df_rest_lightpulses_NEW.mean(axis=1)\n",
    "x = np.linspace(0,len(y)-1,len(y))\n",
    "# x = np.linspace(0,141,141)\n",
    "# y = df_rest_lightpulses_NEW.mean(axis=1)\n",
    "#print(\"len x\",len(x))\n",
    "#print(\"len y\",len(y))\n",
    "\n",
    "\n",
    "\n",
    "# fit a linear curve an estimate its y-values and their error.\n",
    "a, b = np.polyfit(x, y, deg=1)\n",
    "#y_est_ctrl = df_rest_control_NEW.mean(axis=1)\n",
    "#y_err_ctrl = df_rest_control_NEW.sem(axis=1)\n",
    "\n",
    "y_est_lp=df_rest_lightpulses_NEW.mean(axis=1)\n",
    "y_err_lp = df_rest_lightpulses_NEW.sem(axis=1)\n",
    "\n",
    "\n",
    "fig, ax = plt.subplots()\n",
    "#ax.plot(x, y_est_ctrl, '-', color='black',label=\"control\")\n",
    "#ax.fill_between(x, y_est_ctrl - y_err_ctrl, y_est_ctrl + y_err_ctrl, alpha=0.2, color='black')\n",
    "\n",
    "ax.plot(x, y_est_lp, '-', color='blue',label=\"light pulses\")\n",
    "ax.fill_between(x, y_est_lp - y_err_lp, y_est_lp + y_err_lp, alpha=0.2, color='blue')\n",
    "\n",
    "#rectangle = plt.Rectangle((88,0),150, 60, fc='grey', alpha=0.2)\n",
    "#plt.gca().add_patch(rectangle)\n",
    "\n",
    "ax.set_xlim(0,)\n",
    "ax.set_ylim(0,30)\n",
    "ax.set_title(\"Sleep Light Pulses\") #(\"Rest Light Pulses\")\n",
    "\n",
    "ax.set_ylabel(\"Sleep (min/h)\")      #(\"Rest (min/h)\")\n",
    "plt.legend(loc=\"upper left\")\n",
    "    \n",
    "sns.despine(right=True, bottom=False)\n",
    "fig.savefig(r\"C:\\Users\\cbriziol\\Desktop\\SD_pooled\\SD_forOMR\\Sleep_pooled_SD_only_LP.pdf\")"
   ]
  },
  {
   "cell_type": "code",
   "execution_count": 46,
   "id": "dda0c3fe-932b-4114-b9a7-eef001c87263",
   "metadata": {},
   "outputs": [
    {
     "data": {
      "image/png": "[encoded data removed]",
      "text/plain": [
       "<Figure size 640x480 with 1 Axes>"
      ]
     },
     "metadata": {},
     "output_type": "display_data"
    }
   ],
   "source": [
    "## Rest\n",
    "# SD\n",
    "y = df_rest_continuouslight_NEW.mean(axis=1)\n",
    "x = np.linspace(0,len(y)-1,len(y))\n",
    "# x = np.linspace(0,143,144)\n",
    "# y = df_rest_continuouslight_NEW.mean(axis=1)\n",
    "#print(\"len x\",len(x))\n",
    "#print(\"len y\",len(y))\n",
    "\n",
    "\n",
    "\n",
    "# fit a linear curve an estimate its y-values and their error.\n",
    "a, b = np.polyfit(x, y, deg=1)\n",
    "#y_est_ctrl = df_rest_control_NEW.mean(axis=1)\n",
    "#y_err_ctrl = df_rest_control_NEW.sem(axis=1)\n",
    "\n",
    "y_est_con=df_rest_continuouslight_NEW.mean(axis=1)\n",
    "y_err_con = df_rest_continuouslight_NEW.sem(axis=1)\n",
    "\n",
    "\n",
    "fig, ax = plt.subplots()\n",
    "#ax.plot(x, y_est_ctrl, '-', color='black',label=\"control\")\n",
    "#ax.fill_between(x, y_est_ctrl - y_err_ctrl, y_est_ctrl + y_err_ctrl, alpha=0.2, color='black')\n",
    "\n",
    "ax.plot(x, y_est_con, '-', color='red',label=\"continuous light\")\n",
    "ax.fill_between(x, y_est_con - y_err_con, y_est_con + y_err_con, alpha=0.2, color='red')\n",
    "\n",
    "#rectangle = plt.Rectangle((88,0),150, 60, fc='grey', alpha=0.2)\n",
    "#plt.gca().add_patch(rectangle)\n",
    "\n",
    "ax.set_xlim(0,)\n",
    "ax.set_ylim(0,40)\n",
    "ax.set_title(\"Sleep Continuous Light\")  #(\"Rest Continuous Light\")\n",
    "ax.set_ylabel(\"Sleep (min/h)\")          #(\"Rest (min/h)\")\n",
    "plt.legend(loc=\"upper right\")\n",
    "    \n",
    "sns.despine(right=True, bottom=False)\n",
    "fig.savefig(r\"D:\\SD_pooled\\SD_forcFos\\Sleep_pooled_SD_only_CL.pdf\")"
   ]
  },
  {
   "cell_type": "code",
   "execution_count": 47,
   "id": "2072a749-949b-4d73-8c9b-89975b048217",
   "metadata": {},
   "outputs": [
    {
     "data": {
      "image/png": "[encoded data removed]",
      "text/plain": [
       "<Figure size 640x480 with 1 Axes>"
      ]
     },
     "metadata": {},
     "output_type": "display_data"
    }
   ],
   "source": [
    "## Rest\n",
    "# SD\n",
    "y = df_rest_tapping_NEW.mean(axis=1)\n",
    "x = np.linspace(0,len(y)-1,len(y))\n",
    "# x = np.linspace(0,143,144)\n",
    "# y = df_rest_continuouslight_NEW.mean(axis=1)\n",
    "#print(\"len x\",len(x))\n",
    "#print(\"len y\",len(y))\n",
    "\n",
    "\n",
    "\n",
    "# fit a linear curve an estimate its y-values and their error.\n",
    "a, b = np.polyfit(x, y, deg=1)\n",
    "#y_est_ctrl = df_rest_control_NEW.mean(axis=1)\n",
    "#y_err_ctrl = df_rest_control_NEW.sem(axis=1)\n",
    "\n",
    "y_est_tap=df_rest_tapping_NEW.mean(axis=1)\n",
    "y_err_tap = df_rest_tapping_NEW.sem(axis=1)\n",
    "\n",
    "\n",
    "fig, ax = plt.subplots()\n",
    "#ax.plot(x, y_est_ctrl, '-', color='black',label=\"control\")\n",
    "#ax.fill_between(x, y_est_ctrl - y_err_ctrl, y_est_ctrl + y_err_ctrl, alpha=0.2, color='black')\n",
    "\n",
    "ax.plot(x, y_est_tap, '-', color='orange',label=\"tapping\")\n",
    "ax.fill_between(x, y_est_tap - y_err_tap, y_est_tap + y_err_tap, alpha=0.2, color='orange')\n",
    "\n",
    "#rectangle = plt.Rectangle((88,0),150, 60, fc='grey', alpha=0.2)\n",
    "#plt.gca().add_patch(rectangle)\n",
    "\n",
    "ax.set_xlim(0,)\n",
    "ax.set_ylim(0,40)\n",
    "ax.set_title(\"Sleep Tapping\")  #(\"Rest Tapping\")\n",
    "ax.set_ylabel(\"Sleep (min/h)\") #(\"Rest (min/h)\")\n",
    "plt.legend(loc=\"upper right\")\n",
    "    \n",
    "sns.despine(right=True, bottom=False)\n",
    "fig.savefig(r\"D:\\SD_pooled\\SD_forcFos\\Sleep_pooled_SD_only_tapping.pdf\")"
   ]
  },
  {
   "cell_type": "code",
   "execution_count": 109,
   "id": "c8dc248f-670c-406c-863e-bf5de2cf3058",
   "metadata": {},
   "outputs": [
    {
     "name": "stdout",
     "output_type": "stream",
     "text": [
      "148\n"
     ]
    }
   ],
   "source": [
    "stop = len(df_rest_lightpulses_NEW)\n",
    "df_rest_lightpulses_NEW = df_rest_lightpulses_NEW.drop(labels=range(148,stop), axis = 0)\n",
    "print(len(df_rest_lightpulses_NEW))"
   ]
  },
  {
   "cell_type": "code",
   "execution_count": 52,
   "id": "115437d7-3706-4a4d-9a55-6d54667a70b9",
   "metadata": {},
   "outputs": [
    {
     "name": "stdout",
     "output_type": "stream",
     "text": [
      "144\n"
     ]
    }
   ],
   "source": [
    "stop = len(df_rest_continuouslight_NEW)\n",
    "df_rest_continuouslight_NEW = df_rest_continuouslight_NEW.drop(labels=range(144,stop), axis = 0)\n",
    "print(len(df_rest_continuouslight_NEW))"
   ]
  },
  {
   "cell_type": "code",
   "execution_count": 53,
   "id": "d4348f32-35d6-4ecb-906b-77240645a292",
   "metadata": {},
   "outputs": [
    {
     "name": "stdout",
     "output_type": "stream",
     "text": [
      "144\n"
     ]
    }
   ],
   "source": [
    "stop = len(df_rest_tapping_NEW)\n",
    "df_rest_tapping_NEW = df_rest_tapping_NEW.drop(labels=range(144,stop), axis = 0)\n",
    "print(len(df_rest_tapping_NEW))"
   ]
  },
  {
   "cell_type": "code",
   "execution_count": 56,
   "id": "150b769b-0c24-4241-a6a4-0b96489d3e9d",
   "metadata": {},
   "outputs": [
    {
     "name": "stdout",
     "output_type": "stream",
     "text": [
      "len x 144\n",
      "len y 144\n"
     ]
    },
    {
     "data": {
      "image/png": "[encoded data removed]",
      "text/plain": [
       "<Figure size 640x480 with 1 Axes>"
      ]
     },
     "metadata": {},
     "output_type": "display_data"
    }
   ],
   "source": [
    "#combine line plots\n",
    "## Rest\n",
    "#y = df_rest_control_NEW.mean(axis=1)\n",
    "#x = np.linspace(0,len(y)-1,len(y))\n",
    "x = np.linspace(0,143,144)\n",
    "y = df_rest_control_NEW.mean(axis=1)\n",
    "print(\"len x\",len(x))\n",
    "print(\"len y\",len(y))\n",
    "\n",
    "\n",
    "\n",
    "# fit a linear curve an estimate its y-values and their error.\n",
    "a, b = np.polyfit(x, y, deg=1)\n",
    "y_est_ctrl = df_rest_control_NEW.mean(axis=1)\n",
    "y_err_ctrl = df_rest_control_NEW.sem(axis=1)\n",
    "\n",
    "#y_est_lp=df_rest_lightpulses_NEW.mean(axis=1)\n",
    "#y_err_lp = df_rest_lightpulses_NEW.sem(axis=1)\n",
    "\n",
    "y_est_cl=df_rest_continuouslight_NEW.mean(axis=1)\n",
    "y_err_cl = df_rest_continuouslight_NEW.sem(axis=1)\n",
    "\n",
    "#y_est_tap=df_rest_tapping_NEW.mean(axis=1)\n",
    "#y_err_tap= df_rest_tapping_NEW.sem(axis=1)\n",
    "\n",
    "fig, ax = plt.subplots()\n",
    "ax.plot(x, y_est_ctrl, '-', color='black',label=\"control\")\n",
    "ax.fill_between(x, y_est_ctrl - y_err_ctrl, y_est_ctrl + y_err_ctrl, alpha=0.2, color='black')\n",
    "\n",
    "#ax.plot(x, y_est_lp, '-', color='blue',label=\"light pulses\")\n",
    "#ax.fill_between(x, y_est_lp - y_err_lp, y_est_lp + y_err_lp, alpha=0.2, color='blue')\n",
    "\n",
    "ax.plot(x, y_est_cl, '-', color='red',label=\"continuous light\")\n",
    "ax.fill_between(x, y_est_cl - y_err_cl, y_est_cl + y_err_cl, alpha=0.2, color='red')\n",
    "\n",
    "#ax.plot(x, y_est_tap, '-', color='orange',label=\"tapping\")\n",
    "#ax.fill_between(x, y_est_tap - y_err_tap, y_est_tap + y_err_tap, alpha=0.2, color='orange')\n",
    "\n",
    "#rectangle = plt.Rectangle((88,0),150, 60, fc='grey', alpha=0.2)\n",
    "#plt.gca().add_patch(rectangle)\n",
    "\n",
    "ax.set_xlim(0,)\n",
    "ax.set_ylim(0,40)\n",
    "ax.set_title(\"Sleep Control + Continuous Light\") #(\"Rest Control + Tapping\")\n",
    "ax.set_ylabel(\"Sleep (min/h)\")          #(\"Rest (min/h)\")\n",
    "plt.legend(loc=\"upper left\")\n",
    "    \n",
    "sns.despine(right=True, bottom=False)\n",
    "fig.savefig(r\"D:\\SD_pooled\\SD_forcFos\\Sleep_pooled_ctrl+Continuous.pdf\")"
   ]
  },
  {
   "cell_type": "code",
   "execution_count": 58,
   "id": "03da7f26-54d7-43a4-afe8-398896766738",
   "metadata": {},
   "outputs": [
    {
     "name": "stdout",
     "output_type": "stream",
     "text": [
      "144\n"
     ]
    }
   ],
   "source": [
    "stop = len(df_wakeAct_control)\n",
    "df_wakeAct_control = df_wakeAct_control.drop(labels=range(144,stop), axis = 0)\n",
    "print (len(df_wakeAct_control))\n"
   ]
  },
  {
   "cell_type": "code",
   "execution_count": 59,
   "id": "5f6a1749-ad1f-430b-99bc-eeb87def995e",
   "metadata": {},
   "outputs": [
    {
     "name": "stdout",
     "output_type": "stream",
     "text": [
      "144\n"
     ]
    }
   ],
   "source": [
    "stop = len(df_wakeAct_continuouslight)\n",
    "df_wakeAct_continuouslight = df_wakeAct_continuouslight.drop(labels=range(144,stop), axis = 0)\n",
    "print (len(df_wakeAct_continuouslight))"
   ]
  },
  {
   "cell_type": "code",
   "execution_count": 115,
   "id": "f72d07fe-8a28-4bf7-bd20-f46f2237602f",
   "metadata": {},
   "outputs": [
    {
     "name": "stdout",
     "output_type": "stream",
     "text": [
      "148\n"
     ]
    }
   ],
   "source": [
    "stop = len(df_wakeAct_lightpulses)\n",
    "df_wakeAct_lightpulses = df_wakeAct_lightpulses.drop(labels=range(148,stop), axis = 0)\n",
    "print (len(df_wakeAct_lightpulses))"
   ]
  },
  {
   "cell_type": "code",
   "execution_count": 60,
   "id": "1f31ba85-eba4-4fe7-bf6c-048e4257ff31",
   "metadata": {},
   "outputs": [
    {
     "name": "stdout",
     "output_type": "stream",
     "text": [
      "144\n"
     ]
    }
   ],
   "source": [
    "stop = len(df_wakeAct_tapping)\n",
    "df_wakeAct_tapping = df_wakeAct_tapping.drop(labels=range(144,stop), axis = 0)\n",
    "print (len(df_wakeAct_tapping))"
   ]
  },
  {
   "cell_type": "code",
   "execution_count": 67,
   "id": "daa0d99f-80ea-486a-a1da-2289b342eb25",
   "metadata": {},
   "outputs": [
    {
     "data": {
      "image/png": "[encoded data removed]",
      "text/plain": [
       "<Figure size 640x480 with 1 Axes>"
      ]
     },
     "metadata": {},
     "output_type": "display_data"
    }
   ],
   "source": [
    "#Line plot\n",
    "\n",
    "## singular groups\n",
    "## Rest\n",
    "# SD\n",
    "y=df_wakeAct_control.mean(axis=1)\n",
    "#y = df_wakeAct_tapping.mean(axis=1)\n",
    "#y= df_wakeAct_continuouslight.mean(axis=1)\n",
    "#y=df_wakeAct_lightpulses.mean(axis=1)\n",
    "\n",
    "x = np.linspace(0,143,144) \n",
    "\n",
    "# fit a linear curve an estimate its y-values and their error.\n",
    "a, b = np.polyfit(x, y, deg=1)\n",
    "\n",
    "y_est_ctrl = df_wakeAct_control.mean(axis=1)\n",
    "y_err_ctrl =df_wakeAct_control.sem(axis=1)\n",
    "\n",
    "#y_est_tap=df_wakeAct_tapping.mean(axis=1)\n",
    "#y_err_tap =df_wakeAct_tapping.sem(axis=1)\n",
    "\n",
    "#y_est_con=df_wakeAct_continuouslight.mean(axis=1)\n",
    "#y_err_con =df_wakeAct_continuouslight.sem(axis=1)\n",
    "\n",
    "#y_est_lp=df_wakeAct_lightpulses.mean(axis=1)\n",
    "#y_err_lp =df_wakeAct_lightpulses.sem(axis=1)\n",
    "\n",
    "fig, ax = plt.subplots()\n",
    "\n",
    "ax.plot(x, y_est_ctrl, '-', color='black',label=\"control\")\n",
    "ax.fill_between(x, y_est_ctrl - y_err_ctrl, y_est_ctrl + y_err_ctrl, alpha=0.2, color='black')\n",
    "\n",
    "#ax.plot(x, y_est_con, '-', color='red',label=\"continuouslight\")\n",
    "#ax.fill_between(x, y_est_con - y_err_con, y_est_con + y_err_con, alpha=0.2, color='red')\n",
    "\n",
    "#ax.plot(x, y_est_tap, '-', color='orange',label=\"tapping\")\n",
    "#ax.fill_between(x, y_est_tap - y_err_tap, y_est_tap + y_err_tap, alpha=0.2, color='orange')\n",
    "\n",
    "#ax.plot(x, y_est_lp, '-', color='blue',label=\"light pulses\")\n",
    "#ax.fill_between(x, y_est_lp - y_err_lp, y_est_lp + y_err_lp, alpha=0.2, color='blue')\n",
    "\n",
    "\n",
    "#rectangle = plt.Rectangle((88,0),150, 60, fc='grey', alpha=0.2)\n",
    "#plt.gca().add_patch(rectangle)\n",
    "\n",
    "ax.set_xlim(0,)\n",
    "ax.set_ylim(0,15)\n",
    "ax.set_title(\"Waking Activity Control\")  #(\"Rest Tapping\")\n",
    "ax.set_ylabel(\"Waking Activity (min/h)\") #(\"Rest (min/h)\")\n",
    "plt.legend(loc=\"upper right\")\n",
    "    \n",
    "sns.despine(right=True, bottom=False)\n",
    "fig.savefig(r\"D:\\SD_pooled\\SD_forcFos\\WakingActivity_pooled_SD_only_Control.pdf\")"
   ]
  },
  {
   "cell_type": "code",
   "execution_count": 70,
   "id": "5d0aa69a-030f-4df7-9ff7-7f49e30d1f87",
   "metadata": {},
   "outputs": [
    {
     "name": "stdout",
     "output_type": "stream",
     "text": [
      "len x 144\n",
      "len y 144\n"
     ]
    },
    {
     "data": {
      "image/png": "[encoded data removed]",
      "text/plain": [
       "<Figure size 640x480 with 1 Axes>"
      ]
     },
     "metadata": {},
     "output_type": "display_data"
    }
   ],
   "source": [
    "#Line plot\n",
    "\n",
    "## control and SD groups\n",
    "\n",
    "## Waking activity\n",
    "\n",
    " \n",
    "x = np.linspace(0,143,144) \n",
    "\n",
    "y =df_wakeAct_control.mean(axis=1)\n",
    "\n",
    "\n",
    "print(\"len x\",len(x))\n",
    "\n",
    "print(\"len y\",len(y))\n",
    "\n",
    " \n",
    "# fit a linear curve an estimate its y-values and their error.\n",
    "\n",
    "a, b = np.polyfit(x, y, deg=1)\n",
    "\n",
    "y_est_ctrl = df_wakeAct_control.mean(axis=1)\n",
    "\n",
    "y_err_ctrl =df_wakeAct_control.sem(axis=1)\n",
    "\n",
    " \n",
    "y_est_con=df_wakeAct_continuouslight.mean(axis=1)\n",
    "\n",
    "y_err_con =df_wakeAct_continuouslight.sem(axis=1)\n",
    "\n",
    "\n",
    "#y_est_tap=df_wakeAct_tapping.mean(axis=1)\n",
    "\n",
    "#y_err_tap =df_wakeAct_tapping.sem(axis=1)\n",
    "\n",
    "\n",
    "#y_est_lp=df_wakeAct_lightpulses.mean(axis=1)\n",
    "\n",
    "#y_err_lp =df_wakeAct_lightpulses.sem(axis=1)\n",
    "\n",
    "\n",
    "fig, ax = plt.subplots()\n",
    "\n",
    "ax.plot(x, y_est_ctrl, '-', color='black',label=\"control\")\n",
    "\n",
    "ax.fill_between(x, y_est_ctrl - y_err_ctrl, y_est_ctrl + y_err_ctrl, alpha=0.2, color='black')\n",
    "\n",
    "#ax.plot(x, y, 'o', color='tab:red')\n",
    "\n",
    "\n",
    "#ax.plot(x, y_est_con, '-', color='red',label=\"continuous light\")\n",
    "\n",
    "#ax.fill_between(x, y_est_con - y_err_con, y_est_con + y_err_con, alpha=0.2, color='red')\n",
    "\n",
    "\n",
    "ax.plot(x, y_est_tap, '-', color='orange',label=\"tapping\")\n",
    "\n",
    "ax.fill_between(x, y_est_tap - y_err_tap, y_est_tap + y_err_tap, alpha=0.2, color='orange')\n",
    "\n",
    "\n",
    "#ax.plot(x, y_est_lp, '-', color='blue',label=\"light pulses\")\n",
    "\n",
    "#ax.fill_between(x, y_est_lp - y_err_lp, y_est_lp + y_err_lp, alpha=0.2, color='blue')\n",
    "\n",
    "\n",
    "#rectangle = plt.Rectangle((22,0),59, 7, fc='grey', alpha=0.2)\n",
    "\n",
    "#plt.gca().add_patch(rectangle)\n",
    "\n",
    " \n",
    "\n",
    "ax.set_xlim(0,)\n",
    "\n",
    "ax.set_ylim(0,15)\n",
    "\n",
    "ax.set_title(\"Waking Activity Overlay\")\n",
    "\n",
    "ax.set_ylabel(\"Waking Activity (min/h)\")\n",
    "\n",
    "plt.legend(loc=\"upper right\")\n",
    "\n",
    "   \n",
    "\n",
    "sns.despine(right=True, bottom=False)\n",
    "\n",
    "fig.savefig(r\"D:\\SD_pooled\\SD_forcFos/Waking_activity_tapping_overview.pdf\")"
   ]
  },
  {
   "cell_type": "markdown",
   "id": "brazilian-sight",
   "metadata": {},
   "source": [
    "### Bar plots"
   ]
  },
  {
   "cell_type": "markdown",
   "id": "serial-allergy",
   "metadata": {},
   "source": [
    "load data"
   ]
  },
  {
   "cell_type": "markdown",
   "id": "444ed397-6b8d-4e8c-9c53-1af7fe8c32a2",
   "metadata": {},
   "source": [
    "REST DAY 0"
   ]
  },
  {
   "cell_type": "code",
   "execution_count": null,
   "id": "b0c06a52-0d7e-45f0-9d3d-9bc432381096",
   "metadata": {},
   "outputs": [],
   "source": [
    "#Control1\n",
    "#df_rest_day0_ctrl_1 = pd.read_csv(r\"C:\\Users\\cbriziol\\Desktop\\2025_3_18_SD_Chiara\\2025_3_18_Control_Box1\\output_binned_rest_day0.csv\", header=None)\n",
    "\n",
    "#Control2\n",
    "#df_rest_day0_ctrl_2 = pd.read_csv(r\"C:\\Users\\cbriziol\\Desktop\\2025_3_19_SD_Chiara\\2025_3_19_Control_Box1\\output_binned_rest_day0.csv.csv\", header=None)\n",
    "\n",
    "#Control3\n",
    "#df_rest_day0_ctrl_3 = pd.read_csv(r\"C:\\Users\\cbriziol\\Desktop\\2025_3_18_SD_Chiara\\2025_3_18_Control_Box1\\output_binned_rest_day0.csv\", header=None)\n",
    "\n",
    "#Control4\n",
    "#df_rest_day0_ctrl_4 = pd.read_csv(r\"C:\\Users\\cbriziol\\Desktop\\2025_3_19_SD_Chiara\\2025_3_19_Control_Box1\\output_binned_rest_day0.csv\", header=None)"
   ]
  },
  {
   "cell_type": "code",
   "execution_count": null,
   "id": "8a07c121-ecfd-4594-a32c-d0cb5ed590a6",
   "metadata": {},
   "outputs": [],
   "source": [
    "#Light Pulses 1\n",
    "#df_rest_day0_lp_1 = pd.read_csv(r\"C:\\Users\\cbriziol\\Desktop\\2025_3_18_SD_Chiara\\2025_3_18_LP_Box4\\output_binned_rest_day0.csv\", header=None)\n",
    "\n",
    "#Light Pulses 2\n",
    "#df_rest_day0_lp_2 = pd.read_csv(r\"C:\\Users\\cbriziol\\Desktop\\2025_3_19_SD_Chiara\\2025_3_19_LP_Box4\\output_binned_rest_day0.csv\", header=None)\n",
    "\n",
    "#Light Pulses 3\n",
    "#df_rest_day0_lp_3 = pd.read_csv(r\"C:\\Users\\cbriziol\\Desktop\\2025_3_18_SD_Chiara\\2025_3_18_LP_Box4\\output_binned_rest_day0.csv\", header=None)\n",
    "\n",
    "#Light Pulses 4\n",
    "#df_rest_day0_lp_4 = pd.read_csv(r\"C:\\Users\\cbriziol\\Desktop\\2025_3_19_SD_Chiara\\2025_3_19_LP_Box4\\output_binned_rest_day0.csv\", header=None)"
   ]
  },
  {
   "cell_type": "code",
   "execution_count": null,
   "id": "8f50e3e8-85e7-40c5-bd38-fa6aeb829e81",
   "metadata": {},
   "outputs": [],
   "source": [
    "#Continuous Light 1\n",
    "#df_rest_day0_cont_1 = pd.read_csv(r\"C:\\Users\\cbriziol\\Desktop\\2025_3_18_SD_Chiara\\2025_3_18_ContinuousLight_Box2\\output_binned_rest_day0.csv\", header=None)\n",
    "\n",
    "#Continuous Light 2\n",
    "#df_rest_day0_cont_2 = pd.read_csv(r\"C:\\Users\\cbriziol\\Desktop\\2025_3_19_SD_Chiara\\2025_3_19_ContinuousLight_Box2\\output_binned_rest_day0.csv\", header=None)\n",
    "\n",
    "#Continuous Light 3\n",
    "#df_rest_day0_cont_3 = pd.read_csv(r\"C:\\Users\\cbriziol\\Desktop\\2025_3_18_SD_Chiara\\2025_3_18_ContinuousLight_Box2\\output_binned_rest_day0.csv\", header=None)\n",
    "\n",
    "#Continuous Light 4\n",
    "#df_rest_day0_cont_4 = pd.read_csv(r\"C:\\Users\\cbriziol\\Desktop\\2025_3_19_SD_Chiara\\2025_3_19_ContinuousLight_Box2\\output_binned_rest_day0.csv\", header=None)"
   ]
  },
  {
   "cell_type": "code",
   "execution_count": null,
   "id": "d07d4852-fc65-4dfe-8912-f2441d9a98dd",
   "metadata": {},
   "outputs": [],
   "source": [
    "#Tapping 1\n",
    "#df_rest_day0_tap_1 = pd.read_csv(r\"C:\\Users\\cbriziol\\Desktop\\2025_3_18_SD_Chiara\\2025_3_18_ContinuousLight_Box2\\output_binned_rest_day0.csv\", header=None)\n",
    "\n",
    "#Tapping 2\n",
    "#df_rest_day0_tap_2 = pd.read_csv(r\"C:\\Users\\cbriziol\\Desktop\\2025_3_19_SD_Chiara\\2025_3_19_ContinuousLight_Box2\\output_binned_rest_day0.csv\", header=None)\n",
    "\n",
    "#Tapping 3\n",
    "#df_rest_day0_tap_3 = pd.read_csv(r\"C:\\Users\\cbriziol\\Desktop\\2025_3_18_SD_Chiara\\2025_3_18_ContinuousLight_Box2\\output_binned_rest_day0.csv\", header=None)\n",
    "\n",
    "#Tapping 4\n",
    "#df_rest_day0_tap_4 = pd.read_csv(r\"C:\\Users\\cbriziol\\Desktop\\2025_3_19_SD_Chiara\\2025_3_19_ContinuousLight_Box2\\output_binned_rest_day0.csv\", header=None"
   ]
  },
  {
   "cell_type": "markdown",
   "id": "dca37a71-6dd1-45af-b594-047d342cb981",
   "metadata": {},
   "source": [
    "concatenate"
   ]
  },
  {
   "cell_type": "code",
   "execution_count": null,
   "id": "d73389b4-61f1-443d-ab9a-ba0f0afbacd9",
   "metadata": {},
   "outputs": [],
   "source": [
    "# control\n",
    "#df_rest_control_day0_concat = pd.concat([df_rest_day0_ctrl_1, df_rest_day0_ctrl_2, df_rest_day0_ctrl_3, df_rest_day0_ctrl_4], axis=1)"
   ]
  },
  {
   "cell_type": "code",
   "execution_count": null,
   "id": "59f56d19-81a7-414e-9f86-306e92034a01",
   "metadata": {},
   "outputs": [],
   "source": [
    "# light pulses\n",
    "#df_rest_lp_day0_concat = pd.concat([df_rest_day0_lp_1, df_rest_day0_lp_2, df_rest_day0_lp_3, df_rest_day0_lp_4], axis=1)"
   ]
  },
  {
   "cell_type": "code",
   "execution_count": null,
   "id": "141f15f9-15c3-46db-baa7-1770b6412323",
   "metadata": {},
   "outputs": [],
   "source": [
    "# continuous light\n",
    "#df_rest_cont_day0_concat = pd.concat([df_rest_day0_cont_1, df_rest_day0_cont_2, df_rest_day0_cont_3,df_rest_day0_cont_4], axis=1)"
   ]
  },
  {
   "cell_type": "code",
   "execution_count": null,
   "id": "7fd8d798-af92-438c-8c19-66a40027127e",
   "metadata": {},
   "outputs": [],
   "source": [
    "# tapping\n",
    "#df_rest_tap_day0_concat = pd.concat([df_rest_day0_tap_1, df_rest_day0_tap_2, df_rest_day0_tap_3, df_rest_day0_tap_4], axis=1)"
   ]
  },
  {
   "cell_type": "markdown",
   "id": "bddd3675-96fe-41b2-a4a2-67de621b2f6e",
   "metadata": {},
   "source": [
    "get the column averages --> mean per fish. Skip nans"
   ]
  },
  {
   "cell_type": "code",
   "execution_count": null,
   "id": "f9589c4d-e173-43dc-9b3a-d9b74ca37eee",
   "metadata": {},
   "outputs": [],
   "source": [
    "# control\n",
    "#mean_df_rest_control_day0 = df_rest_control_day0_concat.mean(axis=0,skipna=True)\n",
    "\n",
    "# light pulses\n",
    "#mean_df_rest_lp_day0 = df_rest_lp_day0_concat.mean(axis=0,skipna=True)\n",
    "\n",
    "# continuous light\n",
    "#mean_df_rest_cont_day0 = df_rest_cont_day0_concat.mean(axis=0,skipna=True)\n",
    "\n",
    "# tapping\n",
    "#mean_df_rest_tap_day0 = df_rest_tap_day0_concat.mean(axis=0,skipna=True)\n"
   ]
  },
  {
   "cell_type": "markdown",
   "id": "7040fb48-897a-4a5b-8f9a-69dc207f0415",
   "metadata": {},
   "source": [
    "Change unit for REST from min/10min to min/h for rest. Multiply whole table by 6"
   ]
  },
  {
   "cell_type": "code",
   "execution_count": null,
   "id": "9e6b34bf-ea30-43fb-8a61-b964dff53221",
   "metadata": {},
   "outputs": [],
   "source": [
    "#control\n",
    "#df_rest_control_day0 = mean_df_rest_control_day0.mul(6)\n",
    "\n",
    "# light pulses\n",
    "#df_rest_lp_day0 =mean_df_rest_contin_day0.mul(6) \n",
    "\n",
    "# continuous light\n",
    "#df_rest_cont_day0 =mean_df_rest_contin_day0.mul(6)\n",
    "\n",
    "# tapping\n",
    "#df_rest_tap_day0 =mean_df_rest_tap_day0.mul(6)\n"
   ]
  },
  {
   "cell_type": "code",
   "execution_count": null,
   "id": "df4c54ca-0a5f-4f9a-aa71-5717752829c8",
   "metadata": {},
   "outputs": [],
   "source": [
    "#a4_dims = (11.7, 8.27)\n",
    "#fig, ax = plt.subplots(figsize=a4_dims)\n",
    "\"\"\"\n",
    "fig, (ax1, ax2, ax3, ax4) = plt.subplots(1, 4, sharey=True, figsize=(12, 5))\n",
    "\n",
    "# --- Control ---\n",
    "ax = sns.barplot(ax=ax1, y=df_rest_control_day0, color=\"black\", orient=\"v\", label=\"control\")\n",
    "for p in ax1.patches:\n",
    "    p.set_alpha(0.5)  # Make bars semi-transparent\n",
    "sns.stripplot(ax=ax1, data=df_rest_control_day0, dodge=True, color=\"black\", alpha=0.80, jitter=0.05)\n",
    "\n",
    "# --- Light Pulses ---\n",
    "ax = sns.barplot(ax=ax2, y=df_rest_lp_day0, color=\"blue\", orient=\"v\", label=\"light pulses\")\n",
    "for p in ax2.patches:\n",
    "    p.set_alpha(0.5)\n",
    "sns.stripplot(ax=ax2, data=df_rest_lp_day0, dodge=True, color=\"blue\", alpha=0.80, jitter=0.05)\n",
    "\n",
    "# --- Continuous Light ---\n",
    "ax = sns.barplot(ax=ax3, y=df_rest_cont_day0, color=\"red\", orient=\"v\", label=\"continuous light\")\n",
    "for p in ax3.patches:\n",
    "    p.set_alpha(0.5)\n",
    "sns.stripplot(ax=ax3, data=df_rest_cont_day0, dodge=True, color=\"red\", alpha=0.80, jitter=0.05)\n",
    "\n",
    "# --- Tapping ---\n",
    "ax = sns.barplot(ax=ax4, y=df_rest_tap_day0, color=\"orange\", orient=\"v\", label=\"tapping\")\n",
    "for p in ax4.patches:\n",
    "    p.set_alpha(0.5)\n",
    "sns.stripplot(ax=ax4, data=df_rest_tap_day0, dodge=True, color=\"orange\", alpha=0.80, jitter=0.05)\n",
    "\n",
    "# Titles and Labels\n",
    "fig.suptitle(\"Sleep night 1\", fontsize=16, y=0.95, x=0.5)\n",
    "ax1.set_ylabel(\"Sleep min/h\", fontsize=16)\n",
    "ax.set_ylim(0, 64)\n",
    "\n",
    "# Clean up\n",
    "sns.despine(right=True, bottom=False)\n",
    "ax1.legend()\n",
    "\n",
    "# Save the figure\n",
    "fig.savefig(r\"C:\\Users\\cbriziol\\Desktop\\SD_pooled\\SD_forOMR\\Sleep_Day0.pdf\")\n",
    "\n",
    "\"\"\"\n"
   ]
  },
  {
   "cell_type": "code",
   "execution_count": null,
   "id": "f582289c-a11e-4e7d-bc58-8a4d7cf5c730",
   "metadata": {},
   "outputs": [],
   "source": [
    "\"\"\"\n",
    "# Pool each group's data\n",
    "control = pd.concat([\n",
    "    df_rest_day0_ctrl_1,\n",
    "    df_rest_day0_ctrl_2,\n",
    "    df_rest_day0_ctrl_3,\n",
    "    df_rest_day0_ctrl_4\n",
    "], axis=0).values.flatten()\n",
    "\n",
    "continuous = pd.concat([\n",
    "    df_rest_day0_cont_1,\n",
    "    df_rest_day0_cont_2,\n",
    "    df_rest_day0_cont_3,\n",
    "    df_rest_day0_cont_4\n",
    "], axis=0).values.flatten()\n",
    "\n",
    "light_pulses = pd.concat([\n",
    "    df_rest_day0_lp_1,\n",
    "    df_rest_day0_lp_2,\n",
    "    df_rest_day0_lp_3,\n",
    "    df_rest_day0_lp_4\n",
    "], axis=0).values.flatten()\n",
    "\n",
    "tapping = pd.concat([\n",
    "    df_rest_day0_tap_1,\n",
    "    df_rest_day0_tap_2,\n",
    "    df_rest_day0_tap_3,\n",
    "    df_rest_day0_tap_4\n",
    "], axis=0).values.flatten()\n",
    "\n",
    "# Run one-way ANOVA\n",
    "f_stat, p_val = ss.f_oneway(control, continuous, tapping, light_pulses)\n",
    "print(f\"One-way ANOVA: F = {f_stat}, p = {p_val}\")\n",
    "\"\"\"\n"
   ]
  },
  {
   "cell_type": "code",
   "execution_count": null,
   "id": "08c7fa4c-5d0a-4c46-ba56-08e1163de542",
   "metadata": {},
   "outputs": [],
   "source": [
    "\"\"\"\n",
    "# Combine all pooled data\n",
    "data = np.concatenate([control, continuous,tapping,light_pulses])\n",
    "\n",
    "# Group labels, in same order\n",
    "groups = (\n",
    "    ['control'] * len(control) +\n",
    "    ['continuous'] * len(continuous) +\n",
    "    ['light_pulses'] * len(light_pulses) +\n",
    "    ['tapping'] * len(tapping)\n",
    ")\n",
    "\n",
    "# Tukey HSD\n",
    "tukey = pairwise_tukeyhsd(endog=data, groups=groups, alpha=0.05)\n",
    "print(tukey)\n",
    "\n",
    "# Assume tukey is a TukeyHSDResults object\n",
    "tukey_df = pd.DataFrame(data=tukey.summary().data[1:], columns=tukey.summary().data[0])\n",
    "\n",
    "save_dir = Path(r'C:\\Users\\cbriziol\\Desktop\\SD_pooled\\SD_forOMR')\n",
    "doc_name = save_dir / 'tukey_RestDay0.xlsx'\n",
    "tukey_df.to_excel(doc_name, index=False)\n",
    "\n",
    "\"\"\""
   ]
  },
  {
   "cell_type": "code",
   "execution_count": null,
   "id": "8114a7d7-3d41-434c-a3fe-8fe92c1295be",
   "metadata": {},
   "outputs": [],
   "source": []
  },
  {
   "cell_type": "markdown",
   "id": "4ca43dc9-d9c1-4e34-9754-4fd2d56a3ac7",
   "metadata": {},
   "source": [
    "REST NIGHT 1"
   ]
  },
  {
   "cell_type": "code",
   "execution_count": 71,
   "id": "furnished-attendance",
   "metadata": {},
   "outputs": [],
   "source": [
    "# load data and convert into dataframe\n",
    "# control 1\n",
    "df_rest_night1_ctrl_1 =pd.read_csv(r\"D:\\Sleep_deprivation_data\\Analyzed_SD_forCFOS\\2025_5_19_SD_Chiara\\2025_5_19_Control_Box1\\output_binned_rest_night1.csv\", header=None)\n",
    "#print('control Rest',df_rest_night1_ctrl_1)\n",
    "\n",
    "#control 2\n",
    "df_rest_night1_ctrl_2 =pd.read_csv(r\"\\\\linstore01\\home\\cbriziol\\Chiara\\Sleep_deprivation\\2025_06_03_SD_Chiara\\2025_06_03_Control_Box1\\output_binned_rest_night1.csv\", header=None)\n",
    "#print('control Rest',df_rest_night1_ctrl_2)\n",
    "\n",
    "# control 3\n",
    "df_rest_night1_ctrl_3 =pd.read_csv(r\"\\\\linstore01\\home\\cbriziol\\Chiara\\Sleep_deprivation\\2025_06_05_SD_Chiara\\2025_06_05_Control_Box1\\output_binned_rest_night1.csv\", header=None)\n",
    "#print('control Rest',df_rest_night1_ctrl_1)\n",
    "\n",
    "#control 4\n",
    "df_rest_night1_ctrl_4 =pd.read_csv(r\"\\\\linstore01\\home\\cbriziol\\Chiara\\Sleep_deprivation\\2025_06_27_SD_Chiara\\2025_06_27_Control_Box1\\output_binned_rest_night1.csv\", header=None)\n",
    "#print('control Rest',df_rest_night1_ctrl_2)\n"
   ]
  },
  {
   "cell_type": "code",
   "execution_count": 119,
   "id": "swedish-therapy",
   "metadata": {},
   "outputs": [],
   "source": [
    "# load data and convert into dataframe\n",
    "# Light Pulses1\n",
    "df_rest_night1_lp_1 =pd.read_csv(r\"\\\\linstore01\\home\\cbriziol\\Chiara\\Sleep_deprivation\\2025_06_02_SD_Chiara\\2025_06_02_LP_Box2\\output_binned_rest_night1.csv\", header=None)\n",
    "#print('light pulses Rest',df_rest_night1_ctrl_1)\n",
    "\n",
    "# Light pulses 2\n",
    "df_rest_night1_lp_2 =pd.read_csv(r\"\\\\linstore01\\home\\cbriziol\\Chiara\\Sleep_deprivation\\2025_06_03_SD_Chiara\\2025_06_03_LP_Box2\\output_binned_rest_night1.csv\", header=None)\n",
    "#print('light pulses Rest',df_rest_night1_ctrl_1)\n",
    "\n",
    "# Light Pulses3\n",
    "df_rest_night1_lp_3 =pd.read_csv(r\"\\\\linstore01\\home\\cbriziol\\Chiara\\Sleep_deprivation\\2025_06_05_SD_Chiara\\2025_06_05_LP_Box2\\output_binned_rest_night1.csv\", header=None)\n",
    "#print('light pulses Rest',df_rest_night1_ctrl_1)\n",
    "\n",
    "# Light pulses 4\n",
    "df_rest_night1_lp_4 =pd.read_csv(r\"\\\\linstore01\\home\\cbriziol\\Chiara\\Sleep_deprivation\\2025_06_27_SD_Chiara\\2025_06_27_LP_Box2\\output_binned_rest_night1.csv\", header=None)\n",
    "#print('light pulses Rest',df_rest_night1_ctrl_1)\n",
    "\n"
   ]
  },
  {
   "cell_type": "code",
   "execution_count": 72,
   "id": "5cd1c806-4e33-4f12-874e-a140c925b0db",
   "metadata": {},
   "outputs": [],
   "source": [
    "# load data and convert into dataframe\n",
    "# Continuous Light 1\n",
    "df_rest_night1_cont_1 =pd.read_csv(r\"D:\\Sleep_deprivation_data\\Analyzed_SD_forCFOS\\2025_5_19_SD_Chiara\\2025_5_19_Continuous_Box4\\output_binned_rest_night1.csv\", header=None)\n",
    "#print('light pulses Rest',df_rest_night1_ctrl_1)\n",
    "\n",
    "# Continuous Light 2\n",
    "df_rest_night1_cont_2 =pd.read_csv(r\"D:\\Sleep_deprivation_data\\Analyzed_SD_forCFOS\\2025_06_16_SD_Chiara\\2025_06_16_ContinuousLight_Box4\\output_binned_rest_night1.csv\", header=None)\n",
    "#print('light pulses Rest',df_rest_night1_ctrl_1)\n",
    "\n",
    "# Continuous Light 3\n",
    "df_rest_night1_cont_3 =pd.read_csv(r\"D:\\Sleep_deprivation_data\\Analyzed_SD_forCFOS\\2025_06_30_SD_Chiara\\2025_06_30_ContinuousLight_Box4\\output_binned_rest_night1.csv\", header=None)\n",
    "#print('light pulses Rest',df_rest_night1_ctrl_1)\n",
    "\n",
    "# Continuous Light 4\n",
    "df_rest_night1_cont_4 =pd.read_csv(r\"\\\\linstore01\\home\\cbriziol\\Chiara\\Sleep_deprivation\\2025_06_27_SD_Chiara\\2025_06_27_ContinuousLight_Box4\\output_binned_rest_night1.csv\", header=None)\n",
    "#print('light pulses Rest',df_rest_night1_ctrl_1)\n"
   ]
  },
  {
   "cell_type": "code",
   "execution_count": 73,
   "id": "260463d8-1f23-49f9-8cf6-93af5ee020a3",
   "metadata": {},
   "outputs": [],
   "source": [
    "# load data and convert into dataframe\n",
    "# Tapping 1\n",
    "df_rest_night1_tap_1 =pd.read_csv(r\"D:\\Sleep_deprivation_data\\Analyzed_SD_forCFOS\\2025_5_19_SD_Chiara\\2025_5_19_tapping_box3\\output_binned_rest_night1.csv\", header=None)\n",
    "#print('light pulses Rest',df_rest_night1_ctrl_1)\n",
    "\n",
    "# Tapping 2\n",
    "df_rest_night1_tap_2 =pd.read_csv(r\"D:\\Sleep_deprivation_data\\Analyzed_SD_forCFOS\\2025_06_16_SD_Chiara\\2025_06_16_Tapping_Box3\\output_binned_rest_night1.csv\", header=None)\n",
    "#print('light pulses Rest',df_rest_night1_ctrl_1)\n",
    "\n",
    "# Tapping 3\n",
    "df_rest_night1_tap_3 =pd.read_csv(r\"D:\\Sleep_deprivation_data\\Analyzed_SD_forCFOS\\2025_06_30_SD_Chiara\\2025_06_30_Tapping_Box3\\output_binned_rest_night1.csv\", header=None)\n",
    "#print('light pulses Rest',df_rest_night1_ctrl_1)\n",
    "\n",
    "# Tapping 4\n",
    "df_rest_night1_tap_4 =pd.read_csv(r\"\\\\linstore01\\home\\cbriziol\\Chiara\\Sleep_deprivation\\2025_06_27_SD_Chiara\\2025_06_27_Tapping_box3\\output_binned_rest_night1.csv\", header=None)\n",
    "#print('light pulses Rest',df_rest_night1_ctrl_1)\n"
   ]
  },
  {
   "cell_type": "markdown",
   "id": "prerequisite-skiing",
   "metadata": {},
   "source": [
    "concatenate"
   ]
  },
  {
   "cell_type": "code",
   "execution_count": 74,
   "id": "finished-thing",
   "metadata": {},
   "outputs": [],
   "source": [
    "df_rest_control_night1_concat = pd.concat([df_rest_night1_ctrl_1, df_rest_night1_ctrl_2, df_rest_night1_ctrl_3, df_rest_night1_ctrl_4], axis=1)"
   ]
  },
  {
   "cell_type": "code",
   "execution_count": 123,
   "id": "rolled-marketplace",
   "metadata": {},
   "outputs": [],
   "source": [
    "df_rest_lp_night1_concat = pd.concat([df_rest_night1_lp_1, df_rest_night1_lp_2, df_rest_night1_lp_3, df_rest_night1_lp_4], axis=1)"
   ]
  },
  {
   "cell_type": "code",
   "execution_count": 75,
   "id": "71f0aa2a-9bf5-4013-81ea-4afac1b5364f",
   "metadata": {},
   "outputs": [],
   "source": [
    "df_rest_cont_night1_concat = pd.concat([df_rest_night1_cont_1, df_rest_night1_cont_2, df_rest_night1_cont_3, df_rest_night1_cont_4], axis=1)"
   ]
  },
  {
   "cell_type": "code",
   "execution_count": 76,
   "id": "49a258f6-af7a-45c8-b1a1-203817d85665",
   "metadata": {},
   "outputs": [],
   "source": [
    "df_rest_tap_night1_concat = pd.concat([df_rest_night1_tap_1, df_rest_night1_tap_2, df_rest_night1_tap_3, df_rest_night1_tap_4], axis=1)"
   ]
  },
  {
   "cell_type": "markdown",
   "id": "directed-understanding",
   "metadata": {},
   "source": [
    "get the column averages --> mean per fish. Skip nans"
   ]
  },
  {
   "cell_type": "code",
   "execution_count": 77,
   "id": "fatal-elimination",
   "metadata": {},
   "outputs": [],
   "source": [
    "# control\n",
    "mean_df_rest_control_night1 = df_rest_control_night1_concat.mean(axis=0,skipna=True)\n",
    "#print(mean_df_rest_control_night1)\n",
    "\n",
    "# light pulses\n",
    "mean_df_rest_lp_night1 = df_rest_lp_night1_concat.mean(axis=0,skipna=True)\n",
    "\n",
    "# continuous light\n",
    "mean_df_rest_cont_night1 = df_rest_cont_night1_concat.mean(axis=0,skipna=True)\n",
    "\n",
    "# tapping\n",
    "mean_df_rest_tap_night1 = df_rest_tap_night1_concat.mean(axis=0,skipna=True)\n"
   ]
  },
  {
   "cell_type": "markdown",
   "id": "remarkable-investor",
   "metadata": {},
   "source": [
    "Change unit for REST from min/10min to min/h for rest.\n",
    "Multiply whole table by 6"
   ]
  },
  {
   "cell_type": "code",
   "execution_count": 78,
   "id": "south-paradise",
   "metadata": {},
   "outputs": [],
   "source": [
    "#control\n",
    "df_rest_control_night1 = mean_df_rest_control_night1.mul(6)\n",
    "#print(df_rest_control_night1)\n",
    "\n",
    "# light pulses\n",
    "df_rest_lp_night1 = mean_df_rest_lp_night1.mul(6)\n",
    "#print(df_rest_lp_night1)\n",
    "\n",
    "# continuous light\n",
    "df_rest_cont_night1 = mean_df_rest_cont_night1.mul(6)\n",
    "#print(df_rest_cont_night1)\n",
    "\n",
    "# tapping\n",
    "df_rest_tap_night1 = mean_df_rest_tap_night1.mul(6)\n",
    "#print(df_rest_cont_night1)\n"
   ]
  },
  {
   "cell_type": "code",
   "execution_count": 80,
   "id": "japanese-birthday",
   "metadata": {
    "scrolled": true
   },
   "outputs": [
    {
     "data": {
      "image/png": "[encoded data removed]",
      "text/plain": [
       "<Figure size 1200x500 with 3 Axes>"
      ]
     },
     "metadata": {},
     "output_type": "display_data"
    }
   ],
   "source": [
    "#a4_dims = (11.7, 8.27)\n",
    "#fig, ax = plt.subplots(figsize=a4_dims)\n",
    "\"\"\"\n",
    "fig, (ax1, ax2, ax3, ax4) = plt.subplots(1,4, sharey=True,  figsize=(12, 5))\n",
    "ax = sns.barplot(ax=ax1,y=df_rest_control_night1, color = \"black\", orient=\"v\", label=\"control\")\n",
    "ax = sns.stripplot(ax=ax1,data=df_rest_control_night1, dodge=True, color=\"black\", alpha = 0.05,jitter = 0.05)\n",
    "\n",
    "\n",
    "ax = sns.barplot(ax=ax2, y=df_rest_lp_night1, color = \"blue\", orient=\"v\", label=\"light pulses\")\n",
    "ax = sns.stripplot(ax=ax2,data=df_rest_lp_night1, dodge=True, color=\"blue\", alpha = 0.05,jitter = 0.05)\n",
    "\n",
    "\n",
    "ax = sns.barplot(ax=ax3, y=df_rest_cont_night1, color = \"red\", orient=\"v\", label=\"continuous light\")\n",
    "ax = sns.stripplot(ax=ax3,data=df_rest_cont_night1, dodge=True, color=\"red\", alpha = 0.05,jitter = 0.05)\n",
    "\n",
    "\n",
    "ax = sns.barplot(ax=ax4, y=df_rest_tap_night1, color = \"orange\", orient=\"v\", label=\"tapping\")\n",
    "ax = sns.stripplot(ax=ax4,data=df_rest_tap_night1, dodge=True, color=\"orange\", alpha = 0.05,jitter = 0.05)\n",
    "\n",
    "\n",
    "\n",
    "#ax1.set_title(\"Sleep night 1\")\n",
    "#ax1.set_ylabel(\"Sleep min/h\")\n",
    "fig.suptitle(\"Sleep night 1\", fontsize=16, y=1.05, x=0.5)\n",
    "ax1.set_ylabel(\"Sleep min/h\",fontsize=16)\n",
    "#ax.set_xlim(0,)\n",
    "ax.set_ylim(0,64)\n",
    "\n",
    "\n",
    "\n",
    "sns.despine(right=True, bottom=False)\n",
    "ax.legend()\n",
    "\"\"\"\n",
    "\n",
    "fig, (ax1, ax2, ax3, ax4) = plt.subplots(1, 4, sharey=True, figsize=(12, 5))\n",
    "\n",
    "# --- Control ---\n",
    "ax = sns.barplot(ax=ax1, y=df_rest_control_night1, color=\"black\", orient=\"v\", label=\"control\")\n",
    "for p in ax1.patches:\n",
    "    p.set_alpha(0.5)  # Make bars semi-transparent\n",
    "sns.stripplot(ax=ax1, data=df_rest_control_night1, dodge=True, color=\"black\", alpha=0.80, jitter=0.05)\n",
    "\n",
    "# --- Light Pulses ---\n",
    "ax = sns.barplot(ax=ax2, y=df_rest_lp_night1, color=\"blue\", orient=\"v\", label=\"light pulses\")\n",
    "for p in ax2.patches:\n",
    "    p.set_alpha(0.5)\n",
    "sns.stripplot(ax=ax2, data=df_rest_lp_night1, dodge=True, color=\"blue\", alpha=0.80, jitter=0.05)\n",
    "\n",
    "# --- Continuous Light ---\n",
    "ax = sns.barplot(ax=ax3, y=df_rest_cont_night1, color=\"red\", orient=\"v\", label=\"continuous light\")\n",
    "for p in ax3.patches:\n",
    "    p.set_alpha(0.5)\n",
    "sns.stripplot(ax=ax3, data=df_rest_cont_night1, dodge=True, color=\"red\", alpha=0.80, jitter=0.05)\n",
    "\n",
    "# --- Tapping ---\n",
    "ax = sns.barplot(ax=ax4, y=df_rest_tap_night1, color=\"orange\", orient=\"v\", label=\"tapping\")\n",
    "for p in ax4.patches:\n",
    "    p.set_alpha(0.5)\n",
    "sns.stripplot(ax=ax4, data=df_rest_tap_night1, dodge=True, color=\"orange\", alpha=0.80, jitter=0.05)\n",
    "\n",
    "# Titles and Labels\n",
    "fig.suptitle(\"Sleep night 1\", fontsize=16, y=0.95, x=0.5)\n",
    "ax1.set_ylabel(\"Sleep min/h\", fontsize=16)\n",
    "ax.set_ylim(0, 64)\n",
    "\n",
    "# Clean up\n",
    "sns.despine(right=True, bottom=False)\n",
    "ax1.legend()\n",
    "\n",
    "# Save the figure\n",
    "fig.savefig(r\"D:\\SD_pooled\\SD_forcFos\\Sleep_night1.pdf\")\n"
   ]
  },
  {
   "cell_type": "code",
   "execution_count": 82,
   "id": "fee1586f-326d-4e32-b4e0-f1c17e06554c",
   "metadata": {},
   "outputs": [
    {
     "name": "stdout",
     "output_type": "stream",
     "text": [
      "One-way ANOVA: F = 926.4054941121074, p = 0.0\n"
     ]
    }
   ],
   "source": [
    "# Pool each group's data\n",
    "control = pd.concat([\n",
    "    df_rest_night1_ctrl_1,\n",
    "    df_rest_night1_ctrl_2,\n",
    "    df_rest_night1_ctrl_3,\n",
    "    df_rest_night1_ctrl_4\n",
    "], axis=0).values.flatten()\n",
    "\n",
    "continuous = pd.concat([\n",
    "    df_rest_night1_cont_1,\n",
    "    df_rest_night1_cont_2,\n",
    "    df_rest_night1_cont_3,\n",
    "    df_rest_night1_cont_4\n",
    "], axis=0).values.flatten()\n",
    "\n",
    "light_pulses = pd.concat([\n",
    "    df_rest_night1_lp_1,\n",
    "    df_rest_night1_lp_2,\n",
    "    df_rest_night1_lp_3,\n",
    "    df_rest_night1_lp_4\n",
    "], axis=0).values.flatten()\n",
    "\n",
    "tapping = pd.concat([\n",
    "    df_rest_night1_tap_1,\n",
    "    df_rest_night1_tap_2,\n",
    "    df_rest_night1_tap_3,\n",
    "    df_rest_night1_tap_4\n",
    "], axis=0).values.flatten()\n",
    "\n",
    "# Run one-way ANOVA\n",
    "f_stat, p_val = ss.f_oneway(control, continuous, tapping, light_pulses)\n",
    "print(f\"One-way ANOVA: F = {f_stat}, p = {p_val}\")\n"
   ]
  },
  {
   "cell_type": "code",
   "execution_count": 83,
   "id": "35519cc2-5fff-4eb7-8afc-cb5e079b5ac7",
   "metadata": {},
   "outputs": [
    {
     "name": "stdout",
     "output_type": "stream",
     "text": [
      "  Multiple Comparison of Means - Tukey HSD, FWER=0.05   \n",
      "========================================================\n",
      "  group1    group2 meandiff p-adj  lower   upper  reject\n",
      "--------------------------------------------------------\n",
      "continuous control   2.6459   0.0  2.4999  2.7918   True\n",
      "continuous tapping   1.6836   0.0  1.5382   1.829   True\n",
      "   control tapping  -0.9623   0.0 -1.1081 -0.8165   True\n",
      "--------------------------------------------------------\n"
     ]
    }
   ],
   "source": [
    "\n",
    "# Combine all pooled data\n",
    "data = np.concatenate([control, continuous,tapping,light_pulses])  \n",
    "\n",
    "# Group labels, in same order\n",
    "groups = (\n",
    "    ['control'] * len(control) +\n",
    "    ['continuous'] * len(continuous) +\n",
    "    ['light_pulses'] * len(light_pulses) +\n",
    "    ['tapping'] * len(tapping)\n",
    ")\n",
    "\n",
    "# Tukey HSD\n",
    "tukey = pairwise_tukeyhsd(endog=data, groups=groups, alpha=0.05)\n",
    "print(tukey)\n",
    "\n",
    "# Assume tukey is a TukeyHSDResults object\n",
    "tukey_df = pd.DataFrame(data=tukey.summary().data[1:], columns=tukey.summary().data[0])\n",
    "\n",
    "save_dir = Path(r'D:\\SD_pooled\\SD_forcFos')\n",
    "doc_name = save_dir / 'tukey_RestNight1.xlsx'\n",
    "tukey_df.to_excel(doc_name, index=False)\n",
    "\n"
   ]
  },
  {
   "cell_type": "code",
   "execution_count": 84,
   "id": "2d9bf1a0-a9cd-4c0b-a26f-e4f6363f13bb",
   "metadata": {},
   "outputs": [
    {
     "name": "stdout",
     "output_type": "stream",
     "text": [
      "       group1   group2  meandiff    p-adj   lower   upper  reject\n",
      "0  continuous  control    2.6459  < 1e-16  2.4999  2.7918    True\n",
      "1  continuous  tapping    1.6836  < 1e-16  1.5382  1.8290    True\n",
      "2     control  tapping   -0.9623  < 1e-16 -1.1081 -0.8165    True\n"
     ]
    }
   ],
   "source": [
    "# Step 1: Convert Tukey summary to DataFrame\n",
    "data = tukey.summary().data\n",
    "columns = data[0]\n",
    "rows = data[1:]\n",
    "tukey_df = pd.DataFrame(rows, columns=columns)\n",
    "\n",
    "# Step 2: Convert 'p-adj' to numeric\n",
    "tukey_df['p-adj'] = pd.to_numeric(tukey_df['p-adj'])\n",
    "\n",
    "# Step 3: Replace zero p-values with \"< 1e-16\"\n",
    "tukey_df['p-adj'] = tukey_df['p-adj'].apply(\n",
    "    lambda x: \"< 1e-16\" if x == 0 else f\"{x:.2e}\"\n",
    ")\n",
    "\n",
    "# Optional: Preview the DataFrame\n",
    "print(tukey_df)\n",
    "\n",
    "# Step 4: Save to Excel\n",
    "save_dir = Path(r'D:\\SD_pooled\\SD_forcFos')\n",
    "doc_name = save_dir / 'tukey2_RestNight1.xlsx'\n",
    "tukey_df.to_excel(doc_name, index=False)\n",
    "\n"
   ]
  },
  {
   "cell_type": "code",
   "execution_count": null,
   "id": "2772e575-421a-475e-abc7-41a2393c88be",
   "metadata": {},
   "outputs": [],
   "source": []
  },
  {
   "cell_type": "code",
   "execution_count": null,
   "id": "consolidated-trail",
   "metadata": {},
   "outputs": [],
   "source": [
    "# independent t-test\n",
    "\"\"\"\n",
    "#control vs continuous\n",
    "p = ss.ttest_ind(df_rest_control_night1, df_rest_cont_night1, equal_var=False)\n",
    "print(\"control vs continuous:\", p)"
   ]
  },
  {
   "cell_type": "code",
   "execution_count": null,
   "id": "4e60d3e3-8ea8-452e-b5b4-3a3bf29a70e8",
   "metadata": {},
   "outputs": [],
   "source": [
    "# independent t-test\n",
    "\"\"\"\n",
    "#control vs light pulses\n",
    "p = ss.ttest_ind(df_rest_control_night1, df_rest_lp_night1, equal_var=False)\n",
    "print(\"control vs light pulses:\", p)"
   ]
  },
  {
   "cell_type": "code",
   "execution_count": 94,
   "id": "23401a43-6fb8-4c14-a07e-881ff28b8002",
   "metadata": {},
   "outputs": [
    {
     "data": {
      "text/plain": [
       "'\\n#control vs tapping\\np = ss.ttest_ind(df_rest_control_night1, df_rest_tap_night1, equal_var=False)\\nprint(\"control vs tapping:\", p)\\n'"
      ]
     },
     "execution_count": 94,
     "metadata": {},
     "output_type": "execute_result"
    }
   ],
   "source": [
    "# independent t-test\n",
    "\"\"\"\n",
    "#control vs tapping\n",
    "p = ss.ttest_ind(df_rest_control_night1, df_rest_tap_night1, equal_var=False)\n",
    "print(\"control vs tapping:\", p)\n",
    "\"\"\""
   ]
  },
  {
   "cell_type": "code",
   "execution_count": null,
   "id": "499135d9-a5c3-468c-b80a-f3662cef5cbb",
   "metadata": {},
   "outputs": [],
   "source": []
  },
  {
   "cell_type": "markdown",
   "id": "b01910d7-7352-46a5-acb2-ddb21443e3d4",
   "metadata": {},
   "source": [
    "REST DAY1"
   ]
  },
  {
   "cell_type": "code",
   "execution_count": null,
   "id": "27d50079-cb8d-40dd-bbbe-2042f51596e3",
   "metadata": {},
   "outputs": [],
   "source": [
    "#Control1\n",
    "#df_rest_day1_ctrl_1 = pd.read_csv(r\"\\\\linstore01\\home\\cbriziol\\Chiara\\Sleep_deprivation\\2025_06_02_SD_Chiara\\2025_06_02_Control_Box1\\output_binned_rest_day1.csv\", header=None)\n",
    "\n",
    "#Control2\n",
    "#df_rest_day1_ctrl_2 = pd.read_csv(r\"\\\\linstore01\\home\\cbriziol\\Chiara\\Sleep_deprivation\\2025_06_03_SD_Chiara\\2025_06_03_Control_Box1\\output_binned_rest_day1.csv\", header=None)\n",
    "\n",
    "#Control3\n",
    "#df_rest_day1_ctrl_3 = pd.read_csv(r\"\\\\linstore01\\home\\cbriziol\\Chiara\\Sleep_deprivation\\2025_06_05_SD_Chiara\\2025_06_05_Control_Box1\\output_binned_rest_day1.csv\", header=None)\n",
    "\n",
    "#Control4\n",
    "#df_rest_day1_ctrl_4 = pd.read_csv(r\"\\\\linstore01\\home\\cbriziol\\Chiara\\Sleep_deprivation\\2025_06_27_SD_Chiara\\2025_06_27_Control_Box1\\output_binned_rest_day1.csv\", header=None)"
   ]
  },
  {
   "cell_type": "code",
   "execution_count": null,
   "id": "05533757-90c5-4e32-84e0-f8c98d36bc2e",
   "metadata": {},
   "outputs": [],
   "source": [
    "#Light Pulses1\n",
    "#df_rest_day1_lp_1 = pd.read_csv(r\"\\\\linstore01\\home\\cbriziol\\Chiara\\Sleep_deprivation\\2025_06_02_SD_Chiara\\2025_06_02_LP_Box2\\output_binned_rest_day1.csv\", header=None)\n",
    "\n",
    "#Light Pulses 2\n",
    "#df_rest_day1_lp_2 = pd.read_csv(r\"C:\\Users\\cbriziol\\Desktop\\2025_3_19_SD_Chiara\\2025_3_19_LP_Box4\\output_binned_rest_day1.csv\", header=None)\n",
    "\n",
    "#Light Pulses 3\n",
    "#df_rest_day1_lp_3 = pd.read_csv(r\"C:\\Users\\cbriziol\\Desktop\\2025_3_18_SD_Chiara\\2025_3_18_LP_Box4\\output_binned_rest_day1.csv\", header=None)\n",
    "\n",
    "#Light pulses4\n",
    "#df_rest_day1_lp_4 = pd.read_csv(r\"C:\\Users\\cbriziol\\Desktop\\2025_3_19_SD_Chiara\\2025_3_19_LP_Box4\\output_binned_rest_day1.csv\", header=None)\n"
   ]
  },
  {
   "cell_type": "code",
   "execution_count": null,
   "id": "3aa8a54b-c2cb-48fc-80ef-144f2c7171ef",
   "metadata": {},
   "outputs": [],
   "source": [
    "#Continuous Light 1\n",
    "#df_rest_day1_cont_1 = pd.read_csv(r\"C:\\Users\\cbriziol\\Desktop\\2025_3_18_SD_Chiara\\2025_3_18_ContinuousLight_Box2\\output_binned_rest_day1.csv\", header=None)\n",
    "\n",
    "#Continuous Light2\n",
    "#df_rest_day1_cont_2 = pd.read_csv(r\"C:\\Users\\cbriziol\\Desktop\\2025_3_19_SD_Chiara\\2025_3_19_ContinuousLight_Box2\\output_binned_rest_day1.csv\", header=None)\n",
    "\n",
    "#Continuous Light3\n",
    "#df_rest_day1_cont_3 = pd.read_csv(r\"C:\\Users\\cbriziol\\Desktop\\2025_3_18_SD_Chiara\\2025_3_18_ContinuousLight_Box2\\output_binned_rest_day1.csv\", header=None)\n",
    "\n",
    "#Continuous Light4\n",
    "#df_rest_day1_cont_4 = pd.read_csv(r\"C:\\Users\\cbriziol\\Desktop\\2025_3_19_SD_Chiara\\2025_3_19_ContinuousLight_Box2\\output_binned_rest_day1.csv\", header=None)\n"
   ]
  },
  {
   "cell_type": "code",
   "execution_count": null,
   "id": "109f8ff8-eae6-43a8-b15c-c677b3db154d",
   "metadata": {},
   "outputs": [],
   "source": [
    "#Tapping 1\n",
    "#df_rest_day1_tap_1 = pd.read_csv(r\"C:\\Users\\cbriziol\\Desktop\\2025_3_18_SD_Chiara\\2025_3_18_ContinuousLight_Box2\\output_binned_rest_day1.csv\", header=None)\n",
    "\n",
    "#Tapping2\n",
    "#df_rest_day1_cont_2 = pd.read_csv(r\"C:\\Users\\cbriziol\\Desktop\\2025_3_19_SD_Chiara\\2025_3_19_ContinuousLight_Box2\\output_binned_rest_day1.csv\", header=None)\n",
    "\n",
    "#Tapping3\n",
    "#df_rest_day1_cont_3 = pd.read_csv(r\"C:\\Users\\cbriziol\\Desktop\\2025_3_18_SD_Chiara\\2025_3_18_ContinuousLight_Box2\\output_binned_rest_day1.csv\", header=None)\n",
    "\n",
    "#Tapping4\n",
    "#df_rest_day1_tap_4 = pd.read_csv(r\"C:\\Users\\cbriziol\\Desktop\\2025_3_19_SD_Chiara\\2025_3_19_ContinuousLight_Box2\\output_binned_rest_day1.csv\", header=None)"
   ]
  },
  {
   "cell_type": "markdown",
   "id": "413223e9-619d-4302-9f29-ad05cbbaaeaa",
   "metadata": {},
   "source": [
    "concatenate"
   ]
  },
  {
   "cell_type": "code",
   "execution_count": null,
   "id": "76182236-1dca-4cf6-860b-b1dc5d15aeae",
   "metadata": {},
   "outputs": [],
   "source": [
    "#df_rest_control_day1_concat = pd.concat([df_rest_day1_ctrl_1, df_rest_day1_ctrl_2, df_rest_day1_ctrl_3, df_rest_day1_ctrl_4], axis=1)"
   ]
  },
  {
   "cell_type": "code",
   "execution_count": null,
   "id": "b7b53fe3-822c-4f7a-a9ec-314f7f561e61",
   "metadata": {},
   "outputs": [],
   "source": [
    "#df_rest_lp_day1_concat = pd.concat([df_rest_day1_lp_1, df_rest_day1_lp_2, df_rest_day1_lp_3, df_rest_day1_lp_4], axis=1)"
   ]
  },
  {
   "cell_type": "code",
   "execution_count": null,
   "id": "c4694c1a-020c-470a-8259-379479ee6c04",
   "metadata": {},
   "outputs": [],
   "source": [
    "#df_rest_cont_day1_concat = pd.concat([df_rest_day1_cont_1, df_rest_day1_cont_2, df_rest_day1_cont_3, df_rest_day1_cont_4], axis=1)"
   ]
  },
  {
   "cell_type": "code",
   "execution_count": null,
   "id": "f2cf157f-b7ee-47b7-9e67-0c74464a8479",
   "metadata": {},
   "outputs": [],
   "source": [
    "#df_rest_tap_day1_concat = pd.concat([df_rest_day1_tap_1, df_rest_day1_tap_2,  df_rest_day1_tap_3,  df_rest_day1_tap_4], axis=1)"
   ]
  },
  {
   "cell_type": "markdown",
   "id": "61f99d80-f44d-45b6-be0a-ddf71451f267",
   "metadata": {},
   "source": [
    "get the column averages --> mean per fish. Skip nans"
   ]
  },
  {
   "cell_type": "code",
   "execution_count": null,
   "id": "3600b96d-d524-4cc0-8077-4d4ff2a961aa",
   "metadata": {},
   "outputs": [],
   "source": [
    "#mean_df_rest_control_day1 = df_rest_control_day1_concat.mean(axis=0,skipna=True)\n",
    "\n",
    "#mean_df_rest_lp_day1 = df_rest_lp_day1_concat.mean(axis=0,skipna=True)\n",
    "\n",
    "#mean_df_rest_cont_day1 = df_rest_cont_day1_concat.mean(axis=0,skipna=True)\n",
    "\n",
    "#mean_df_rest_tap_day1 = df_rest_tap_day1_concat.mean(axis=0,skipna=True)"
   ]
  },
  {
   "cell_type": "markdown",
   "id": "f7c15b18-5c6a-435a-92bf-a18f24b10710",
   "metadata": {},
   "source": [
    "Change unit for REST from min/10min to min/h for rest. Multiply whole table by 6"
   ]
  },
  {
   "cell_type": "code",
   "execution_count": null,
   "id": "4524a707-538e-4642-8765-0218134a513f",
   "metadata": {},
   "outputs": [],
   "source": [
    "#df_rest_control_day1 = mean_df_rest_control_day1.mul(6)\n",
    "\n",
    "#df_rest_lp_day1 = mean_df_rest_lp_day1.mul(6)\n",
    "\n",
    "#df_rest_cont_day1 = mean_df_rest_cont_day1.mul(6)\n",
    "\n",
    "#df_rest_tap_day1 = mean_df_rest_tap_day1.mul(6)"
   ]
  },
  {
   "cell_type": "code",
   "execution_count": null,
   "id": "b7b480bf-7434-45ae-9a2c-11c95665a0a9",
   "metadata": {},
   "outputs": [],
   "source": [
    "#a4_dims = (11.7, 8.27)\n",
    "#fig, ax = plt.subplots(figsize=a4_dims)\n",
    "\"\"\"\n",
    "fig, (ax1, ax2, ax3, ax4) = plt.subplots(1, 4, sharey=True, figsize=(12, 5))\n",
    "\n",
    "# --- Control ---\n",
    "ax = sns.barplot(ax=ax1, y=df_rest_control_day1, color=\"black\", orient=\"v\", label=\"control\")\n",
    "for p in ax1.patches:\n",
    "    p.set_alpha(0.5)  # Make bars semi-transparent\n",
    "sns.stripplot(ax=ax1, data=df_rest_control_day1, dodge=True, color=\"black\", alpha=0.80, jitter=0.05)\n",
    "\n",
    "# --- Light Pulses ---\n",
    "ax = sns.barplot(ax=ax2, y=df_rest_lp_day1, color=\"blue\", orient=\"v\", label=\"light pulses\")\n",
    "for p in ax2.patches:\n",
    "    p.set_alpha(0.5)\n",
    "sns.stripplot(ax=ax2, data=df_rest_lp_day1, dodge=True, color=\"blue\", alpha=0.80, jitter=0.05)\n",
    "\n",
    "# --- Continuous Light ---\n",
    "ax = sns.barplot(ax=ax3, y=df_rest_cont_day1, color=\"red\", orient=\"v\", label=\"continuous light\")\n",
    "for p in ax3.patches:\n",
    "    p.set_alpha(0.5)\n",
    "sns.stripplot(ax=ax3, data=df_rest_cont_day1, dodge=True, color=\"red\", alpha=0.80, jitter=0.05)\n",
    "\n",
    "# --- Tapping ---\n",
    "ax = sns.barplot(ax=ax4, y=df_rest_tap_day1, color=\"orange\", orient=\"v\", label=\"tapping\")\n",
    "for p in ax4.patches:\n",
    "    p.set_alpha(0.5)\n",
    "sns.stripplot(ax=ax4, data=df_rest_tap_day1, dodge=True, color=\"orange\", alpha=0.80, jitter=0.05)\n",
    "\n",
    "# Titles and Labels\n",
    "fig.suptitle(\"Sleep night 1\", fontsize=16, y=0.95, x=0.5)\n",
    "ax1.set_ylabel(\"Sleep min/h\", fontsize=16)\n",
    "ax.set_ylim(0, 64)\n",
    "\n",
    "# Clean up\n",
    "sns.despine(right=True, bottom=False)\n",
    "ax1.legend()\n",
    "\n",
    "# Save the figure\n",
    "fig.savefig(r\"C:\\Users\\cbriziol\\Desktop\\SD_pooled\\SD_forOMR\\Sleep_Day1.pdf\")\n",
    "\n",
    "\"\"\"\n"
   ]
  },
  {
   "cell_type": "code",
   "execution_count": null,
   "id": "6a2790bd-9b28-430c-84ec-8eea71e75ed7",
   "metadata": {},
   "outputs": [],
   "source": [
    "\"\"\"\n",
    "# Pool each group's data\n",
    "control = pd.concat([\n",
    "    df_rest_day1_ctrl_1,\n",
    "    df_rest_day1_ctrl_2,\n",
    "    df_rest_day1_ctrl_3,\n",
    "    df_rest_day1_ctrl_4\n",
    "], axis=0).values.flatten()\n",
    "\n",
    "continuous = pd.concat([\n",
    "    df_rest_day1_cont_1,\n",
    "    df_rest_day1_cont_2,\n",
    "    df_rest_day1_cont_3,\n",
    "    df_rest_day1_cont_4\n",
    "], axis=0).values.flatten()\n",
    "\n",
    "light_pulses = pd.concat([\n",
    "    df_rest_day1_lp_1,\n",
    "    df_rest_day1_lp_2,\n",
    "    df_rest_day1_lp_3,\n",
    "    df_rest_day1_lp_4\n",
    "], axis=0).values.flatten()\n",
    "\n",
    "tapping = pd.concat([\n",
    "    df_rest_day1_tap_1,\n",
    "    df_rest_day1_tap_2,\n",
    "    df_rest_day1_tap_3,\n",
    "    df_rest_day1_tap_4\n",
    "], axis=0).values.flatten()\n",
    "\n",
    "# Run one-way ANOVA\n",
    "f_stat, p_val = ss.f_oneway(control, continuous, tapping, light_pulses)\n",
    "print(f\"One-way ANOVA: F = {f_stat}, p = {p_val}\")\n",
    "\"\"\"\n"
   ]
  },
  {
   "cell_type": "code",
   "execution_count": null,
   "id": "3e547ae7-f3ed-4a3b-be64-b9a206d8cc91",
   "metadata": {},
   "outputs": [],
   "source": [
    "\"\"\"\n",
    "# Combine all pooled data\n",
    "data = np.concatenate([control, continuous,tapping,light_pulses])\n",
    "\n",
    "# Group labels, in same order\n",
    "groups = (\n",
    "    ['control'] * len(control) +\n",
    "    ['continuous'] * len(continuous) +\n",
    "    ['light_pulses'] * len(light_pulses) +\n",
    "    ['tapping'] * len(tapping)\n",
    ")\n",
    "\n",
    "# Tukey HSD\n",
    "tukey = pairwise_tukeyhsd(endog=data, groups=groups, alpha=0.05)\n",
    "print(tukey)\n",
    "\n",
    "# Assume tukey is a TukeyHSDResults object\n",
    "tukey_df = pd.DataFrame(data=tukey.summary().data[1:], columns=tukey.summary().data[0])\n",
    "\n",
    "save_dir = Path(r'C:\\Users\\cbriziol\\Desktop\\SD_pooled\\SD_forOMR')\n",
    "doc_name = save_dir / 'tukey_RestDay1.xlsx'\n",
    "tukey_df.to_excel(doc_name, index=False)\n",
    "\n",
    "\"\"\""
   ]
  },
  {
   "cell_type": "code",
   "execution_count": null,
   "id": "0d94b1b2-46fc-4985-984e-b782d39be117",
   "metadata": {},
   "outputs": [],
   "source": []
  },
  {
   "cell_type": "code",
   "execution_count": null,
   "id": "3ce4bdb1-539d-46a4-8c71-c59a9db454b9",
   "metadata": {},
   "outputs": [],
   "source": []
  },
  {
   "cell_type": "markdown",
   "id": "bf79113a-2c92-46cb-b02c-a4dcd4079e52",
   "metadata": {},
   "source": [
    "Waking Activity Day0"
   ]
  },
  {
   "cell_type": "code",
   "execution_count": 85,
   "id": "recorded-soundtrack",
   "metadata": {},
   "outputs": [],
   "source": [
    "# load data and convert into dataframe\n",
    "# control 1\n",
    "df_wakeAct_day0_ctrl_1 =pd.read_csv(r\"D:\\Sleep_deprivation_data\\Analyzed_SD_forCFOS\\2025_5_19_SD_Chiara\\2025_5_19_Control_Box1\\output_binned_wakeAct_day0.csv\", header=None)\n",
    "\n",
    "#control 2\n",
    "df_wakeAct_day0_ctrl_2 =pd.read_csv(r\"D:\\Sleep_deprivation_data\\Analyzed_SD_forCFOS\\2025_06_16_SD_Chiara\\2025_06_16_Control_Box1\\output_binned_wakeAct_day0.csv\", header=None)\n",
    "\n",
    "# control 3\n",
    "df_wakeAct_day0_ctrl_3 =pd.read_csv(r\"D:\\Sleep_deprivation_data\\Analyzed_SD_forCFOS\\2025_06_30_SD_Chiara\\2025_06_30_Control_Box1\\output_binned_wakeAct_day0.csv\", header=None)\n",
    "\n",
    "#control 4\n",
    "df_wakeAct_day0_ctrl_4 =pd.read_csv(r\"\\\\linstore01\\home\\cbriziol\\Chiara\\Sleep_deprivation\\2025_06_27_SD_Chiara\\2025_06_27_Control_Box1\\output_binned_wakeAct_day0.csv\", header=None)\n"
   ]
  },
  {
   "cell_type": "code",
   "execution_count": 133,
   "id": "0ee49df6-48d4-407f-99cd-f20bf85c823f",
   "metadata": {},
   "outputs": [],
   "source": [
    "# load data and convert into dataframe\n",
    "# Light Pulses1\n",
    "df_wakeAct_day0_lp_1 =pd.read_csv(r\"\\\\linstore01\\home\\cbriziol\\Chiara\\Sleep_deprivation\\2025_06_02_SD_Chiara\\2025_06_02_LP_Box2\\output_binned_wakeAct_day0.csv\", header=None)\n",
    "\n",
    "# Light pulses 2\n",
    "df_wakeAct_day0_lp_2 =pd.read_csv(r\"\\\\linstore01\\home\\cbriziol\\Chiara\\Sleep_deprivation\\2025_06_03_SD_Chiara\\2025_06_03_LP_Box2\\output_binned_wakeAct_day0.csv\", header=None)\n",
    "\n",
    "# Light Pulses3\n",
    "df_wakeAct_day0_lp_3 =pd.read_csv(r\"\\\\linstore01\\home\\cbriziol\\Chiara\\Sleep_deprivation\\2025_06_05_SD_Chiara\\2025_06_05_LP_Box2\\output_binned_wakeAct_day0.csv\", header=None)\n",
    "\n",
    "# Light pulses 4\n",
    "df_wakeAct_day0_lp_4 =pd.read_csv(r\"\\\\linstore01\\home\\cbriziol\\Chiara\\Sleep_deprivation\\2025_06_27_SD_Chiara\\2025_06_27_LP_Box2\\output_binned_wakeAct_day0.csv\", header=None)"
   ]
  },
  {
   "cell_type": "code",
   "execution_count": 86,
   "id": "31ec47dd-262b-4790-81f8-3c8c95bdc3dc",
   "metadata": {},
   "outputs": [],
   "source": [
    "# load data and convert into dataframe\n",
    "# Continuous Light 1\n",
    "df_wakeAct_day0_cont_1 =pd.read_csv(r\"D:\\Sleep_deprivation_data\\Analyzed_SD_forCFOS\\2025_5_19_SD_Chiara\\2025_5_19_Continuous_Box4\\output_binned_wakeAct_day0.csv\", header=None)\n",
    "\n",
    "# Continuous Light 2\n",
    "df_wakeAct_day0_cont_2 =pd.read_csv(r\"D:\\Sleep_deprivation_data\\Analyzed_SD_forCFOS\\2025_06_16_SD_Chiara\\2025_06_16_ContinuousLight_Box4\\output_binned_wakeAct_day0.csv\", header=None)\n",
    "\n",
    "# Continuous Light 3\n",
    "df_wakeAct_day0_cont_3 =pd.read_csv(r\"D:\\Sleep_deprivation_data\\Analyzed_SD_forCFOS\\2025_06_30_SD_Chiara\\2025_06_30_ContinuousLight_Box4\\output_binned_wakeAct_day0.csv\", header=None)\n",
    "\n",
    "# Continuous Light 4\n",
    "df_wakeAct_day0_cont_4 =pd.read_csv(r\"\\\\linstore01\\home\\cbriziol\\Chiara\\Sleep_deprivation\\2025_06_27_SD_Chiara\\2025_06_27_ContinuousLight_Box4\\output_binned_wakeAct_day0.csv\", header=None)"
   ]
  },
  {
   "cell_type": "code",
   "execution_count": 87,
   "id": "f59132b4-884e-4b2e-b689-091a59021acf",
   "metadata": {},
   "outputs": [],
   "source": [
    "# load data and convert into dataframe\n",
    "# Tapping 1\n",
    "df_wakeAct_day0_tapping_1 =pd.read_csv(r\"D:\\Sleep_deprivation_data\\Analyzed_SD_forCFOS\\2025_5_19_SD_Chiara\\2025_5_19_tapping_box3\\output_binned_wakeAct_day0.csv\", header=None)\n",
    "\n",
    "# Tapping 2\n",
    "df_wakeAct_day0_tapping_2 =pd.read_csv(r\"D:\\Sleep_deprivation_data\\Analyzed_SD_forCFOS\\2025_06_16_SD_Chiara\\2025_06_16_Tapping_Box3\\output_binned_wakeAct_day0.csv\", header=None)\n",
    "\n",
    "# Tapping 3\n",
    "df_wakeAct_day0_tapping_3 =pd.read_csv(r\"D:\\Sleep_deprivation_data\\Analyzed_SD_forCFOS\\2025_06_30_SD_Chiara\\2025_06_30_Tapping_Box3\\output_binned_wakeAct_day0.csv\", header=None)\n",
    "\n",
    "# Tapping 4\n",
    "df_wakeAct_day0_tapping_4 =pd.read_csv(r\"\\\\linstore01\\home\\cbriziol\\Chiara\\Sleep_deprivation\\2025_06_27_SD_Chiara\\2025_06_27_Tapping_box3\\output_binned_wakeAct_day0.csv\", header=None)\n"
   ]
  },
  {
   "cell_type": "markdown",
   "id": "25936271-c095-4623-b69e-56cded258333",
   "metadata": {},
   "source": [
    "concatenate"
   ]
  },
  {
   "cell_type": "code",
   "execution_count": 88,
   "id": "ace75ac2-c405-49a6-8548-d4a94260554f",
   "metadata": {},
   "outputs": [],
   "source": [
    "# control\n",
    "df_wakeAct_day0_ctrl_concat = pd.concat([df_wakeAct_day0_ctrl_1, df_wakeAct_day0_ctrl_2, df_wakeAct_day0_ctrl_3, df_wakeAct_day0_ctrl_4], axis=1)"
   ]
  },
  {
   "cell_type": "code",
   "execution_count": 137,
   "id": "2e834674-1227-4cfd-8006-5c6e442b55f3",
   "metadata": {},
   "outputs": [],
   "source": [
    "# light pulses\n",
    "df_wakeAct_day0_lp_concat = pd.concat([df_wakeAct_day0_lp_1, df_wakeAct_day0_lp_2, df_wakeAct_day0_lp_3, df_wakeAct_day0_lp_4], axis=1)"
   ]
  },
  {
   "cell_type": "code",
   "execution_count": 89,
   "id": "cc78b925-9e3a-478a-8770-20356101c747",
   "metadata": {},
   "outputs": [],
   "source": [
    "# continuous light\n",
    "df_wakeAct_day0_cont_concat = pd.concat([df_wakeAct_day0_cont_1, df_wakeAct_day0_cont_2, df_wakeAct_day0_cont_3, df_wakeAct_day0_cont_4], axis=1)"
   ]
  },
  {
   "cell_type": "code",
   "execution_count": 90,
   "id": "2e9940e9-1054-4a6e-b09a-482fdd76e8ad",
   "metadata": {},
   "outputs": [],
   "source": [
    "# tapping\n",
    "df_wakeAct_day0_tap_concat = pd.concat([df_wakeAct_day0_tapping_1, df_wakeAct_day0_tapping_2, df_wakeAct_day0_tapping_3, df_wakeAct_day0_tapping_4], axis=1)"
   ]
  },
  {
   "cell_type": "markdown",
   "id": "ef35d42e-0447-4507-ba2c-ab03e303d53a",
   "metadata": {},
   "source": [
    "get the column averages --> mean per fish. Skip nans"
   ]
  },
  {
   "cell_type": "code",
   "execution_count": 91,
   "id": "15c207ab-3f4c-4871-a2e5-ca5b718fba54",
   "metadata": {},
   "outputs": [],
   "source": [
    "# control\n",
    "mean_df_wakeAct_day0_ctrl = df_wakeAct_day0_ctrl_concat.mean(axis=0,skipna=True)\n",
    "\n",
    "# light pulses\n",
    "mean_df_wakeAct_day0_lp = df_wakeAct_day0_lp_concat.mean(axis=0,skipna=True)\n",
    "\n",
    "# continuous light\n",
    "mean_df_wakeAct_day0_cont = df_wakeAct_day0_cont_concat.mean(axis=0,skipna=True)\n",
    "\n",
    "# tapping\n",
    "mean_df_wakeAct_day0_tap= df_wakeAct_day0_tap_concat.mean(axis=0,skipna=True)\n"
   ]
  },
  {
   "cell_type": "code",
   "execution_count": 94,
   "id": "436eba7b-0445-4057-8097-82580586581f",
   "metadata": {},
   "outputs": [
    {
     "data": {
      "image/png": "[encoded data removed]",
      "text/plain": [
       "<Figure size 1200x500 with 3 Axes>"
      ]
     },
     "metadata": {},
     "output_type": "display_data"
    }
   ],
   "source": [
    "fig, (ax1, ax2, ax3, ax4) = plt.subplots(1, 4, sharey=True, figsize=(12, 5))\n",
    "\n",
    "# --- Control ---\n",
    "ax = sns.barplot(ax=ax1, y=mean_df_wakeAct_day0_ctrl, color=\"black\", orient=\"v\", label=\"control\")\n",
    "for p in ax1.patches:\n",
    "    p.set_alpha(0.5)\n",
    "sns.stripplot(ax=ax1, data=mean_df_wakeAct_day0_ctrl, dodge=True, color=\"black\", alpha=0.80, jitter=0.05)\n",
    "\n",
    "# --- Light Pulses ---\n",
    "ax = sns.barplot(ax=ax2, y=mean_df_wakeAct_day0_lp, color=\"blue\", orient=\"v\", label=\"light pulses\")\n",
    "for p in ax2.patches:\n",
    "    p.set_alpha(0.5)\n",
    "sns.stripplot(ax=ax2, data=mean_df_wakeAct_day0_lp, dodge=True, color=\"blue\", alpha=0.80, jitter=0.05)\n",
    "\n",
    "# --- Continuous Light ---\n",
    "ax = sns.barplot(ax=ax3, y=mean_df_wakeAct_day0_cont, color=\"red\", orient=\"v\", label=\"continuous light\")\n",
    "for p in ax3.patches:\n",
    "    p.set_alpha(0.5)\n",
    "sns.stripplot(ax=ax3, data=mean_df_wakeAct_day0_cont, dodge=True, color=\"red\", alpha=0.80, jitter=0.05)\n",
    "\n",
    "# --- Tapping ---\n",
    "ax = sns.barplot(ax=ax4, y=mean_df_wakeAct_day0_tap, color=\"orange\", orient=\"v\", label=\"tapping\")\n",
    "for p in ax4.patches:\n",
    "    p.set_alpha(0.5)\n",
    "sns.stripplot(ax=ax4, data=mean_df_wakeAct_day0_tap, dodge=True, color=\"orange\", alpha=0.80, jitter=0.05)\n",
    "\n",
    "# --- Labels and Title ---\n",
    "ax1.set_title(\"Waking activity Day0\", fontsize=12, y=1.05, x=2.20)\n",
    "ax1.set_ylabel(\"Waking Activity (min/h)\")\n",
    "ax.set_ylim(0, 25)\n",
    "\n",
    "sns.despine(right=True, bottom=False)\n",
    "\n",
    "# --- Save the figure ---\n",
    "fig.savefig(r\"D:\\SD_pooled\\SD_forcFos\\Activity_allgroups_mean_WakingActivityDay0.pdf\")"
   ]
  },
  {
   "cell_type": "code",
   "execution_count": 96,
   "id": "99e6fe87-fd5b-4c2c-821a-0ec57fbd07a8",
   "metadata": {},
   "outputs": [
    {
     "name": "stdout",
     "output_type": "stream",
     "text": [
      "One-way ANOVA: F = 50.21141120498298, p = 1.9399389890524334e-22\n"
     ]
    }
   ],
   "source": [
    "# Pool each group's data\n",
    "control = pd.concat([\n",
    "    df_wakeAct_day0_ctrl_1,\n",
    "    df_wakeAct_day0_ctrl_2,\n",
    "    df_wakeAct_day0_ctrl_3,\n",
    "    df_wakeAct_day0_ctrl_4\n",
    "], axis=0).values.flatten()\n",
    "\n",
    "continuous = pd.concat([\n",
    "    df_wakeAct_day0_cont_1,\n",
    "    df_wakeAct_day0_cont_2,\n",
    "    df_wakeAct_day0_cont_3,\n",
    "    df_wakeAct_day0_cont_4\n",
    "], axis=0).values.flatten()\n",
    "\n",
    "light_pulses = pd.concat([\n",
    "     df_wakeAct_day0_lp_1,\n",
    "     df_wakeAct_day0_lp_2,\n",
    "     df_wakeAct_day0_lp_3,\n",
    "     df_wakeAct_day0_lp_4\n",
    "], axis=0).values.flatten()\n",
    "\n",
    "tapping = pd.concat([\n",
    "    df_wakeAct_day0_tapping_1,\n",
    "    df_wakeAct_day0_tapping_2,\n",
    "    df_wakeAct_day0_tapping_3,\n",
    "    df_wakeAct_day0_tapping_4\n",
    "], axis=0).values.flatten()\n",
    "\n",
    "# Run one-way ANOVA\n",
    "f_stat, p_val = ss.f_oneway(control, continuous, tapping, light_pulses)\n",
    "print(f\"One-way ANOVA: F = {f_stat}, p = {p_val}\")\n"
   ]
  },
  {
   "cell_type": "code",
   "execution_count": 97,
   "id": "a1e3d5f6-3f98-4f6d-84fd-edf82a446736",
   "metadata": {},
   "outputs": [
    {
     "name": "stdout",
     "output_type": "stream",
     "text": [
      "  Multiple Comparison of Means - Tukey HSD, FWER=0.05   \n",
      "========================================================\n",
      "  group1    group2 meandiff p-adj  lower   upper  reject\n",
      "--------------------------------------------------------\n",
      "continuous control  -0.4407   0.0 -0.6418 -0.2396   True\n",
      "continuous tapping   0.4191   0.0  0.2186  0.6195   True\n",
      "   control tapping   0.8598   0.0  0.6586  1.0609   True\n",
      "--------------------------------------------------------\n"
     ]
    }
   ],
   "source": [
    "\n",
    "\n",
    "# Combine all pooled data\n",
    "data = np.concatenate([control, continuous,tapping, light_pulses])\n",
    "\n",
    "# Group labels, in same order\n",
    "groups = (\n",
    "    ['control'] * len(control) +\n",
    "    ['continuous'] * len(continuous) +\n",
    "    ['light_pulses'] * len(light_pulses) +\n",
    "    ['tapping'] * len(tapping)\n",
    ")\n",
    "\n",
    "# Tukey HSD\n",
    "tukey = pairwise_tukeyhsd(endog=data, groups=groups, alpha=0.05)\n",
    "print(tukey)\n",
    "\n",
    "\n",
    "# Assume tukey is a TukeyHSDResults object\n",
    "tukey_df = pd.DataFrame(data=tukey.summary().data[1:], columns=tukey.summary().data[0])\n",
    "\n",
    "save_dir = Path(r'D:\\SD_pooled\\SD_forcFos')\n",
    "doc_name = save_dir / 'tukey_wakingactivity_Day0.xlsx'\n",
    "tukey_df.to_excel(doc_name, index=False)\n"
   ]
  },
  {
   "cell_type": "code",
   "execution_count": null,
   "id": "4da96f66-381c-4da3-a981-0ad4dbbaabb2",
   "metadata": {},
   "outputs": [],
   "source": []
  },
  {
   "cell_type": "code",
   "execution_count": null,
   "id": "714cd8b0-1828-46d1-ac6f-de421f5d568a",
   "metadata": {},
   "outputs": [],
   "source": []
  },
  {
   "cell_type": "markdown",
   "id": "7c8cd6c8-d90e-4e5f-95c1-5977494498eb",
   "metadata": {},
   "source": [
    "WAKING ACTIVITY NIGHT 1"
   ]
  },
  {
   "cell_type": "code",
   "execution_count": 98,
   "id": "50681a49-05cb-4fcc-b276-20f3823f388d",
   "metadata": {},
   "outputs": [],
   "source": [
    "# load data and convert into dataframe\n",
    "#CONTROL\n",
    "\n",
    "# control 1\n",
    "df_wakeAct_night1_ctrl_1 =pd.read_csv(r\"D:\\Sleep_deprivation_data\\Analyzed_SD_forCFOS\\2025_5_19_SD_Chiara\\2025_5_19_Control_Box1\\output_binned_wakeAct_night1.csv\", header=None)\n",
    "\n",
    "#control 2\n",
    "df_wakeAct_night1_ctrl_2 =pd.read_csv(r\"D:\\Sleep_deprivation_data\\Analyzed_SD_forCFOS\\2025_06_16_SD_Chiara\\2025_06_16_Control_Box1\\output_binned_wakeAct_night1.csv\", header=None)\n",
    "\n",
    "# control 3\n",
    "df_wakeAct_night1_ctrl_3 =pd.read_csv(r\"D:\\Sleep_deprivation_data\\Analyzed_SD_forCFOS\\2025_06_30_SD_Chiara\\2025_06_30_Control_Box1\\output_binned_wakeAct_night1.csv\", header=None)\n",
    "\n",
    "#control 4\n",
    "df_wakeAct_night1_ctrl_4 =pd.read_csv(r\"\\\\linstore01\\home\\cbriziol\\Chiara\\Sleep_deprivation\\2025_06_27_SD_Chiara\\2025_06_27_Control_Box1\\output_binned_wakeAct_night1.csv\", header=None)"
   ]
  },
  {
   "cell_type": "code",
   "execution_count": 147,
   "id": "27a0c03b-fe4c-4673-acdf-ca6b3b6c057b",
   "metadata": {},
   "outputs": [],
   "source": [
    "#LIGHT PULSES\n",
    "\n",
    "# light pulses 1\n",
    "df_wakeAct_night1_lp_1 =pd.read_csv(r\"\\\\linstore01\\home\\cbriziol\\Chiara\\Sleep_deprivation\\2025_06_02_SD_Chiara\\2025_06_02_LP_Box2\\output_binned_wakeAct_night1.csv\", header=None)\n",
    "\n",
    "#light pulses 2\n",
    "df_wakeAct_night1_lp_2 =pd.read_csv(r\"\\\\linstore01\\home\\cbriziol\\Chiara\\Sleep_deprivation\\2025_06_03_SD_Chiara\\2025_06_03_LP_Box2\\output_binned_wakeAct_night1.csv\", header=None)\n",
    "\n",
    "# light pulses 3\n",
    "df_wakeAct_night1_lp_3 =pd.read_csv(r\"\\\\linstore01\\home\\cbriziol\\Chiara\\Sleep_deprivation\\2025_06_05_SD_Chiara\\2025_06_05_LP_Box2\\output_binned_wakeAct_night1.csv\", header=None)\n",
    "\n",
    "#light pulses 4\n",
    "df_wakeAct_night1_lp_4 =pd.read_csv(r\"\\\\linstore01\\home\\cbriziol\\Chiara\\Sleep_deprivation\\2025_06_27_SD_Chiara\\2025_06_27_LP_Box2\\output_binned_wakeAct_night1.csv\", header=None)"
   ]
  },
  {
   "cell_type": "code",
   "execution_count": 99,
   "id": "ee7069d1-a900-4b94-82ba-5f6e7d64f4d7",
   "metadata": {},
   "outputs": [],
   "source": [
    "# continuous 1\n",
    "df_wakeAct_night1_cont_1 =pd.read_csv(r\"D:\\Sleep_deprivation_data\\Analyzed_SD_forCFOS\\2025_5_19_SD_Chiara\\2025_5_19_Continuous_Box4\\output_binned_wakeAct_night1.csv\", header=None)\n",
    "\n",
    "#continuous 2\n",
    "df_wakeAct_night1_cont_2 =pd.read_csv(r\"D:\\Sleep_deprivation_data\\Analyzed_SD_forCFOS\\2025_06_16_SD_Chiara\\2025_06_16_ContinuousLight_Box4\\output_binned_wakeAct_night1.csv\", header=None)\n",
    "\n",
    "# continuous 3\n",
    "df_wakeAct_night1_cont_3 =pd.read_csv(r\"D:\\Sleep_deprivation_data\\Analyzed_SD_forCFOS\\2025_06_30_SD_Chiara\\2025_06_30_ContinuousLight_Box4\\output_binned_wakeAct_night1.csv\", header=None)\n",
    "\n",
    "#continuous 4\n",
    "df_wakeAct_night1_cont_4 =pd.read_csv(r\"\\\\linstore01\\home\\cbriziol\\Chiara\\Sleep_deprivation\\2025_06_27_SD_Chiara\\2025_06_27_ContinuousLight_Box4\\output_binned_wakeAct_night1.csv\", header=None)"
   ]
  },
  {
   "cell_type": "code",
   "execution_count": 100,
   "id": "9db9493f-142a-4229-90dd-8a457f09bca5",
   "metadata": {},
   "outputs": [],
   "source": [
    "# tapping 1\n",
    "df_wakeAct_night1_tapping_1 =pd.read_csv(r\"D:\\Sleep_deprivation_data\\Analyzed_SD_forCFOS\\2025_5_19_SD_Chiara\\2025_5_19_tapping_box3\\output_binned_wakeAct_night1.csv\", header=None)\n",
    "\n",
    "#tapping 2\n",
    "df_wakeAct_night1_tapping_2 =pd.read_csv(r\"D:\\Sleep_deprivation_data\\Analyzed_SD_forCFOS\\2025_06_16_SD_Chiara\\2025_06_16_Tapping_Box3\\output_binned_wakeAct_night1.csv\", header=None)\n",
    "\n",
    "# tapping 3\n",
    "df_wakeAct_night1_tapping_3 =pd.read_csv(r\"D:\\Sleep_deprivation_data\\Analyzed_SD_forCFOS\\2025_06_30_SD_Chiara\\2025_06_30_Tapping_Box3\\output_binned_wakeAct_night1.csv\", header=None)\n",
    "\n",
    "#tapping 4\n",
    "df_wakeAct_night1_tapping_4 =pd.read_csv(r\"\\\\linstore01\\home\\cbriziol\\Chiara\\Sleep_deprivation\\2025_06_27_SD_Chiara\\2025_06_27_Tapping_box3\\output_binned_wakeAct_night1.csv\", header=None)"
   ]
  },
  {
   "cell_type": "markdown",
   "id": "2734394a-0198-4395-a6ad-0f8fd33cd09f",
   "metadata": {},
   "source": [
    "concatenate"
   ]
  },
  {
   "cell_type": "code",
   "execution_count": 101,
   "id": "f17eab9e-31e2-44e0-bb82-18d08f57519d",
   "metadata": {},
   "outputs": [],
   "source": [
    "# control\n",
    "df_wakeAct_night1_ctrl_concat = pd.concat([df_wakeAct_night1_ctrl_1, df_wakeAct_night1_ctrl_2, df_wakeAct_night1_ctrl_3, df_wakeAct_night1_ctrl_4], axis=1)"
   ]
  },
  {
   "cell_type": "code",
   "execution_count": 151,
   "id": "fc27136c-f02c-42ee-a804-a3d47a719d61",
   "metadata": {},
   "outputs": [],
   "source": [
    "# light pulses\n",
    "df_wakeAct_night1_lp_concat = pd.concat([df_wakeAct_night1_lp_1, df_wakeAct_night1_lp_2, df_wakeAct_night1_lp_3, df_wakeAct_night1_lp_4], axis=1)"
   ]
  },
  {
   "cell_type": "code",
   "execution_count": 102,
   "id": "50447d86-57e9-43bb-ba45-4aea06255eeb",
   "metadata": {},
   "outputs": [],
   "source": [
    "# continuous light\n",
    "df_wakeAct_night1_cont_concat = pd.concat([df_wakeAct_night1_cont_1, df_wakeAct_night1_cont_2, df_wakeAct_night1_cont_3, df_wakeAct_night1_cont_4], axis=1)"
   ]
  },
  {
   "cell_type": "code",
   "execution_count": 103,
   "id": "8108c910-6169-4f17-bbd3-93a742d1aeb5",
   "metadata": {},
   "outputs": [],
   "source": [
    "# tapping\n",
    "df_wakeAct_night1_tapping_concat = pd.concat([df_wakeAct_night1_tapping_1, df_wakeAct_night1_tapping_2, df_wakeAct_night1_tapping_3, df_wakeAct_night1_tapping_4], axis=1)\n"
   ]
  },
  {
   "cell_type": "markdown",
   "id": "ae1b0e43-6ec9-48d9-95f7-e3a636de270f",
   "metadata": {},
   "source": [
    "get the column averages --> mean per fish. Skip nans"
   ]
  },
  {
   "cell_type": "code",
   "execution_count": 104,
   "id": "6a286faa-0b01-4339-99b3-3f06491fe82e",
   "metadata": {},
   "outputs": [],
   "source": [
    "# control\n",
    "mean_df_wakeAct_control_night1 = df_wakeAct_night1_ctrl_concat.mean(axis=0,skipna=True)\n",
    "\n",
    "# light pulses\n",
    "mean_df_wakeAct_lp_night1 = df_wakeAct_night1_lp_concat.mean(axis=0,skipna=True)\n",
    "\n",
    "# continuous light\n",
    "mean_df_wakeAct_cont_night1 = df_wakeAct_night1_cont_concat.mean(axis=0,skipna=True)\n",
    "\n",
    "# tapping\n",
    "mean_df_wakeAct_tapping_night1 = df_wakeAct_night1_tapping_concat.mean(axis=0,skipna=True)"
   ]
  },
  {
   "cell_type": "code",
   "execution_count": null,
   "id": "13cf7353-c7a6-4d8a-b09e-22df2dfce8c4",
   "metadata": {},
   "outputs": [],
   "source": []
  },
  {
   "cell_type": "code",
   "execution_count": 105,
   "id": "1c3a9656-d9ea-4980-ae59-b8f13de6ef14",
   "metadata": {},
   "outputs": [
    {
     "data": {
      "image/png": "[encoded data removed]",
      "text/plain": [
       "<Figure size 1200x500 with 3 Axes>"
      ]
     },
     "metadata": {},
     "output_type": "display_data"
    }
   ],
   "source": [
    "#a4_dims = (11.7, 8.27)\n",
    "#fig, ax = plt.subplots(figsize=a4_dims)\n",
    "\"\"\"\n",
    "fig, (ax1, ax2, ax3, ax4) = plt.subplots(1,4, sharey=True,  figsize=(12, 5))\n",
    "ax = sns.barplot(ax=ax1,y=mean_df_wakeAct_control_night1, color = \"black\", orient=\"v\", label=\"control\")\n",
    "ax = sns.stripplot(ax=ax1,data=mean_df_wakeAct_control_night1, dodge=True, color=\"black\", alpha = 0.4,jitter = 0.05)\n",
    "\n",
    "\n",
    "ax = sns.barplot(ax=ax2, y=mean_df_wakeAct_lp_night1, color = \"blue\", orient=\"v\", label=\"light pulses\")\n",
    "ax = sns.stripplot(ax=ax2,data=mean_df_wakeAct_lp_night1, dodge=True, color=\"blue\", alpha = 0.4,jitter = 0.05)\n",
    "\n",
    "\n",
    "ax = sns.barplot(ax=ax3,  y=mean_df_wakeAct_cont_night1, color = \"red\", orient=\"v\", label=\"continuous light\")\n",
    "ax = sns.stripplot(ax=ax3, data=mean_df_wakeAct_cont_night1, dodge=True, color=\"red\", alpha = 0.4,jitter = 0.05)\n",
    "\n",
    "\n",
    "ax = sns.barplot(ax=ax4,  y=mean_df_wakeAct_tapping_night1, color = \"orange\", orient=\"v\", label=\"tapping\")\n",
    "ax = sns.stripplot(ax=ax4, data=mean_df_wakeAct_tapping_night1, dodge=True, color=\"orange\", alpha = 0.4,jitter = 0.05)\n",
    "\n",
    "ax1.set_title(\"Waking activity Night1\", fontsize=12, y=1.05, x=2.20)\n",
    "\n",
    "ax1.set_ylabel(\"Waking Activity (min/h)\")\n",
    "\n",
    "ax.set_ylim(0,15)\n",
    "\n",
    "sns.despine(right=True, bottom=False)\n",
    "\"\"\"\n",
    "fig, (ax1, ax2, ax3, ax4) = plt.subplots(1, 4, sharey=True, figsize=(12, 5))\n",
    "\n",
    "# --- Control ---\n",
    "ax = sns.barplot(ax=ax1, y=mean_df_wakeAct_control_night1, color=\"black\", orient=\"v\", label=\"control\")\n",
    "for p in ax1.patches:\n",
    "    p.set_alpha(0.5)\n",
    "sns.stripplot(ax=ax1, data=mean_df_wakeAct_control_night1, dodge=True, color=\"black\", alpha=0.80, jitter=0.05)\n",
    "\n",
    "# --- Light Pulses ---\n",
    "ax = sns.barplot(ax=ax2, y=mean_df_wakeAct_lp_night1, color=\"blue\", orient=\"v\", label=\"light pulses\")\n",
    "for p in ax2.patches:\n",
    "    p.set_alpha(0.5)\n",
    "sns.stripplot(ax=ax2, data=mean_df_wakeAct_lp_night1, dodge=True, color=\"blue\", alpha=0.80, jitter=0.05)\n",
    "\n",
    "# --- Continuous Light ---\n",
    "ax = sns.barplot(ax=ax3, y=mean_df_wakeAct_cont_night1, color=\"red\", orient=\"v\", label=\"continuous light\")\n",
    "for p in ax3.patches:\n",
    "    p.set_alpha(0.5)\n",
    "sns.stripplot(ax=ax3, data=mean_df_wakeAct_cont_night1, dodge=True, color=\"red\", alpha=0.80, jitter=0.05)\n",
    "\n",
    "# --- Tapping ---\n",
    "ax = sns.barplot(ax=ax4, y=mean_df_wakeAct_tapping_night1, color=\"orange\", orient=\"v\", label=\"tapping\")\n",
    "for p in ax4.patches:\n",
    "    p.set_alpha(0.5)\n",
    "sns.stripplot(ax=ax4, data=mean_df_wakeAct_tapping_night1, dodge=True, color=\"orange\", alpha=0.80, jitter=0.05)\n",
    "\n",
    "# --- Labels and Title ---\n",
    "ax1.set_title(\"Waking activity Night1\", fontsize=12, y=1.05, x=2.20)\n",
    "ax1.set_ylabel(\"Waking Activity (min/h)\")\n",
    "ax.set_ylim(0, 25)\n",
    "\n",
    "sns.despine(right=True, bottom=False)\n",
    "\n",
    "# --- Save the figure ---\n",
    "fig.savefig(r\"C:\\Users\\cbriziol\\Desktop\\SD_pooled\\SD_forOMR\\Activity_allgroups_mean_WakingActivityNight1.pdf\")\n"
   ]
  },
  {
   "cell_type": "code",
   "execution_count": 106,
   "id": "47aa1aec-9876-4a40-8405-cf7aeaeaee6d",
   "metadata": {},
   "outputs": [
    {
     "name": "stdout",
     "output_type": "stream",
     "text": [
      "One-way ANOVA: F = 1909.1853926031022, p = 0.0\n"
     ]
    }
   ],
   "source": [
    "# Pool each group's data\n",
    "control = pd.concat([\n",
    "    df_wakeAct_night1_ctrl_1,\n",
    "    df_wakeAct_night1_ctrl_2,\n",
    "    df_wakeAct_night1_ctrl_3,\n",
    "    df_wakeAct_night1_ctrl_4\n",
    "], axis=0).values.flatten()\n",
    "\n",
    "continuous = pd.concat([\n",
    "    df_wakeAct_night1_cont_1,\n",
    "    df_wakeAct_night1_cont_2,\n",
    "    df_wakeAct_night1_cont_3,\n",
    "    df_wakeAct_night1_cont_4\n",
    "], axis=0).values.flatten()\n",
    "\n",
    "light_pulses = pd.concat([\n",
    "     df_wakeAct_night1_lp_1,\n",
    "     df_wakeAct_night1_lp_2,\n",
    "     df_wakeAct_night1_lp_3,\n",
    "     df_wakeAct_night1_lp_4\n",
    "], axis=0).values.flatten()\n",
    "\n",
    "tapping = pd.concat([\n",
    "    df_wakeAct_night1_tapping_1,\n",
    "    df_wakeAct_night1_tapping_2,\n",
    "    df_wakeAct_night1_tapping_3,\n",
    "    df_wakeAct_night1_tapping_4\n",
    "], axis=0).values.flatten()\n",
    "\n",
    "# Run one-way ANOVA\n",
    "f_stat, p_val = ss.f_oneway(control, continuous, tapping, light_pulses)\n",
    "print(f\"One-way ANOVA: F = {f_stat}, p = {p_val}\")\n"
   ]
  },
  {
   "cell_type": "code",
   "execution_count": 107,
   "id": "66b417c7-5d07-4157-9cc1-9ec73c650d2b",
   "metadata": {},
   "outputs": [
    {
     "name": "stdout",
     "output_type": "stream",
     "text": [
      "   Multiple Comparison of Means - Tukey HSD, FWER=0.05   \n",
      "=========================================================\n",
      "  group1    group2 meandiff p-adj   lower   upper  reject\n",
      "---------------------------------------------------------\n",
      "continuous control  -1.8553    0.0 -1.9338 -1.7768   True\n",
      "continuous tapping  -1.7148    0.0 -1.7931 -1.6366   True\n",
      "   control tapping   0.1405 0.0001  0.0621  0.2189   True\n",
      "---------------------------------------------------------\n"
     ]
    }
   ],
   "source": [
    "# Combine all pooled data\n",
    "data = np.concatenate([control, continuous,tapping, light_pulses])\n",
    "\n",
    "# Group labels, in same order\n",
    "groups = (\n",
    "    ['control'] * len(control) +\n",
    "    ['continuous'] * len(continuous) +\n",
    "    ['light_pulses'] * len(light_pulses) +\n",
    "    ['tapping'] * len(tapping)\n",
    ")\n",
    "\n",
    "# Tukey HSD\n",
    "tukey = pairwise_tukeyhsd(endog=data, groups=groups, alpha=0.05)\n",
    "print(tukey)\n",
    "# Assume tukey is a TukeyHSDResults object\n",
    "tukey_df = pd.DataFrame(data=tukey.summary().data[1:], columns=tukey.summary().data[0])\n",
    "\n",
    "save_dir = Path(r'C:\\Users\\cbriziol\\Desktop\\SD_pooled\\SD_forOMR')\n",
    "doc_name = save_dir / 'tukey_wakingactivityNight1.xlsx'\n",
    "tukey_df.to_excel(doc_name, index=False)\n"
   ]
  },
  {
   "cell_type": "code",
   "execution_count": 281,
   "id": "8a5295e3-b96b-4c52-a1d6-8012844e9056",
   "metadata": {},
   "outputs": [
    {
     "name": "stdout",
     "output_type": "stream",
     "text": [
      "TtestResult(statistic=np.float64(-1.920717704250668), pvalue=np.float64(0.05680176773597866), df=np.float64(139.8956748415694))\n"
     ]
    }
   ],
   "source": [
    "#Statistics bar plot\n",
    "\n",
    "# independent t-test\n",
    "\"\"\"\n",
    "p = ss.ttest_ind(df_wakeAct_control.mean(), df_wakeAct_tapping.mean(), equal_var=False)\n",
    "\n",
    "print(p)\n",
    "\"\"\""
   ]
  },
  {
   "cell_type": "code",
   "execution_count": null,
   "id": "ee2d6811-8834-4116-8211-ef1e50039141",
   "metadata": {},
   "outputs": [],
   "source": []
  },
  {
   "cell_type": "markdown",
   "id": "2cbf87ff-9661-45d3-9b03-622395c6ab99",
   "metadata": {},
   "source": [
    "Waking Activity Day 1"
   ]
  },
  {
   "cell_type": "code",
   "execution_count": null,
   "id": "f7aa09d7-9f36-4946-b16e-a4485baf0f7a",
   "metadata": {},
   "outputs": [],
   "source": [
    "#CONTROL\n",
    "\n",
    "# control 1\n",
    "#df_wakeAct_day1_ctrl_1 =pd.read_csv(r\"\\\\linstore01\\home\\cbriziol\\Chiara\\Sleep_deprivation\\2025_06_02_SD_Chiara\\2025_06_02_Control_Box1\\output_binned_wakeAct_day1.csv\", header=None)\n",
    "\n",
    "#control 2\n",
    "#df_wakeAct_day1_ctrl_2 =pd.read_csv(r\"\\\\linstore01\\home\\cbriziol\\Chiara\\Sleep_deprivation\\2025_06_03_SD_Chiara\\2025_06_03_Control_Box1\\output_binned_wakeAct_day1.csv\", header=None)\n",
    "\n",
    "# control 3\n",
    "#df_wakeAct_day1_ctrl_3 =pd.read_csv(r\"\\\\linstore01\\home\\cbriziol\\Chiara\\Sleep_deprivation\\2025_06_05_SD_Chiara\\2025_06_05_Control_Box1\\output_binned_wakeAct_day1.csv\", header=None)\n",
    "\n",
    "#control 4\n",
    "#df_wakeAct_day1_ctrl_4 =pd.read_csv(r\"\\\\linstore01\\home\\cbriziol\\Chiara\\Sleep_deprivation\\2025_06_27_SD_Chiara\\2025_06_27_Control_Box1\\output_binned_wakeAct_day1.csv\", header=None)"
   ]
  },
  {
   "cell_type": "code",
   "execution_count": null,
   "id": "fc514f7f-91b9-4f28-9259-1c0817455b7f",
   "metadata": {},
   "outputs": [],
   "source": [
    "#LIGHT PULSES\n",
    "\n",
    "# light pulses 1\n",
    "#df_wakeAct_day1_lp_1 =pd.read_csv(r\"\\\\linstore01\\home\\cbriziol\\Chiara\\Sleep_deprivation\\2025_06_02_SD_Chiara\\2025_06_02_LP_Box2\\output_binned_wakeAct_day1.csv\", header=None)\n",
    "\n",
    "#light pulses 2\n",
    "#df_wakeAct_day1_lp_2 =pd.read_csv(r\"\\\\linstore01\\home\\cbriziol\\Chiara\\Sleep_deprivation\\2025_06_03_SD_Chiara\\2025_06_03_LP_Box2\\output_binned_wakeAct_day1.csv\", header=None)\n",
    "\n",
    "# light pulses 3\n",
    "#df_wakeAct_day1_lp_3 =pd.read_csv(r\"\\\\linstore01\\home\\cbriziol\\Chiara\\Sleep_deprivation\\2025_06_05_SD_Chiara\\2025_06_05_LP_Box2\\output_binned_wakeAct_day1.csv\", header=None)\n",
    "\n",
    "#light pulses 4\n",
    "#df_wakeAct_day1_lp_4 =pd.read_csv(r\"\\\\linstore01\\home\\cbriziol\\Chiara\\Sleep_deprivation\\2025_06_27_SD_Chiara\\2025_06_27_LP_Box2\\output_binned_wakeAct_day1.csv\", header=None)"
   ]
  },
  {
   "cell_type": "code",
   "execution_count": null,
   "id": "256cf10d-22cd-4f99-a30a-9912ef3b1cdf",
   "metadata": {},
   "outputs": [],
   "source": [
    "#CONTINUOUS LIGHT \n",
    "\n",
    "# continuous 1\n",
    "#df_wakeAct_day1_cont_1 =pd.read_csv(r\"\\\\linstore01\\home\\cbriziol\\Chiara\\Sleep_deprivation\\2025_06_02_SD_Chiara\\2025_06_02_ContinuousLight_Box4\\output_binned_wakeAct_day1.csv\", header=None)\n",
    "\n",
    "#continuous 2\n",
    "#df_wakeAct_day1_cont_2 =pd.read_csv(r\"\\\\linstore01\\home\\cbriziol\\Chiara\\Sleep_deprivation\\2025_06_03_SD_Chiara\\2025_06_03_ContinuousLight_Box4\\output_binned_wakeAct_day1.csv\", header=None)\n",
    "\n",
    "# continuous 3\n",
    "#df_wakeAct_day1_cont_3 =pd.read_csv(r\"\\\\linstore01\\home\\cbriziol\\Chiara\\Sleep_deprivation\\2025_06_05_SD_Chiara\\2025_06_05_ContinuousLight_Box4\\output_binned_wakeAct_day1.csv\", header=None)\n",
    "\n",
    "#continuous 4\n",
    "#df_wakeAct_day1_cont_4 =pd.read_csv(r\"\\\\linstore01\\home\\cbriziol\\Chiara\\Sleep_deprivation\\2025_06_27_SD_Chiara\\2025_06_27_ContinuousLight_Box4\\output_binned_wakeAct_day1.csv\", header=None)"
   ]
  },
  {
   "cell_type": "code",
   "execution_count": null,
   "id": "57be677d-54e3-4100-a8d9-62e258a979e8",
   "metadata": {},
   "outputs": [],
   "source": [
    "#TAPPING\n",
    "\n",
    "# tapping 1\n",
    "#df_wakeAct_day1_tapping_1 =pd.read_csv(r\"\\\\linstore01\\home\\cbriziol\\Chiara\\Sleep_deprivation\\2025_06_02_SD_Chiara\\2025_06_02_Tapping_Box3\\output_binned_wakeAct_day1.csv\", header=None)\n",
    "\n",
    "#tapping 2\n",
    "#df_wakeAct_day1_tapping_2 =pd.read_csv(r\"\\\\linstore01\\home\\cbriziol\\Chiara\\Sleep_deprivation\\2025_06_03_SD_Chiara\\2025_06_03_Tapping_Box3\\output_binned_wakeAct_day1.csv\", header=None)\n",
    "\n",
    "# tapping 3\n",
    "#df_wakeAct_day1_tapping_3 =pd.read_csv(r\"\\\\linstore01\\home\\cbriziol\\Chiara\\Sleep_deprivation\\2025_06_05_SD_Chiara\\2025_06_05_Tapping_Box3\\output_binned_wakeAct_day1.csv\", header=None)\n",
    "\n",
    "#tapping 4\n",
    "#df_wakeAct_day1_tapping_4 =pd.read_csv(r\"\\\\linstore01\\home\\cbriziol\\Chiara\\Sleep_deprivation\\2025_06_27_SD_Chiara\\2025_06_27_Tapping_box3\\output_binned_wakeAct_day1.csv\", header=None)"
   ]
  },
  {
   "cell_type": "markdown",
   "id": "c4e401c8-7b38-43be-8cf8-2028d77f0d50",
   "metadata": {},
   "source": [
    "concatenate"
   ]
  },
  {
   "cell_type": "code",
   "execution_count": null,
   "id": "da703c92-8d85-4696-8919-023dd0a53c47",
   "metadata": {},
   "outputs": [],
   "source": [
    "#Control\n",
    "#df_wakeAct_day1_ctrl_concat = pd.concat([df_wakeAct_day1_ctrl_1, df_wakeAct_day1_ctrl_2, df_wakeAct_day1_ctrl_3, df_wakeAct_day1_ctrl_4], axis=1)"
   ]
  },
  {
   "cell_type": "code",
   "execution_count": null,
   "id": "79b57e17-b444-42ee-b5f4-4f53b02de403",
   "metadata": {},
   "outputs": [],
   "source": [
    "#Light Pulses\n",
    "#df_wakeAct_day1_lp_concat = pd.concat([df_wakeAct_day1_lp_1, df_wakeAct_day1_lp_2, df_wakeAct_day1_lp_3, df_wakeAct_day1_lp_3, df_wakeAct_day1_lp_4], axis=1)"
   ]
  },
  {
   "cell_type": "code",
   "execution_count": null,
   "id": "23cb1435-97c6-4041-835e-85cf3d48250d",
   "metadata": {},
   "outputs": [],
   "source": [
    "#Continuous Light\n",
    "#df_wakeAct_day1_cont_concat = pd.concat([df_wakeAct_day1_cont_1, df_wakeAct_day1_cont_2, df_wakeAct_day1_cont_3, df_wakeAct_day1_cont_4], axis=1)"
   ]
  },
  {
   "cell_type": "code",
   "execution_count": null,
   "id": "85e054ec-3777-4b72-92c9-89d84b9de736",
   "metadata": {},
   "outputs": [],
   "source": [
    "#Tapping\n",
    "#df_wakeAct_day1_tapping_concat = pd.concat([df_wakeAct_day1_tapping_1, df_wakeAct_day1_tapping_2, df_wakeAct_day1_tapping_3, df_wakeAct_day1_tapping_4], axis=1)"
   ]
  },
  {
   "cell_type": "markdown",
   "id": "18f8e067-23fd-46c3-a2bb-91d212f801ca",
   "metadata": {},
   "source": [
    "get the column averages --> mean per fish. Skip nan"
   ]
  },
  {
   "cell_type": "code",
   "execution_count": null,
   "id": "3577fc4d-b4d7-48d4-87c5-742bd0f89ae7",
   "metadata": {},
   "outputs": [],
   "source": [
    "#mean_df_wakeAct_control_day1 = df_wakeAct_day1_ctrl_concat.mean(axis=0,skipna=True)\n",
    "\n",
    "#mean_df_wakeAct_lp_day1 = df_wakeAct_day1_lp_concat.mean(axis=0,skipna=True)\n",
    "\n",
    "#mean_df_wakeAct_cont_day1 = df_wakeAct_day1_cont_concat.mean(axis=0,skipna=True)\n",
    "\n",
    "#mean_df_wakeAct_tapping_day1 = df_wakeAct_day1_tapping_concat.mean(axis=0,skipna=True)\n"
   ]
  },
  {
   "cell_type": "code",
   "execution_count": null,
   "id": "39316332-19ac-405c-ae0a-af578bfc1c5b",
   "metadata": {},
   "outputs": [],
   "source": [
    "#a4_dims = (11.7, 8.27)\n",
    "#fig, ax = plt.subplots(figsize=a4_dims)\n",
    "\"\"\"\n",
    "fig, (ax1, ax2, ax3, ax4) = plt.subplots(1, 4, sharey=True, figsize=(12, 5))\n",
    "\n",
    "# --- Control ---\n",
    "ax = sns.barplot(ax=ax1, y=mean_df_wakeAct_control_day1, color=\"black\", orient=\"v\", label=\"control\")\n",
    "for p in ax1.patches:\n",
    "    p.set_alpha(0.5)\n",
    "sns.stripplot(ax=ax1, data=mean_df_wakeAct_control_day1, dodge=True, color=\"black\", alpha=0.80, jitter=0.05)\n",
    "\n",
    "# --- Light Pulses ---\n",
    "ax = sns.barplot(ax=ax2, y=mean_df_wakeAct_lp_day1, color=\"blue\", orient=\"v\", label=\"light pulses\")\n",
    "for p in ax2.patches:\n",
    "    p.set_alpha(0.5)\n",
    "sns.stripplot(ax=ax2, data=mean_df_wakeAct_lp_day1, dodge=True, color=\"blue\", alpha=0.80, jitter=0.05)\n",
    "\n",
    "# --- Continuous Light ---\n",
    "ax = sns.barplot(ax=ax3, y=mean_df_wakeAct_cont_day1, color=\"red\", orient=\"v\", label=\"continuous light\")\n",
    "for p in ax3.patches:\n",
    "    p.set_alpha(0.5)\n",
    "sns.stripplot(ax=ax3, data=mean_df_wakeAct_cont_day1, dodge=True, color=\"red\", alpha=0.80, jitter=0.05)\n",
    "\n",
    "# --- Tapping ---\n",
    "ax = sns.barplot(ax=ax4, y=mean_df_wakeAct_tapping_day1, color=\"orange\", orient=\"v\", label=\"tapping\")\n",
    "for p in ax4.patches:\n",
    "    p.set_alpha(0.5)\n",
    "sns.stripplot(ax=ax4, data=mean_df_wakeAct_tapping_day1, dodge=True, color=\"orange\", alpha=0.80, jitter=0.05)\n",
    "\n",
    "# --- Labels and Title ---\n",
    "ax1.set_title(\"Waking activity Day1\", fontsize=12, y=1.05, x=2.20)\n",
    "ax1.set_ylabel(\"Waking Activity (min/h)\")\n",
    "ax.set_ylim(0, 15)\n",
    "\n",
    "sns.despine(right=True, bottom=False)\n",
    "\n",
    "# --- Save the figure ---\n",
    "fig.savefig(r\"C:\\Users\\cbriziol\\Desktop\\SD_pooled\\SD_forOMR\\Activity_allgroups_mean_WakingActivityDay1.pdf\")\n",
    "\"\"\"\n"
   ]
  },
  {
   "cell_type": "code",
   "execution_count": null,
   "id": "5d0f3633-2f50-4db5-9db7-5ad69df42244",
   "metadata": {},
   "outputs": [],
   "source": [
    "\"\"\"\n",
    "# Pool each group's data\n",
    "control = pd.concat([\n",
    "    df_wakeAct_day1_ctrl_1,\n",
    "    df_wakeAct_day1_ctrl_2,\n",
    "    df_wakeAct_day1_ctrl_3,\n",
    "    df_wakeAct_day1_ctrl_4\n",
    "], axis=0).values.flatten()\n",
    "\n",
    "continuous = pd.concat([\n",
    "    df_wakeAct_day1_cont_1,\n",
    "    df_wakeAct_day1_cont_2,\n",
    "    df_wakeAct_day1_cont_3,\n",
    "    df_wakeAct_day1_cont_4\n",
    "], axis=0).values.flatten()\n",
    "\n",
    "light_pulses = pd.concat([\n",
    "     df_wakeAct_day1_lp_1,\n",
    "     df_wakeAct_day1_lp_2,\n",
    "     df_wakeAct_day1_lp_3,\n",
    "     df_wakeAct_day1_lp_4\n",
    "], axis=0).values.flatten()\n",
    "\n",
    "tapping = pd.concat([\n",
    "    df_wakeAct_day1_tapping_1,\n",
    "    df_wakeAct_day1_tapping_2,\n",
    "    df_wakeAct_day1_tapping_3,\n",
    "    df_wakeAct_day1_tapping_4\n",
    "], axis=0).values.flatten()\n",
    "\n",
    "# Run one-way ANOVA\n",
    "f_stat, p_val = ss.f_oneway(control, continuous, tapping, light_pulses)\n",
    "print(f\"One-way ANOVA: F = {f_stat}, p = {p_val}\")\n",
    "\"\"\"\n"
   ]
  },
  {
   "cell_type": "code",
   "execution_count": null,
   "id": "66eb5a88-9678-464d-8d0a-f0642127aa97",
   "metadata": {},
   "outputs": [],
   "source": [
    "\"\"\"\n",
    "# Combine all pooled data\n",
    "data = np.concatenate([control, continuous,tapping, light_pulses])\n",
    "\n",
    "# Group labels, in same order\n",
    "groups = (\n",
    "    ['control'] * len(control) +\n",
    "    ['continuous'] * len(continuous) +\n",
    "    ['light_pulses'] * len(light_pulses) +\n",
    "    ['tapping'] * len(tapping)\n",
    ")\n",
    "\n",
    "# Tukey HSD\n",
    "tukey = pairwise_tukeyhsd(endog=data, groups=groups, alpha=0.05)\n",
    "print(tukey)\n",
    "\n",
    "# Assume tukey is a TukeyHSDResults object\n",
    "tukey_df = pd.DataFrame(data=tukey.summary().data[1:], columns=tukey.summary().data[0])\n",
    "\n",
    "save_dir = Path(r'C:\\Users\\cbriziol\\Desktop\\SD_pooled\\SD_forOMR')\n",
    "doc_name = save_dir / 'tukey_wakingactivityDay1.xlsx'\n",
    "tukey_df.to_excel(doc_name, index=False)\n",
    "\"\"\""
   ]
  },
  {
   "cell_type": "code",
   "execution_count": null,
   "id": "cb868758-0921-4626-8952-1f423a26b483",
   "metadata": {},
   "outputs": [],
   "source": []
  },
  {
   "cell_type": "code",
   "execution_count": null,
   "id": "6a634dce-64be-40c4-9484-49798798531f",
   "metadata": {},
   "outputs": [],
   "source": []
  },
  {
   "cell_type": "code",
   "execution_count": null,
   "id": "ac518b72-8efd-4e1d-a8b5-16c24f797ccd",
   "metadata": {},
   "outputs": [],
   "source": []
  },
  {
   "cell_type": "code",
   "execution_count": null,
   "id": "8478436e-1fc8-4452-92c9-7025781e7741",
   "metadata": {},
   "outputs": [],
   "source": []
  },
  {
   "cell_type": "code",
   "execution_count": null,
   "id": "4027a444-4a35-4b42-bf8d-722dbc729d14",
   "metadata": {},
   "outputs": [],
   "source": []
  },
  {
   "cell_type": "markdown",
   "id": "portable-yemen",
   "metadata": {},
   "source": [
    "### Sleep Rebound"
   ]
  },
  {
   "cell_type": "markdown",
   "id": "fossil-taxation",
   "metadata": {},
   "source": [
    "##### Create dataframes from csv files\n",
    "csv files are: \n",
    "waking activity in sec/min,\n",
    "rest in min/10min,\n",
    "activity in sec/10min\n",
    "\n",
    "Plot:\n",
    "Waking activity in sec/min,\n",
    "Rest in min/h,\n",
    "Activity in min/h\n",
    "\n",
    "Load control 1 and control 2 data and convert them into a data frame"
   ]
  },
  {
   "cell_type": "code",
   "execution_count": 21,
   "id": "strong-horror",
   "metadata": {},
   "outputs": [
    {
     "name": "stdout",
     "output_type": "stream",
     "text": [
      "     0   1   2   3   4   5   6   7   8   9   ...  38  39  40  41  42  43  44  \\\n",
      "0     0   0   0   0   0   0   0   0   0   0  ...   0   0   0   0   0   0   0   \n",
      "1     0   0   0   0   0   0   0   0   0   0  ...   0   0   0   0   0   0   0   \n",
      "2     0   0   0   0   0   0   0   0   0   0  ...   0   0   0   0   0   0   0   \n",
      "3     0   0   0   0   0   3   0   0   0   0  ...   0   1   0   1   0   0   0   \n",
      "4     0   0   1   0   0   8   0   0   0   0  ...   3   0   3   0   0   0   1   \n",
      "..   ..  ..  ..  ..  ..  ..  ..  ..  ..  ..  ...  ..  ..  ..  ..  ..  ..  ..   \n",
      "718   2   6   6   4   2   2   0   7   0   9  ...   7   2   2   3   6   1   0   \n",
      "719   1   2   8   0   3   2   1   8   1   5  ...   5   0   1   3   8   0   9   \n",
      "720   1   3   3   5   5   2   2   3   1   3  ...   5   3   1   4   6   4   8   \n",
      "721   3   3   5   0   5   3   1   4   1   1  ...   6   3   2   2   5   2  10   \n",
      "722   2   2   6   6   6   1   1   6   0   1  ...  10   4   7   5   6   4  10   \n",
      "\n",
      "     45  46  47  \n",
      "0     0   0   0  \n",
      "1     0   0   0  \n",
      "2     0   0   0  \n",
      "3     0   0   0  \n",
      "4     2   0   3  \n",
      "..   ..  ..  ..  \n",
      "718  10   3   9  \n",
      "719   3   6   9  \n",
      "720   5   2  10  \n",
      "721   3   5  10  \n",
      "722  10   3   9  \n",
      "\n",
      "[723 rows x 48 columns]\n",
      "          0         1         2        3        4        5        6   \\\n",
      "0    26.0770  16.00000  26.92300  28.5380  27.8460  29.0770  20.4620   \n",
      "1    28.3080  19.38500  28.69200  37.8460  27.4620  34.6150  24.1540   \n",
      "2    29.6150  16.07700  23.38500  38.6150  25.3080  31.6150  22.9230   \n",
      "3    26.8460   8.30770  12.46200  31.4620  20.9230  27.2310  24.6920   \n",
      "4    18.9230   3.38460   1.46150  22.8460  12.7690  12.0770  21.2310   \n",
      "..       ...       ...       ...      ...      ...      ...      ...   \n",
      "718   4.0769   0.61538   1.92310   4.3077   3.6154  14.2310   0.0000   \n",
      "719   3.9231   0.92308   1.76920   5.6923   3.0000  23.4620   2.8462   \n",
      "720   1.6923   0.00000   0.84615   4.9231   3.6923  22.6150   8.0000   \n",
      "721   3.2308   3.38460   2.46150   5.7692   2.6154   9.9231   1.6923   \n",
      "722   2.6923   2.53850   1.15380   4.4615   2.9231  18.7690   3.6154   \n",
      "\n",
      "           7         8         9   ...       38       39       40        41  \\\n",
      "0    29.15400  28.00000  28.15400  ...  28.0770  23.3850  26.7690  37.92300   \n",
      "1    28.46200  33.00000  33.84600  ...  34.3850  29.0770  21.9230  36.69200   \n",
      "2    30.07700  29.38500  30.23100  ...  31.0770  26.8460  22.0770  34.69200   \n",
      "3    26.61500  21.53800  20.07700  ...  21.2310  27.3850  25.2310  24.84600   \n",
      "4    14.15400  14.76900  21.69200  ...  16.4620  18.9230  22.0770  23.07700   \n",
      "..        ...       ...       ...  ...      ...      ...      ...       ...   \n",
      "718   1.00000   0.92308   0.53846  ...   1.1538   2.1538   3.3077   0.53846   \n",
      "719   4.07690   1.92310   1.23080  ...   3.3077   4.4615   4.3846   0.00000   \n",
      "720   2.00000   2.76920   3.23080  ...   6.3077   2.4615   3.6923   0.92308   \n",
      "721   0.23077   0.30769   0.38462  ...   7.4615   2.1538   4.0000   2.07690   \n",
      "722   1.53850   0.00000   0.23077  ...   1.6923   4.6154   4.2308   0.23077   \n",
      "\n",
      "          42       43       44       45       46       47  \n",
      "0    17.6150  23.3850  16.9230  10.0000  49.1540  26.5380  \n",
      "1    17.7690  32.3850  25.0000  19.9230  46.9230  34.9230  \n",
      "2    13.5380  42.8460  23.5380  14.1540  51.0000  30.3080  \n",
      "3     5.6154  32.6150  20.0770  17.3080  45.4620  20.0000  \n",
      "4     3.9231  27.8460   7.6923   9.3846  49.6150  11.0000  \n",
      "..       ...      ...      ...      ...      ...      ...  \n",
      "718   1.3846   2.1538  23.8460  19.4620   7.2308   2.9231  \n",
      "719   1.9231   7.3077  20.7690  21.0770   3.5385   4.0000  \n",
      "720   1.4615   0.0000  17.3850  17.6920   5.1538   5.6154  \n",
      "721   1.0769   0.0000  22.4620  18.3850   1.3846   3.7692  \n",
      "722   1.0769   1.3846  13.5380  16.9230   2.5385   2.8462  \n",
      "\n",
      "[723 rows x 48 columns]\n"
     ]
    }
   ],
   "source": [
    "### Control 1\n",
    "df_output_binned_act_ctrl_1 =pd.read_csv(r\"I:\\LIN\\Acute_SD_Paper\\SD_Rebound\\2024_05_11_AB_control_rebound_box1\\Rebound\\output_binned_act_ctrl.csv\", header=None)\n",
    "#print(df_output_binned_act_ctrl_1)\n",
    "\n",
    "df_output_binned_rest_ctrl_1 = pd.read_csv(r\"I:\\LIN\\Acute_SD_Paper\\SD_Rebound\\2024_05_11_AB_control_rebound_box1\\Rebound\\output_binned_rest_ctrl.csv\",header=None)\n",
    "print(df_output_binned_rest_ctrl_1)\n",
    "\n",
    "df_output_binned_wakeAct_ctrl_1 = pd.read_csv(r\"I:\\LIN\\Acute_SD_Paper\\SD_Rebound\\2024_05_11_AB_control_rebound_box1\\Rebound\\output_binned_wakeAct_ctrl.csv\",header=None)\n",
    "#print(df_output_binned_wakeAct_ctrl.head())\n",
    "\n",
    "\n",
    "### Control 2\n",
    "df_output_binned_act_ctrl_2 =pd.read_csv(r\"I:\\LIN\\Acute_SD_Paper\\SD_Rebound\\2024_05_11_AB_control_rebound_box3\\Rebound\\output_binned_act_ctrl.csv\", header=None)\n",
    "print(df_output_binned_act_ctrl_2)\n",
    "\n",
    "df_output_binned_rest_ctrl_2 = pd.read_csv(r\"I:\\LIN\\Acute_SD_Paper\\SD_Rebound\\2024_05_11_AB_control_rebound_box3\\Rebound\\output_binned_rest_ctrl.csv\",header=None)\n",
    "#print(df_output_binned_rest_ctrl.head())\n",
    "\n",
    "df_output_binned_wakeAct_ctrl_2 = pd.read_csv(r\"I:\\LIN\\Acute_SD_Paper\\SD_Rebound\\2024_05_11_AB_control_rebound_box3\\Rebound\\output_binned_wakeAct_ctrl.csv\",header=None)\n",
    "#print(df_output_binned_wakeAct_ctrl.head())"
   ]
  },
  {
   "cell_type": "markdown",
   "id": "professional-arrow",
   "metadata": {},
   "source": [
    "Load SD 1 and SD 2 data and convert them into a data frame"
   ]
  },
  {
   "cell_type": "code",
   "execution_count": 22,
   "id": "polyphonic-letters",
   "metadata": {},
   "outputs": [
    {
     "name": "stdout",
     "output_type": "stream",
     "text": [
      "          0        1        2        3         4         5        6   \\\n",
      "0    28.6150  36.6920  10.9230  0.00000  0.000000   3.84620   8.4615   \n",
      "1    13.9230  37.4620  12.8460  0.15385  0.000000   2.92310   2.8462   \n",
      "2    21.5380  20.2310  28.6150  0.00000  0.000000   2.23080   4.3846   \n",
      "3    19.8460   8.0769   6.9231  0.00000  0.153850  13.46200   5.3077   \n",
      "4    21.0770   5.2308  30.7690  0.00000  0.000000  19.61500   3.0769   \n",
      "..       ...      ...      ...      ...       ...       ...      ...   \n",
      "715   5.0000   6.0769   2.9231  5.69230  0.307690   0.15385  11.4620   \n",
      "716   3.7692   3.2308   7.3077  5.30770  1.384600   0.61538   1.0000   \n",
      "717   3.0000   2.8462  10.5380  3.30770  0.076923   1.61540   3.4615   \n",
      "718   6.0000   6.5385   8.7692  5.38460  0.000000   2.92310   8.3077   \n",
      "719   3.0000   3.4615   0.0000  4.84620  0.615380   1.00000   4.7692   \n",
      "\n",
      "            7        8        9   ...       38       39        40       41  \\\n",
      "0     6.615400  19.5380  3.00000  ...  29.2310  34.0770  14.92300  40.7690   \n",
      "1     9.615400  13.4620  7.69230  ...  33.3850  37.8460  12.23100  39.9230   \n",
      "2    18.692000  19.7690  5.61540  ...  28.6150  37.0770  22.46200  38.6920   \n",
      "3    31.923000  16.8460  5.38460  ...  28.6920  41.0000  23.38500  41.4620   \n",
      "4    28.615000   8.4615  9.00000  ...  31.6150  40.6920  17.84600  31.6920   \n",
      "..         ...      ...      ...  ...      ...      ...       ...      ...   \n",
      "715   0.461540   2.7692  4.38460  ...   4.0769  11.2310   4.38460   2.6154   \n",
      "716   0.000000   1.0000  1.69230  ...   4.3077  13.0770   0.23077   4.5385   \n",
      "717   0.076923   1.8462  0.38462  ...   4.5385   4.0000   0.00000   4.0769   \n",
      "718   0.076923   3.3846  1.84620  ...   5.0000   3.2308   0.00000   1.4615   \n",
      "719   0.000000   3.6923  5.53850  ...   4.6154   5.3077   0.00000   2.8462   \n",
      "\n",
      "          42       43       44       45       46         47  \n",
      "0     2.3077  8.30770  0.00000   8.4615  18.8460  15.769000  \n",
      "1     3.2308  6.23080  0.00000   7.1538  15.5380   9.307700  \n",
      "2     2.8462  2.92310  0.00000   5.1538  21.4620  10.385000  \n",
      "3     3.1538  0.92308  0.00000   8.5385  16.9230  13.385000  \n",
      "4     4.8462  0.92308  0.00000   7.0000  16.0000   8.461500  \n",
      "..       ...      ...      ...      ...      ...        ...  \n",
      "715   4.6923  1.76920  1.15380  20.0770   3.8462   0.076923  \n",
      "716   3.5385  1.00000  3.53850  11.6150   3.7692   0.000000  \n",
      "717   7.3077  0.76923  5.07690   7.8462   4.9231   1.076900  \n",
      "718  12.5380  1.23080  5.69230   9.5385   2.2308   0.000000  \n",
      "719  11.8460  1.61540  0.38462   6.9231   4.4615   0.307690  \n",
      "\n",
      "[720 rows x 48 columns]\n",
      "            0         1       2        3        4         5        6   \\\n",
      "0    31.214000  26.85700  5.6429  4.42860   5.7857   5.07140  12.7140   \n",
      "1    30.071000  29.78600  2.7857  7.85710  14.5710   4.14290  16.2140   \n",
      "2     9.857100  32.71400  3.0714  3.57140  18.3570   3.14290   8.2143   \n",
      "3    22.571000  31.14300  2.7143  5.07140  18.9290   4.21430  17.3570   \n",
      "4     9.071400  26.85700  6.5000  6.00000   5.5000  13.21400  23.0000   \n",
      "..         ...       ...     ...      ...      ...       ...      ...   \n",
      "716   0.285710   0.35714  1.2857  0.00000   3.2143   3.71430   5.0714   \n",
      "717   0.071429   0.21429  3.0000  2.35710   2.8571   0.92857   1.5000   \n",
      "718   0.571430   0.00000  2.0714  0.78571   1.9286   3.00000   2.0000   \n",
      "719   0.571430   0.00000  1.7857  2.57140   1.3571   0.71429   3.9286   \n",
      "720   0.642860   0.00000  2.7857  2.07140   1.2857   3.57140   2.5000   \n",
      "\n",
      "          7        8        9   ...       38       39         40        41  \\\n",
      "0    16.3570   4.5000  1.92860  ...   6.4286  0.50000  28.214000  15.92900   \n",
      "1     9.0000   6.9286  4.35710  ...  22.0000  0.21429  22.714000  21.28600   \n",
      "2    21.8570   8.9286  0.64286  ...  16.9290  0.71429  27.857000  19.28600   \n",
      "3     7.2857   5.5000  0.71429  ...  23.3570  0.28571  15.571000  19.57100   \n",
      "4    12.0710  17.4290  1.42860  ...  26.5000  0.35714   0.071429  20.21400   \n",
      "..       ...      ...      ...  ...      ...      ...        ...       ...   \n",
      "716   5.4286   3.2857  2.35710  ...  25.0000  1.35710   3.857100   3.28570   \n",
      "717   4.0000   3.4286  0.00000  ...  28.4290  2.14290   5.357100   0.57143   \n",
      "718   6.3571   3.3571  0.00000  ...  28.5000  2.50000   6.214300   0.85714   \n",
      "719   3.9286   4.0000  1.14290  ...  26.5710  5.42860   8.285700   0.00000   \n",
      "720   5.0714   3.8571  2.21430  ...  28.1430  3.78570   6.714300   0.00000   \n",
      "\n",
      "         42       43        44        45        46       47  \n",
      "0    0.0000  0.00000  6.071400  26.92900  0.071429  3.07140  \n",
      "1    0.0000  0.00000  5.785700  23.50000  0.000000  3.21430  \n",
      "2    0.0000  0.64286  7.214300  25.57100  0.000000  2.85710  \n",
      "3    0.0000  0.00000  1.714300  28.07100  0.000000  3.71430  \n",
      "4    0.0000  0.64286  6.642900  24.21400  0.000000  3.50000  \n",
      "..      ...      ...       ...       ...       ...      ...  \n",
      "716  3.2857  5.85710  0.071429   2.00000  0.000000  1.71430  \n",
      "717  3.2857  5.42860  0.357140   0.28571  0.000000  1.78570  \n",
      "718  4.0714  5.35710  0.000000   2.35710  0.071429  1.14290  \n",
      "719  3.0714  3.57140  2.285700   2.14290  0.928570  0.92857  \n",
      "720  3.2143  3.35710  2.214300   1.64290  3.571400  3.50000  \n",
      "\n",
      "[721 rows x 48 columns]\n"
     ]
    }
   ],
   "source": [
    "# continuous light 1\n",
    "df_output_binned_act_con_1=pd.read_csv(r\"I:\\LIN\\Acute_SD_Paper\\SD_Rebound\\2024_05_11_AB_coninuous_rebound_box2\\Rebound\\output_binned_act_ctrl.csv\",header=None)\n",
    "#print(df_output_binned_act_con_1)\n",
    "\n",
    "df_output_binned_rest_con_1 = pd.read_csv(r\"I:\\LIN\\Acute_SD_Paper\\SD_Rebound\\2024_05_11_AB_coninuous_rebound_box2\\Rebound\\output_binned_rest_ctrl.csv\",header=None)\n",
    "print(df_output_binned_act_con_1)\n",
    "\n",
    "df_output_binned_wakeAct_con_1 = pd.read_csv(r\"I:\\LIN\\Acute_SD_Paper\\SD_Rebound\\2024_05_11_AB_coninuous_rebound_box2\\Rebound\\output_binned_wakeAct_ctrl.csv\",header=None)\n",
    "#print(df_output_binned_wakeAct_con.head())\n",
    "\n",
    "# continuous light 2\n",
    "df_output_binned_act_con_2=pd.read_csv(r\"I:\\LIN\\Acute_SD_Paper\\SD_Rebound\\2024_05_11_AB_continuous_rebound_box4\\Rebound\\output_binned_act_ctrl.csv\",header=None)\n",
    "print(df_output_binned_act_con_2)\n",
    "\n",
    "df_output_binned_rest_con_2 = pd.read_csv(r\"I:\\LIN\\Acute_SD_Paper\\SD_Rebound\\2024_05_11_AB_continuous_rebound_box4\\Rebound\\output_binned_rest_ctrl.csv\",header=None)\n",
    "#print(df_output_binned_rest_con.head())\n",
    "\n",
    "\n",
    "df_output_binned_wakeAct_con_2 = pd.read_csv(r\"I:\\LIN\\Acute_SD_Paper\\SD_Rebound\\2024_05_11_AB_continuous_rebound_box4\\Rebound\\output_binned_wakeAct_ctrl.csv\",header=None)\n",
    "#print(df_output_binned_wakeAct_con.head())\n"
   ]
  },
  {
   "cell_type": "markdown",
   "id": "subsequent-permit",
   "metadata": {},
   "source": [
    "#### Concatenate the data frames control and the dfs continuous\n",
    "Concatenate data frames in order to pool the data"
   ]
  },
  {
   "cell_type": "code",
   "execution_count": 93,
   "id": "eleven-papua",
   "metadata": {},
   "outputs": [
    {
     "name": "stdout",
     "output_type": "stream",
     "text": [
      "     0   1   2   3   4   5   6   7   8   9   ...   14   15   16   17   18  \\\n",
      "0     0   0   0   0   1   0   5   0   0   0  ...  0.0  0.0  0.0  0.0  0.0   \n",
      "1     0   0   0   0   0   0   4   0   0   0  ...  0.0  0.0  0.0  0.0  0.0   \n",
      "2     0   0   0   0   0   0   5   0   0   0  ...  0.0  0.0  0.0  0.0  0.0   \n",
      "3     0   0   0   0   0   0   4   0   0   0  ...  0.0  0.0  0.0  0.0  0.0   \n",
      "4     0   0   0   0   0   0   5   0   0   0  ...  0.0  0.0  0.0  0.0  0.0   \n",
      "..   ..  ..  ..  ..  ..  ..  ..  ..  ..  ..  ...  ...  ...  ...  ...  ...   \n",
      "139   0   1   0   4   0   2   1   1   0   0  ...  0.0  4.0  0.0  7.0  9.0   \n",
      "140   0   0   0   1   0   1   2   0   0   0  ...  0.0  8.0  0.0  6.0  1.0   \n",
      "141   2   0   0   2   0   1   1   0   0   0  ...  1.0  0.0  0.0  0.0  0.0   \n",
      "142   1   0   0   1   0   1   2   7   1   1  ...  NaN  NaN  NaN  NaN  NaN   \n",
      "143   1   2   0   2   0   5   1   3   0   0  ...  NaN  NaN  NaN  NaN  NaN   \n",
      "\n",
      "      19    20    21   22   23  \n",
      "0    0.0   0.0   0.0  0.0  0.0  \n",
      "1    0.0   0.0   0.0  0.0  0.0  \n",
      "2    0.0   0.0   0.0  0.0  0.0  \n",
      "3    0.0   0.0   0.0  0.0  0.0  \n",
      "4    0.0   0.0   0.0  0.0  0.0  \n",
      "..   ...   ...   ...  ...  ...  \n",
      "139  1.0  10.0   8.0  3.0  1.0  \n",
      "140  0.0   7.0  10.0  1.0  1.0  \n",
      "141  0.0   0.0   0.0  0.0  2.0  \n",
      "142  NaN   NaN   NaN  NaN  NaN  \n",
      "143  NaN   NaN   NaN  NaN  NaN  \n",
      "\n",
      "[144 rows x 48 columns]\n",
      "         0       1        2        3       4        5        6        7   \\\n",
      "0    9.9231  9.5538  14.3380  2.96920  3.6068  2.51540  0.69231  4.56920   \n",
      "1    4.0615  8.1154  14.3000  3.40770  4.2385  2.22310  0.62821  4.66920   \n",
      "2    4.7462  7.9077  13.6080  5.60000  3.6538  2.24620  0.50769  3.70000   \n",
      "3    4.5154  8.2077   9.5154  4.88460  2.8923  3.54620  1.02560  4.40770   \n",
      "4    8.3462  9.6231   6.7923  2.35380  3.7231  3.14620  0.83077  3.84620   \n",
      "..      ...     ...      ...      ...     ...      ...      ...      ...   \n",
      "139  1.9385  1.4274   4.2846  0.48718  5.2462  0.93269  0.95726  0.67521   \n",
      "140  2.0385  5.6538   3.1308  1.25640  6.0615  0.82051  1.58650  0.76154   \n",
      "141  1.4808  1.8923   4.5692  0.75962  4.6538  0.73504  0.98291  0.96923   \n",
      "142  1.4103  1.2692   4.5692  1.00850  5.0308  1.29060  0.92308  1.79490   \n",
      "143  1.8376  2.1442   5.9077  1.30770  5.0615  1.44620  0.68376  1.04400   \n",
      "\n",
      "         8        9   ...      14       15       16        17        18  \\\n",
      "0    1.8538  5.57690  ...  6.5333  13.1500  11.9750  11.35800  8.150000   \n",
      "1    2.1077  4.53850  ...  8.3167  14.8920  12.1750  13.05800  6.183300   \n",
      "2    2.7385  5.66920  ...  9.3583  12.8420  11.3500  11.25000  6.025000   \n",
      "3    1.3846  5.58460  ...  9.1917   9.2417  11.0080  11.58300  7.716700   \n",
      "4    2.9385  6.13080  ...  8.9250  12.3080   9.2167  12.65000  8.400000   \n",
      "..      ...      ...  ...     ...      ...      ...       ...       ...   \n",
      "139  1.1615  1.70000  ...  1.4833   1.3056   1.8167   0.38889  0.083333   \n",
      "140  1.1923  0.95385  ...  1.2083   0.6250   1.8417   0.72917  1.527800   \n",
      "141  1.7692  1.39230  ...  1.8889   1.7500   2.1417   2.17500  1.908300   \n",
      "142  1.4872  1.04270  ...     NaN      NaN      NaN       NaN       NaN   \n",
      "143  1.4538  1.68460  ...     NaN      NaN      NaN       NaN       NaN   \n",
      "\n",
      "         19      20        21      22       23  \n",
      "0    7.3000  6.0250  10.20800  7.4333  4.35830  \n",
      "1    7.5667  6.2333   9.38330  4.6750  7.48330  \n",
      "2    8.5917  6.4083   9.11670  7.1833  3.42500  \n",
      "3    6.5417  6.4333   9.01670  9.7000  1.57500  \n",
      "4    6.7917  5.5583   8.27500  7.0250  2.90000  \n",
      "..      ...     ...       ...     ...      ...  \n",
      "139  1.3056  0.0000   0.79167  1.0238  1.41670  \n",
      "140  1.4667  1.0556   0.00000  1.0833  0.79630  \n",
      "141  1.8167  1.6917   1.50830  1.4250  0.65625  \n",
      "142     NaN     NaN       NaN     NaN      NaN  \n",
      "143     NaN     NaN       NaN     NaN      NaN  \n",
      "\n",
      "[144 rows x 48 columns]\n"
     ]
    }
   ],
   "source": [
    "# concat controls\n",
    "df_Act_control = pd.concat([df_output_binned_act_ctrl_1, df_output_binned_act_ctrl_2], axis=1)\n",
    "#print(df_Act_control)\n",
    "\n",
    "df_rest_control = pd.concat([df_output_binned_rest_ctrl_1, df_output_binned_rest_ctrl_2], axis=1)\n",
    "print(df_rest_control)\n",
    "\n",
    "df_wakeAct_control = pd.concat([df_output_binned_wakeAct_ctrl_1, df_output_binned_wakeAct_ctrl_2], axis=1)\n",
    "print(df_wakeAct_control)"
   ]
  },
  {
   "cell_type": "code",
   "execution_count": 24,
   "id": "impossible-northwest",
   "metadata": {},
   "outputs": [
    {
     "name": "stdout",
     "output_type": "stream",
     "text": [
      "      0    1     2     3     4    5    6     7    8    9   ...  38  39  40  \\\n",
      "0    0.0  0.0   0.0  10.0  10.0  3.0  0.0   1.0  0.0  3.0  ...   0   7   0   \n",
      "1    0.0  0.0   0.0   8.0  10.0  2.0  2.0   0.0  0.0  0.0  ...   0   8   0   \n",
      "2    1.0  0.0   0.0  10.0  10.0  2.0  0.0   0.0  0.0  2.0  ...   0   3   0   \n",
      "3    0.0  0.0   1.0  10.0   9.0  1.0  1.0   0.0  0.0  2.0  ...   0   7   3   \n",
      "4    1.0  0.0   0.0  10.0  10.0  0.0  3.0   0.0  0.0  0.0  ...   0   7   9   \n",
      "..   ...  ...   ...   ...   ...  ...  ...   ...  ...  ...  ...  ..  ..  ..   \n",
      "716  4.0  4.0   5.0   2.0   7.0  8.0  7.0  10.0  9.0  8.0  ...   0   4   4   \n",
      "717  1.0  3.0   4.0   1.0   9.0  7.0  5.0   9.0  8.0  9.0  ...   0   5   3   \n",
      "718  1.0  3.0   7.0   3.0  10.0  5.0  2.0   9.0  5.0  6.0  ...   0   4   2   \n",
      "719  3.0  2.0  10.0   0.0   6.0  7.0  3.0  10.0  5.0  1.0  ...   0   0   0   \n",
      "720  NaN  NaN   NaN   NaN   NaN  NaN  NaN   NaN  NaN  NaN  ...   0   1   1   \n",
      "\n",
      "     41  42  43  44  45  46  47  \n",
      "0     0  10  10   0   0   9   0  \n",
      "1     0  10  10   0   0  10   2  \n",
      "2     0  10   7   0   0  10   1  \n",
      "3     0  10  10   3   0  10   0  \n",
      "4     0  10   7   0   0  10   0  \n",
      "..   ..  ..  ..  ..  ..  ..  ..  \n",
      "716   5   3   0   9   6  10   7  \n",
      "717   8   2   1   9   9  10   5  \n",
      "718   9   1   1  10   3   9   8  \n",
      "719  10   5   3   6   6   3   7  \n",
      "720  10   2   2   6   7   4   3  \n",
      "\n",
      "[721 rows x 96 columns]\n",
      "          0        1        2         3         4        5        6   \\\n",
      "0    2.86150  3.66920  1.09230  0.000000  0.000000  0.54945  0.84615   \n",
      "1    1.39230  3.74620  1.28460  0.076923  0.000000  0.36538  0.35577   \n",
      "2    2.39320  2.02310  2.86150  0.000000  0.000000  0.27885  0.43846   \n",
      "3    1.98460  0.80769  0.76923  0.000000  0.153850  1.49570  0.58974   \n",
      "4    2.34190  0.52308  3.07690  0.000000  0.000000  1.96150  0.43956   \n",
      "..       ...      ...      ...       ...       ...      ...      ...   \n",
      "716  0.62821  0.53846  1.46150  0.663460  0.461540  0.30769  0.33333   \n",
      "717  0.33333  0.40659  1.75640  0.367520  0.076923  0.53846  0.69231   \n",
      "718  0.66667  0.93407  2.92310  0.769230  0.000000  0.58462  1.03850   \n",
      "719  0.42857  0.43269  0.00000  0.484620  0.153850  0.33333  0.68132   \n",
      "720      NaN      NaN      NaN       NaN       NaN      NaN      NaN   \n",
      "\n",
      "           7        8        9   ...       38        39        40       41  \\\n",
      "0    0.735040  1.95380  0.42857  ...  0.64286  0.166670  2.821400  1.59290   \n",
      "1    0.961540  1.34620  0.76923  ...  2.20000  0.107140  2.271400  2.12860   \n",
      "2    1.869200  1.97690  0.70192  ...  1.69290  0.102040  2.785700  1.92860   \n",
      "3    3.192300  1.68460  0.67308  ...  2.33570  0.095238  2.224500  1.95710   \n",
      "4    2.861500  0.84615  0.90000  ...  2.65000  0.119050  0.071429  2.02140   \n",
      "..        ...      ...      ...  ...      ...       ...       ...      ...   \n",
      "716  0.000000  1.00000  0.84615  ...  2.50000  0.226190  0.642860  0.65714   \n",
      "717  0.076923  0.92308  0.38462  ...  2.84290  0.428570  0.765310  0.28571   \n",
      "718  0.076923  0.67692  0.46154  ...  2.85000  0.416670  0.776790  0.85714   \n",
      "719  0.000000  0.73846  0.61538  ...  2.65710  0.542860  0.828570  0.00000   \n",
      "720       NaN      NaN      NaN  ...  2.81430  0.420630  0.746030  0.00000   \n",
      "\n",
      "          42       43        44       45        46       47  \n",
      "0    0.00000  0.00000  0.607140  2.69290  0.071429  0.30714  \n",
      "1    0.00000  0.00000  0.578570  2.35000  0.000000  0.40179  \n",
      "2    0.00000  0.21429  0.721430  2.55710  0.000000  0.31746  \n",
      "3    0.00000  0.00000  0.244900  2.80710  0.000000  0.37143  \n",
      "4    0.00000  0.21429  0.664290  2.42140  0.000000  0.35000  \n",
      "..       ...      ...       ...      ...       ...      ...  \n",
      "716  0.46939  0.58571  0.071429  0.50000  0.000000  0.57143  \n",
      "717  0.41071  0.60317  0.357140  0.28571  0.000000  0.35714  \n",
      "718  0.45238  0.59524  0.000000  0.33673  0.071429  0.57143  \n",
      "719  0.61429  0.51020  0.571430  0.53571  0.132650  0.30952  \n",
      "720  0.40179  0.41964  0.553570  0.54762  0.595240  0.50000  \n",
      "\n",
      "[721 rows x 96 columns]\n"
     ]
    }
   ],
   "source": [
    "# concat continuous light\n",
    "\n",
    "df_Act_continuous = pd.concat([df_output_binned_act_con_1, df_output_binned_act_con_2], axis=1)\n",
    "#print(df_Act_continuous)\n",
    "\n",
    "df_rest_continuous = pd.concat([df_output_binned_rest_con_1, df_output_binned_rest_con_2], axis=1)\n",
    "print(df_rest_continuous)\n",
    "\n",
    "df_wakeAct_continuous = pd.concat([df_output_binned_wakeAct_con_1, df_output_binned_wakeAct_con_2], axis=1)\n",
    "print(df_wakeAct_continuous)"
   ]
  },
  {
   "cell_type": "markdown",
   "id": "utility-community",
   "metadata": {},
   "source": [
    "#### Unit conversion\n",
    "Rest:\n",
    "change unit from min/10min to min/h for rest -->\n",
    "multiply whole table by 6"
   ]
  },
  {
   "cell_type": "code",
   "execution_count": 25,
   "id": "absolute-utility",
   "metadata": {},
   "outputs": [],
   "source": [
    "df_rest_control_NEW = df_rest_control.mul(6)\n",
    "\n",
    "df_rest_continuous_NEW = df_rest_continuous.mul(6)\n",
    "#print(df_rest_continuous_NEW)"
   ]
  },
  {
   "cell_type": "markdown",
   "id": "vanilla-kingston",
   "metadata": {},
   "source": [
    "#### Plot sleep an waking activity\n",
    "Waking Activity"
   ]
  },
  {
   "cell_type": "code",
   "execution_count": 27,
   "id": "norwegian-width",
   "metadata": {},
   "outputs": [
    {
     "name": "stdout",
     "output_type": "stream",
     "text": [
      "len x 723\n",
      "len y 723\n"
     ]
    },
    {
     "ename": "ValueError",
     "evalue": "x and y must have same first dimension, but have shapes (723,) and (721,)",
     "output_type": "error",
     "traceback": [
      "\u001b[1;31m---------------------------------------------------------------------------\u001b[0m",
      "\u001b[1;31mValueError\u001b[0m                                Traceback (most recent call last)",
      "\u001b[1;32m<ipython-input-27-cc91c48c3c09>\u001b[0m in \u001b[0;36m<module>\u001b[1;34m\u001b[0m\n\u001b[0;32m     22\u001b[0m \u001b[0max\u001b[0m\u001b[1;33m.\u001b[0m\u001b[0mfill_between\u001b[0m\u001b[1;33m(\u001b[0m\u001b[0mx\u001b[0m\u001b[1;33m,\u001b[0m \u001b[0my_est_ctrl\u001b[0m \u001b[1;33m-\u001b[0m \u001b[0my_err_ctrl\u001b[0m\u001b[1;33m,\u001b[0m \u001b[0my_est_ctrl\u001b[0m \u001b[1;33m+\u001b[0m \u001b[0my_err_ctrl\u001b[0m\u001b[1;33m,\u001b[0m \u001b[0malpha\u001b[0m\u001b[1;33m=\u001b[0m\u001b[1;36m0.2\u001b[0m\u001b[1;33m,\u001b[0m \u001b[0mcolor\u001b[0m\u001b[1;33m=\u001b[0m\u001b[1;34m'black'\u001b[0m\u001b[1;33m)\u001b[0m\u001b[1;33m\u001b[0m\u001b[1;33m\u001b[0m\u001b[0m\n\u001b[0;32m     23\u001b[0m \u001b[1;33m\u001b[0m\u001b[0m\n\u001b[1;32m---> 24\u001b[1;33m \u001b[0max\u001b[0m\u001b[1;33m.\u001b[0m\u001b[0mplot\u001b[0m\u001b[1;33m(\u001b[0m\u001b[0mx\u001b[0m\u001b[1;33m,\u001b[0m \u001b[0my_est_con\u001b[0m\u001b[1;33m,\u001b[0m \u001b[1;34m'-'\u001b[0m\u001b[1;33m,\u001b[0m \u001b[0mcolor\u001b[0m\u001b[1;33m=\u001b[0m\u001b[1;34m'red'\u001b[0m\u001b[1;33m,\u001b[0m\u001b[0mlabel\u001b[0m\u001b[1;33m=\u001b[0m\u001b[1;34m\"continuous light\"\u001b[0m\u001b[1;33m)\u001b[0m\u001b[1;33m\u001b[0m\u001b[1;33m\u001b[0m\u001b[0m\n\u001b[0m\u001b[0;32m     25\u001b[0m \u001b[0max\u001b[0m\u001b[1;33m.\u001b[0m\u001b[0mfill_between\u001b[0m\u001b[1;33m(\u001b[0m\u001b[0mx\u001b[0m\u001b[1;33m,\u001b[0m \u001b[0my_est_con\u001b[0m \u001b[1;33m-\u001b[0m \u001b[0my_err_con\u001b[0m\u001b[1;33m,\u001b[0m \u001b[0my_est_con\u001b[0m \u001b[1;33m+\u001b[0m \u001b[0my_err_con\u001b[0m\u001b[1;33m,\u001b[0m \u001b[0malpha\u001b[0m\u001b[1;33m=\u001b[0m\u001b[1;36m0.2\u001b[0m\u001b[1;33m,\u001b[0m \u001b[0mcolor\u001b[0m\u001b[1;33m=\u001b[0m\u001b[1;34m'red'\u001b[0m\u001b[1;33m)\u001b[0m\u001b[1;33m\u001b[0m\u001b[1;33m\u001b[0m\u001b[0m\n\u001b[0;32m     26\u001b[0m \u001b[1;33m\u001b[0m\u001b[0m\n",
      "\u001b[1;32m~\\miniconda3\\envs\\stytra\\lib\\site-packages\\matplotlib\\axes\\_axes.py\u001b[0m in \u001b[0;36mplot\u001b[1;34m(self, scalex, scaley, data, *args, **kwargs)\u001b[0m\n\u001b[0;32m   1741\u001b[0m         \"\"\"\n\u001b[0;32m   1742\u001b[0m         \u001b[0mkwargs\u001b[0m \u001b[1;33m=\u001b[0m \u001b[0mcbook\u001b[0m\u001b[1;33m.\u001b[0m\u001b[0mnormalize_kwargs\u001b[0m\u001b[1;33m(\u001b[0m\u001b[0mkwargs\u001b[0m\u001b[1;33m,\u001b[0m \u001b[0mmlines\u001b[0m\u001b[1;33m.\u001b[0m\u001b[0mLine2D\u001b[0m\u001b[1;33m)\u001b[0m\u001b[1;33m\u001b[0m\u001b[1;33m\u001b[0m\u001b[0m\n\u001b[1;32m-> 1743\u001b[1;33m         \u001b[0mlines\u001b[0m \u001b[1;33m=\u001b[0m \u001b[1;33m[\u001b[0m\u001b[1;33m*\u001b[0m\u001b[0mself\u001b[0m\u001b[1;33m.\u001b[0m\u001b[0m_get_lines\u001b[0m\u001b[1;33m(\u001b[0m\u001b[1;33m*\u001b[0m\u001b[0margs\u001b[0m\u001b[1;33m,\u001b[0m \u001b[0mdata\u001b[0m\u001b[1;33m=\u001b[0m\u001b[0mdata\u001b[0m\u001b[1;33m,\u001b[0m \u001b[1;33m**\u001b[0m\u001b[0mkwargs\u001b[0m\u001b[1;33m)\u001b[0m\u001b[1;33m]\u001b[0m\u001b[1;33m\u001b[0m\u001b[1;33m\u001b[0m\u001b[0m\n\u001b[0m\u001b[0;32m   1744\u001b[0m         \u001b[1;32mfor\u001b[0m \u001b[0mline\u001b[0m \u001b[1;32min\u001b[0m \u001b[0mlines\u001b[0m\u001b[1;33m:\u001b[0m\u001b[1;33m\u001b[0m\u001b[1;33m\u001b[0m\u001b[0m\n\u001b[0;32m   1745\u001b[0m             \u001b[0mself\u001b[0m\u001b[1;33m.\u001b[0m\u001b[0madd_line\u001b[0m\u001b[1;33m(\u001b[0m\u001b[0mline\u001b[0m\u001b[1;33m)\u001b[0m\u001b[1;33m\u001b[0m\u001b[1;33m\u001b[0m\u001b[0m\n",
      "\u001b[1;32m~\\miniconda3\\envs\\stytra\\lib\\site-packages\\matplotlib\\axes\\_base.py\u001b[0m in \u001b[0;36m__call__\u001b[1;34m(self, data, *args, **kwargs)\u001b[0m\n\u001b[0;32m    271\u001b[0m                 \u001b[0mthis\u001b[0m \u001b[1;33m+=\u001b[0m \u001b[0margs\u001b[0m\u001b[1;33m[\u001b[0m\u001b[1;36m0\u001b[0m\u001b[1;33m]\u001b[0m\u001b[1;33m,\u001b[0m\u001b[1;33m\u001b[0m\u001b[1;33m\u001b[0m\u001b[0m\n\u001b[0;32m    272\u001b[0m                 \u001b[0margs\u001b[0m \u001b[1;33m=\u001b[0m \u001b[0margs\u001b[0m\u001b[1;33m[\u001b[0m\u001b[1;36m1\u001b[0m\u001b[1;33m:\u001b[0m\u001b[1;33m]\u001b[0m\u001b[1;33m\u001b[0m\u001b[1;33m\u001b[0m\u001b[0m\n\u001b[1;32m--> 273\u001b[1;33m             \u001b[1;32myield\u001b[0m \u001b[1;32mfrom\u001b[0m \u001b[0mself\u001b[0m\u001b[1;33m.\u001b[0m\u001b[0m_plot_args\u001b[0m\u001b[1;33m(\u001b[0m\u001b[0mthis\u001b[0m\u001b[1;33m,\u001b[0m \u001b[0mkwargs\u001b[0m\u001b[1;33m)\u001b[0m\u001b[1;33m\u001b[0m\u001b[1;33m\u001b[0m\u001b[0m\n\u001b[0m\u001b[0;32m    274\u001b[0m \u001b[1;33m\u001b[0m\u001b[0m\n\u001b[0;32m    275\u001b[0m     \u001b[1;32mdef\u001b[0m \u001b[0mget_next_color\u001b[0m\u001b[1;33m(\u001b[0m\u001b[0mself\u001b[0m\u001b[1;33m)\u001b[0m\u001b[1;33m:\u001b[0m\u001b[1;33m\u001b[0m\u001b[1;33m\u001b[0m\u001b[0m\n",
      "\u001b[1;32m~\\miniconda3\\envs\\stytra\\lib\\site-packages\\matplotlib\\axes\\_base.py\u001b[0m in \u001b[0;36m_plot_args\u001b[1;34m(self, tup, kwargs)\u001b[0m\n\u001b[0;32m    397\u001b[0m \u001b[1;33m\u001b[0m\u001b[0m\n\u001b[0;32m    398\u001b[0m         \u001b[1;32mif\u001b[0m \u001b[0mx\u001b[0m\u001b[1;33m.\u001b[0m\u001b[0mshape\u001b[0m\u001b[1;33m[\u001b[0m\u001b[1;36m0\u001b[0m\u001b[1;33m]\u001b[0m \u001b[1;33m!=\u001b[0m \u001b[0my\u001b[0m\u001b[1;33m.\u001b[0m\u001b[0mshape\u001b[0m\u001b[1;33m[\u001b[0m\u001b[1;36m0\u001b[0m\u001b[1;33m]\u001b[0m\u001b[1;33m:\u001b[0m\u001b[1;33m\u001b[0m\u001b[1;33m\u001b[0m\u001b[0m\n\u001b[1;32m--> 399\u001b[1;33m             raise ValueError(f\"x and y must have same first dimension, but \"\n\u001b[0m\u001b[0;32m    400\u001b[0m                              f\"have shapes {x.shape} and {y.shape}\")\n\u001b[0;32m    401\u001b[0m         \u001b[1;32mif\u001b[0m \u001b[0mx\u001b[0m\u001b[1;33m.\u001b[0m\u001b[0mndim\u001b[0m \u001b[1;33m>\u001b[0m \u001b[1;36m2\u001b[0m \u001b[1;32mor\u001b[0m \u001b[0my\u001b[0m\u001b[1;33m.\u001b[0m\u001b[0mndim\u001b[0m \u001b[1;33m>\u001b[0m \u001b[1;36m2\u001b[0m\u001b[1;33m:\u001b[0m\u001b[1;33m\u001b[0m\u001b[1;33m\u001b[0m\u001b[0m\n",
      "\u001b[1;31mValueError\u001b[0m: x and y must have same first dimension, but have shapes (723,) and (721,)"
     ]
    },
    {
     "data": {
      "image/png": "[encoded data removed]",
      "text/plain": [
       "<Figure size 432x288 with 1 Axes>"
      ]
     },
     "metadata": {
      "needs_background": "light"
     },
     "output_type": "display_data"
    }
   ],
   "source": [
    "## Waking activity\n",
    "\n",
    "#x = np.linspace(0,143,144)\n",
    "x = np.linspace(0,722,723)\n",
    "y = df_wakeAct_control.mean(axis=1)\n",
    "print(\"len x\",len(x))\n",
    "print(\"len y\",len(y))\n",
    "\n",
    "\n",
    "\n",
    "# fit a linear curve an estimate its y-values and their error.\n",
    "a, b = np.polyfit(x, y, deg=1)\n",
    "y_est_ctrl = df_wakeAct_control.mean(axis=1)\n",
    "y_err_ctrl = df_wakeAct_control.sem(axis=1)\n",
    "\n",
    "y_est_con=df_wakeAct_continuous.mean(axis=1)\n",
    "y_err_con = df_wakeAct_continuous.sem(axis=1)\n",
    "\n",
    "\n",
    "fig, ax = plt.subplots()\n",
    "ax.plot(x, y_est_ctrl, '-', color='black',label=\"control\")\n",
    "ax.fill_between(x, y_est_ctrl - y_err_ctrl, y_est_ctrl + y_err_ctrl, alpha=0.2, color='black')\n",
    "\n",
    "ax.plot(x, y_est_con, '-', color='red',label=\"continuous light\")\n",
    "ax.fill_between(x, y_est_con - y_err_con, y_est_con + y_err_con, alpha=0.2, color='red')\n",
    "\n",
    "#rectangle = plt.Rectangle((88,0),150, 15, fc='grey', alpha=0.2)\n",
    "#plt.gca().add_patch(rectangle)\n",
    "\n",
    "ax.set_xlim(0,)\n",
    "#ax.set_ylim(0,18)\n",
    "ax.set_title(\"Waking Activity Control\")\n",
    "ax.set_ylabel(\"Waking Activity (secs/minute)\")\n",
    "plt.legend(loc=\"upper left\")\n",
    "    \n",
    "sns.despine(right=True, bottom=False)\n",
    "#fig.savefig(r\"E:\\LIN\\Acute_SD_Paper\\SD_Rebound\\Results\\Waking_activity_pooled.pdf\")"
   ]
  },
  {
   "cell_type": "markdown",
   "id": "working-creator",
   "metadata": {},
   "source": [
    "Sleep"
   ]
  },
  {
   "cell_type": "code",
   "execution_count": 28,
   "id": "norwegian-discharge",
   "metadata": {},
   "outputs": [
    {
     "ename": "ValueError",
     "evalue": "x and y must have same first dimension, but have shapes (723,) and (721,)",
     "output_type": "error",
     "traceback": [
      "\u001b[1;31m---------------------------------------------------------------------------\u001b[0m",
      "\u001b[1;31mValueError\u001b[0m                                Traceback (most recent call last)",
      "\u001b[1;32m<ipython-input-28-70536dc494b3>\u001b[0m in \u001b[0;36m<module>\u001b[1;34m\u001b[0m\n\u001b[0;32m     21\u001b[0m \u001b[0max\u001b[0m\u001b[1;33m.\u001b[0m\u001b[0mfill_between\u001b[0m\u001b[1;33m(\u001b[0m\u001b[0mx\u001b[0m\u001b[1;33m,\u001b[0m \u001b[0my_est_ctrl\u001b[0m \u001b[1;33m-\u001b[0m \u001b[0my_err_ctrl\u001b[0m\u001b[1;33m,\u001b[0m \u001b[0my_est_ctrl\u001b[0m \u001b[1;33m+\u001b[0m \u001b[0my_err_ctrl\u001b[0m\u001b[1;33m,\u001b[0m \u001b[0malpha\u001b[0m\u001b[1;33m=\u001b[0m\u001b[1;36m0.2\u001b[0m\u001b[1;33m,\u001b[0m \u001b[0mcolor\u001b[0m\u001b[1;33m=\u001b[0m\u001b[1;34m'black'\u001b[0m\u001b[1;33m)\u001b[0m\u001b[1;33m\u001b[0m\u001b[1;33m\u001b[0m\u001b[0m\n\u001b[0;32m     22\u001b[0m \u001b[1;33m\u001b[0m\u001b[0m\n\u001b[1;32m---> 23\u001b[1;33m \u001b[0max\u001b[0m\u001b[1;33m.\u001b[0m\u001b[0mplot\u001b[0m\u001b[1;33m(\u001b[0m\u001b[0mx\u001b[0m\u001b[1;33m,\u001b[0m \u001b[0my_est_con\u001b[0m\u001b[1;33m,\u001b[0m \u001b[1;34m'-'\u001b[0m\u001b[1;33m,\u001b[0m \u001b[0mcolor\u001b[0m\u001b[1;33m=\u001b[0m\u001b[1;34m'red'\u001b[0m\u001b[1;33m,\u001b[0m\u001b[0mlabel\u001b[0m\u001b[1;33m=\u001b[0m\u001b[1;34m\"continuous light\"\u001b[0m\u001b[1;33m)\u001b[0m\u001b[1;33m\u001b[0m\u001b[1;33m\u001b[0m\u001b[0m\n\u001b[0m\u001b[0;32m     24\u001b[0m \u001b[0max\u001b[0m\u001b[1;33m.\u001b[0m\u001b[0mfill_between\u001b[0m\u001b[1;33m(\u001b[0m\u001b[0mx\u001b[0m\u001b[1;33m,\u001b[0m \u001b[0my_est_con\u001b[0m \u001b[1;33m-\u001b[0m \u001b[0my_err_con\u001b[0m\u001b[1;33m,\u001b[0m \u001b[0my_est_con\u001b[0m \u001b[1;33m+\u001b[0m \u001b[0my_err_con\u001b[0m\u001b[1;33m,\u001b[0m \u001b[0malpha\u001b[0m\u001b[1;33m=\u001b[0m\u001b[1;36m0.2\u001b[0m\u001b[1;33m,\u001b[0m \u001b[0mcolor\u001b[0m\u001b[1;33m=\u001b[0m\u001b[1;34m'red'\u001b[0m\u001b[1;33m)\u001b[0m\u001b[1;33m\u001b[0m\u001b[1;33m\u001b[0m\u001b[0m\n\u001b[0;32m     25\u001b[0m \u001b[1;33m\u001b[0m\u001b[0m\n",
      "\u001b[1;32m~\\miniconda3\\envs\\stytra\\lib\\site-packages\\matplotlib\\axes\\_axes.py\u001b[0m in \u001b[0;36mplot\u001b[1;34m(self, scalex, scaley, data, *args, **kwargs)\u001b[0m\n\u001b[0;32m   1741\u001b[0m         \"\"\"\n\u001b[0;32m   1742\u001b[0m         \u001b[0mkwargs\u001b[0m \u001b[1;33m=\u001b[0m \u001b[0mcbook\u001b[0m\u001b[1;33m.\u001b[0m\u001b[0mnormalize_kwargs\u001b[0m\u001b[1;33m(\u001b[0m\u001b[0mkwargs\u001b[0m\u001b[1;33m,\u001b[0m \u001b[0mmlines\u001b[0m\u001b[1;33m.\u001b[0m\u001b[0mLine2D\u001b[0m\u001b[1;33m)\u001b[0m\u001b[1;33m\u001b[0m\u001b[1;33m\u001b[0m\u001b[0m\n\u001b[1;32m-> 1743\u001b[1;33m         \u001b[0mlines\u001b[0m \u001b[1;33m=\u001b[0m \u001b[1;33m[\u001b[0m\u001b[1;33m*\u001b[0m\u001b[0mself\u001b[0m\u001b[1;33m.\u001b[0m\u001b[0m_get_lines\u001b[0m\u001b[1;33m(\u001b[0m\u001b[1;33m*\u001b[0m\u001b[0margs\u001b[0m\u001b[1;33m,\u001b[0m \u001b[0mdata\u001b[0m\u001b[1;33m=\u001b[0m\u001b[0mdata\u001b[0m\u001b[1;33m,\u001b[0m \u001b[1;33m**\u001b[0m\u001b[0mkwargs\u001b[0m\u001b[1;33m)\u001b[0m\u001b[1;33m]\u001b[0m\u001b[1;33m\u001b[0m\u001b[1;33m\u001b[0m\u001b[0m\n\u001b[0m\u001b[0;32m   1744\u001b[0m         \u001b[1;32mfor\u001b[0m \u001b[0mline\u001b[0m \u001b[1;32min\u001b[0m \u001b[0mlines\u001b[0m\u001b[1;33m:\u001b[0m\u001b[1;33m\u001b[0m\u001b[1;33m\u001b[0m\u001b[0m\n\u001b[0;32m   1745\u001b[0m             \u001b[0mself\u001b[0m\u001b[1;33m.\u001b[0m\u001b[0madd_line\u001b[0m\u001b[1;33m(\u001b[0m\u001b[0mline\u001b[0m\u001b[1;33m)\u001b[0m\u001b[1;33m\u001b[0m\u001b[1;33m\u001b[0m\u001b[0m\n",
      "\u001b[1;32m~\\miniconda3\\envs\\stytra\\lib\\site-packages\\matplotlib\\axes\\_base.py\u001b[0m in \u001b[0;36m__call__\u001b[1;34m(self, data, *args, **kwargs)\u001b[0m\n\u001b[0;32m    271\u001b[0m                 \u001b[0mthis\u001b[0m \u001b[1;33m+=\u001b[0m \u001b[0margs\u001b[0m\u001b[1;33m[\u001b[0m\u001b[1;36m0\u001b[0m\u001b[1;33m]\u001b[0m\u001b[1;33m,\u001b[0m\u001b[1;33m\u001b[0m\u001b[1;33m\u001b[0m\u001b[0m\n\u001b[0;32m    272\u001b[0m                 \u001b[0margs\u001b[0m \u001b[1;33m=\u001b[0m \u001b[0margs\u001b[0m\u001b[1;33m[\u001b[0m\u001b[1;36m1\u001b[0m\u001b[1;33m:\u001b[0m\u001b[1;33m]\u001b[0m\u001b[1;33m\u001b[0m\u001b[1;33m\u001b[0m\u001b[0m\n\u001b[1;32m--> 273\u001b[1;33m             \u001b[1;32myield\u001b[0m \u001b[1;32mfrom\u001b[0m \u001b[0mself\u001b[0m\u001b[1;33m.\u001b[0m\u001b[0m_plot_args\u001b[0m\u001b[1;33m(\u001b[0m\u001b[0mthis\u001b[0m\u001b[1;33m,\u001b[0m \u001b[0mkwargs\u001b[0m\u001b[1;33m)\u001b[0m\u001b[1;33m\u001b[0m\u001b[1;33m\u001b[0m\u001b[0m\n\u001b[0m\u001b[0;32m    274\u001b[0m \u001b[1;33m\u001b[0m\u001b[0m\n\u001b[0;32m    275\u001b[0m     \u001b[1;32mdef\u001b[0m \u001b[0mget_next_color\u001b[0m\u001b[1;33m(\u001b[0m\u001b[0mself\u001b[0m\u001b[1;33m)\u001b[0m\u001b[1;33m:\u001b[0m\u001b[1;33m\u001b[0m\u001b[1;33m\u001b[0m\u001b[0m\n",
      "\u001b[1;32m~\\miniconda3\\envs\\stytra\\lib\\site-packages\\matplotlib\\axes\\_base.py\u001b[0m in \u001b[0;36m_plot_args\u001b[1;34m(self, tup, kwargs)\u001b[0m\n\u001b[0;32m    397\u001b[0m \u001b[1;33m\u001b[0m\u001b[0m\n\u001b[0;32m    398\u001b[0m         \u001b[1;32mif\u001b[0m \u001b[0mx\u001b[0m\u001b[1;33m.\u001b[0m\u001b[0mshape\u001b[0m\u001b[1;33m[\u001b[0m\u001b[1;36m0\u001b[0m\u001b[1;33m]\u001b[0m \u001b[1;33m!=\u001b[0m \u001b[0my\u001b[0m\u001b[1;33m.\u001b[0m\u001b[0mshape\u001b[0m\u001b[1;33m[\u001b[0m\u001b[1;36m0\u001b[0m\u001b[1;33m]\u001b[0m\u001b[1;33m:\u001b[0m\u001b[1;33m\u001b[0m\u001b[1;33m\u001b[0m\u001b[0m\n\u001b[1;32m--> 399\u001b[1;33m             raise ValueError(f\"x and y must have same first dimension, but \"\n\u001b[0m\u001b[0;32m    400\u001b[0m                              f\"have shapes {x.shape} and {y.shape}\")\n\u001b[0;32m    401\u001b[0m         \u001b[1;32mif\u001b[0m \u001b[0mx\u001b[0m\u001b[1;33m.\u001b[0m\u001b[0mndim\u001b[0m \u001b[1;33m>\u001b[0m \u001b[1;36m2\u001b[0m \u001b[1;32mor\u001b[0m \u001b[0my\u001b[0m\u001b[1;33m.\u001b[0m\u001b[0mndim\u001b[0m \u001b[1;33m>\u001b[0m \u001b[1;36m2\u001b[0m\u001b[1;33m:\u001b[0m\u001b[1;33m\u001b[0m\u001b[1;33m\u001b[0m\u001b[0m\n",
      "\u001b[1;31mValueError\u001b[0m: x and y must have same first dimension, but have shapes (723,) and (721,)"
     ]
    },
    {
     "data": {
      "image/png": "[encoded data removed]",
      "text/plain": [
       "<Figure size 432x288 with 1 Axes>"
      ]
     },
     "metadata": {
      "needs_background": "light"
     },
     "output_type": "display_data"
    }
   ],
   "source": [
    "## Rest\n",
    "\n",
    "x = np.linspace(0,722,723)\n",
    "y = df_rest_control_NEW.mean(axis=1)\n",
    "#print(\"len x\",len(x))\n",
    "#print(\"len y\",len(y))\n",
    "\n",
    "\n",
    "\n",
    "# fit a linear curve an estimate its y-values and their error.\n",
    "a, b = np.polyfit(x, y, deg=1)\n",
    "y_est_ctrl = df_rest_control_NEW.mean(axis=1)\n",
    "y_err_ctrl = df_rest_control_NEW.sem(axis=1)\n",
    "\n",
    "y_est_con=df_rest_continuous_NEW.mean(axis=1)\n",
    "y_err_con = df_rest_continuous_NEW.sem(axis=1)\n",
    "\n",
    "\n",
    "fig, ax = plt.subplots()\n",
    "ax.plot(x, y_est_ctrl, '-', color='black',label=\"control\")\n",
    "ax.fill_between(x, y_est_ctrl - y_err_ctrl, y_est_ctrl + y_err_ctrl, alpha=0.2, color='black')\n",
    "\n",
    "ax.plot(x, y_est_con, '-', color='red',label=\"continuous light\")\n",
    "ax.fill_between(x, y_est_con - y_err_con, y_est_con + y_err_con, alpha=0.2, color='red')\n",
    "\n",
    "#rectangle = plt.Rectangle((88,0),150, 60, fc='grey', alpha=0.2)\n",
    "#plt.gca().add_patch(rectangle)\n",
    "\n",
    "ax.set_xlim(0,)\n",
    "#ax.set_ylim(0,20)\n",
    "ax.set_title(\"Rest Control\")\n",
    "ax.set_ylabel(\"Rest (min/h)\")\n",
    "plt.legend(loc=\"upper left\")\n",
    "    \n",
    "sns.despine(right=True, bottom=False)\n",
    "#fig.savefig(r\"E:\\LIN\\Acute_SD_Paper\\SD_Rebound\\Results\\Rest_pooled.pdf\")"
   ]
  },
  {
   "cell_type": "code",
   "execution_count": null,
   "id": "forward-enforcement",
   "metadata": {},
   "outputs": [],
   "source": []
  }
 ],
 "metadata": {
  "kernelspec": {
   "display_name": "Python 3 (ipykernel)",
   "language": "python",
   "name": "python3"
  },
  "language_info": {
   "codemirror_mode": {
    "name": "ipython",
    "version": 3
   },
   "file_extension": ".py",
   "mimetype": "text/x-python",
   "name": "python",
   "nbconvert_exporter": "python",
   "pygments_lexer": "ipython3",
   "version": "3.13.2"
  }
 },
 "nbformat": 4,
 "nbformat_minor": 5
}
